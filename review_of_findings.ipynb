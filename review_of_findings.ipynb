{
 "cells": [
  {
   "cell_type": "markdown",
   "id": "4cb29547-3593-4198-9b02-7754bd64fd33",
   "metadata": {},
   "source": [
    "## Review of Findings ##\n",
    "This study has explored 3 modeling stratergies to try and"
   ]
  },
  {
   "cell_type": "code",
   "execution_count": null,
   "id": "69ca2c65-5e9e-472c-b967-866a8f5d9a97",
   "metadata": {},
   "outputs": [],
   "source": []
  }
 ],
 "metadata": {
  "kernelspec": {
   "display_name": "Python 3 (ipykernel)",
   "language": "python",
   "name": "python3"
  },
  "language_info": {
   "codemirror_mode": {
    "name": "ipython",
    "version": 3
   },
   "file_extension": ".py",
   "mimetype": "text/x-python",
   "name": "python",
   "nbconvert_exporter": "python",
   "pygments_lexer": "ipython3",
   "version": "3.10.6"
  }
 },
 "nbformat": 4,
 "nbformat_minor": 5
}
