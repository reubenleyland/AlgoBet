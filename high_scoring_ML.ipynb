{
 "cells": [
  {
   "cell_type": "markdown",
   "id": "78faeb48-9edc-4438-89b4-b840ba5cb3ab",
   "metadata": {},
   "source": [
    "# High scoring games ML model #\n",
    "Utilsing a decision tree to help provide insight into potential high scoring games in attempts to close the house edge.\n",
    "\n",
    "Uses instruction from https://www.youtube.com/watch?v=0irmDBWLrco"
   ]
  },
  {
   "cell_type": "markdown",
   "id": "3d992a39-1f9b-4a62-9a09-e02ad27dd921",
   "metadata": {},
   "source": [
    "Imports:"
   ]
  },
  {
   "cell_type": "code",
   "execution_count": 1,
   "id": "798abf02-016a-47d7-92c0-13ca7a78256c",
   "metadata": {},
   "outputs": [],
   "source": [
    "#import\n",
    "import pandas as pd\n",
    "\n",
    "\n",
    "#read our data\n",
    "matches= pd.read_csv(\"data_21_23.csv\")"
   ]
  },
  {
   "cell_type": "markdown",
   "id": "80cf51ed-626f-4bfa-beac-82f80d294c67",
   "metadata": {},
   "source": [
    "import the ml stuff"
   ]
  },
  {
   "cell_type": "code",
   "execution_count": 2,
   "id": "d835e7b7-ff37-4f07-9deb-9474a6b4caea",
   "metadata": {},
   "outputs": [],
   "source": [
    "from sklearn.ensemble import RandomForestClassifier"
   ]
  },
  {
   "cell_type": "code",
   "execution_count": 3,
   "id": "8ef42da4-74ed-4ed5-bf77-0c89fb4bcac4",
   "metadata": {},
   "outputs": [],
   "source": [
    "rf = RandomForestClassifier(n_estimators=50, min_samples_split=10, random_state=1)"
   ]
  },
  {
   "cell_type": "markdown",
   "id": "8d67267f-da2d-44bd-82d3-5609b6875ccf",
   "metadata": {},
   "source": [
    "# Prepare the data for ML #\n",
    "We need to prepare our data, inclusing selecting test and training data"
   ]
  },
  {
   "cell_type": "markdown",
   "id": "7f213274-1e90-41e1-a1a0-12c30e59fede",
   "metadata": {},
   "source": [
    "Unlike the video, we aren't trying to predict the outcome of the game, just what will be high scoring. As such the useful parameter are differnt."
   ]
  },
  {
   "cell_type": "code",
   "execution_count": 4,
   "id": "a838b21f-603f-483e-b85c-52e5f4c343bd",
   "metadata": {},
   "outputs": [],
   "source": [
    "matches[\"home_code\"]= matches[\"HomeTeam\"].astype(\"category\").cat.codes"
   ]
  },
  {
   "cell_type": "code",
   "execution_count": 5,
   "id": "424cf879-5cd4-410b-919b-40be1934928d",
   "metadata": {},
   "outputs": [],
   "source": [
    "matches[\"away_code\"]= matches[\"AwayTeam\"].astype(\"category\").cat.codes"
   ]
  },
  {
   "cell_type": "code",
   "execution_count": 6,
   "id": "d559f6c7-ad1b-4d28-bbf9-e773cf96735e",
   "metadata": {},
   "outputs": [],
   "source": [
    "matches['Date'] = pd.to_datetime(matches['Date'])\n",
    "matches[\"Day_code\"] = matches[\"Date\"].dt.dayofweek"
   ]
  },
  {
   "cell_type": "code",
   "execution_count": 7,
   "id": "0e308567-e837-4970-bab0-1274b70e931a",
   "metadata": {},
   "outputs": [
    {
     "name": "stdout",
     "output_type": "stream",
     "text": [
      "  Div       Date   Time        HomeTeam       AwayTeam  FTHG  FTAG FTR  HTHG  \\\n",
      "0  E0 2022-08-05  20:00  Crystal Palace        Arsenal   0.0   2.0   A   0.0   \n",
      "1  E0 2022-08-06  12:30          Fulham      Liverpool   2.0   2.0   D   1.0   \n",
      "2  E0 2022-08-06  15:00     Bournemouth    Aston Villa   2.0   0.0   H   1.0   \n",
      "3  E0 2022-08-06  15:00           Leeds         Wolves   2.0   1.0   H   1.0   \n",
      "4  E0 2022-08-06  15:00       Newcastle  Nott'm Forest   2.0   0.0   H   0.0   \n",
      "\n",
      "   HTAG  ... B365CAHA PCAHH  PCAHA  MaxCAHH  MaxCAHA  AvgCAHH  AvgCAHA  \\\n",
      "0   1.0  ...     1.84  2.04   1.88     2.09     1.88     2.03     1.85   \n",
      "1   0.0  ...     2.03  1.91   2.02     2.01     2.06     1.89     1.99   \n",
      "2   0.0  ...     2.00  1.93   2.00     1.94     2.04     1.88     2.00   \n",
      "3   1.0  ...     1.85  2.10   1.84     2.14     1.87     2.08     1.81   \n",
      "4   0.0  ...     1.96  1.99   1.93     2.19     1.97     2.03     1.86   \n",
      "\n",
      "   home_code  away_code  Day_code  \n",
      "0          7          0       4.0  \n",
      "1          9         12       5.0  \n",
      "2          2          1       5.0  \n",
      "3         10         22       5.0  \n",
      "4         15         17       5.0  \n",
      "\n",
      "[5 rows x 109 columns]\n"
     ]
    }
   ],
   "source": [
    "print(matches.head())"
   ]
  },
  {
   "cell_type": "markdown",
   "id": "8deb6979-3827-4669-93ec-e8cdb2e80b9c",
   "metadata": {},
   "source": [
    "We also need to create a target colmun detailing whether or not there were >=3 goals in the game."
   ]
  },
  {
   "cell_type": "code",
   "execution_count": 8,
   "id": "6f14dd87-2e10-4ac6-871d-32ff46fe0dbd",
   "metadata": {},
   "outputs": [],
   "source": [
    "matches['high_scoring'] = (matches['FTHG'] + matches['FTAG'] >= 3).astype(int)\n"
   ]
  },
  {
   "cell_type": "code",
   "execution_count": 9,
   "id": "a9f733e6-9b13-4582-afac-887e4e27f452",
   "metadata": {},
   "outputs": [
    {
     "name": "stdout",
     "output_type": "stream",
     "text": [
      "  Div       Date   Time        HomeTeam       AwayTeam  FTHG  FTAG FTR  HTHG  \\\n",
      "0  E0 2022-08-05  20:00  Crystal Palace        Arsenal   0.0   2.0   A   0.0   \n",
      "1  E0 2022-08-06  12:30          Fulham      Liverpool   2.0   2.0   D   1.0   \n",
      "2  E0 2022-08-06  15:00     Bournemouth    Aston Villa   2.0   0.0   H   1.0   \n",
      "3  E0 2022-08-06  15:00           Leeds         Wolves   2.0   1.0   H   1.0   \n",
      "4  E0 2022-08-06  15:00       Newcastle  Nott'm Forest   2.0   0.0   H   0.0   \n",
      "\n",
      "   HTAG  ... PCAHH PCAHA  MaxCAHH  MaxCAHA  AvgCAHH  AvgCAHA  home_code  \\\n",
      "0   1.0  ...  2.04  1.88     2.09     1.88     2.03     1.85          7   \n",
      "1   0.0  ...  1.91  2.02     2.01     2.06     1.89     1.99          9   \n",
      "2   0.0  ...  1.93  2.00     1.94     2.04     1.88     2.00          2   \n",
      "3   1.0  ...  2.10  1.84     2.14     1.87     2.08     1.81         10   \n",
      "4   0.0  ...  1.99  1.93     2.19     1.97     2.03     1.86         15   \n",
      "\n",
      "   away_code  Day_code  high_scoring  \n",
      "0          0       4.0             0  \n",
      "1         12       5.0             1  \n",
      "2          1       5.0             0  \n",
      "3         22       5.0             1  \n",
      "4         17       5.0             0  \n",
      "\n",
      "[5 rows x 110 columns]\n"
     ]
    }
   ],
   "source": [
    "print(matches.head())"
   ]
  },
  {
   "cell_type": "markdown",
   "id": "c89cd4cb-31fa-4de8-86f3-cef4b014e1ec",
   "metadata": {},
   "source": [
    "# Training the model #\n",
    "Now to choose the predictors: these all need to be data points that are obtainable pre match to feed into the model, and features that are likley to affect the number of goals scored.\n",
    "I have chosen to include the odds of >2.5 from bet365. This is included to encapsulate the bookmakers opinion. B365 are chosen as they are one of the biggest bookmakers so are likley to maintain good odds. I am also banned from bet365, so can't bet there so might as well use their information for other purposes."
   ]
  },
  {
   "cell_type": "code",
   "execution_count": 10,
   "id": "75c0b3cb-ebc0-442b-aa72-7b933357ca05",
   "metadata": {},
   "outputs": [],
   "source": [
    "train = matches[matches[\"Date\"]<\"2022-01-08\"]"
   ]
  },
  {
   "cell_type": "code",
   "execution_count": 11,
   "id": "3a5402dd-438e-4c5a-83da-2887e3dc9e70",
   "metadata": {},
   "outputs": [],
   "source": [
    "test = matches[matches[\"Date\"]>\"2022-01-08\"]"
   ]
  },
  {
   "cell_type": "code",
   "execution_count": 12,
   "id": "ba642bad-d46b-4b7c-804e-08dbe933c6fa",
   "metadata": {},
   "outputs": [],
   "source": [
    "predictors = [\"Day_code\",\"home_code\",\"away_code\", \"B365>2.5\"]"
   ]
  },
  {
   "cell_type": "code",
   "execution_count": 14,
   "id": "61d7405d-5c36-464a-a640-29ca5180a495",
   "metadata": {},
   "outputs": [
    {
     "data": {
      "text/html": [
       "<style>#sk-container-id-2 {color: black;}#sk-container-id-2 pre{padding: 0;}#sk-container-id-2 div.sk-toggleable {background-color: white;}#sk-container-id-2 label.sk-toggleable__label {cursor: pointer;display: block;width: 100%;margin-bottom: 0;padding: 0.3em;box-sizing: border-box;text-align: center;}#sk-container-id-2 label.sk-toggleable__label-arrow:before {content: \"▸\";float: left;margin-right: 0.25em;color: #696969;}#sk-container-id-2 label.sk-toggleable__label-arrow:hover:before {color: black;}#sk-container-id-2 div.sk-estimator:hover label.sk-toggleable__label-arrow:before {color: black;}#sk-container-id-2 div.sk-toggleable__content {max-height: 0;max-width: 0;overflow: hidden;text-align: left;background-color: #f0f8ff;}#sk-container-id-2 div.sk-toggleable__content pre {margin: 0.2em;color: black;border-radius: 0.25em;background-color: #f0f8ff;}#sk-container-id-2 input.sk-toggleable__control:checked~div.sk-toggleable__content {max-height: 200px;max-width: 100%;overflow: auto;}#sk-container-id-2 input.sk-toggleable__control:checked~label.sk-toggleable__label-arrow:before {content: \"▾\";}#sk-container-id-2 div.sk-estimator input.sk-toggleable__control:checked~label.sk-toggleable__label {background-color: #d4ebff;}#sk-container-id-2 div.sk-label input.sk-toggleable__control:checked~label.sk-toggleable__label {background-color: #d4ebff;}#sk-container-id-2 input.sk-hidden--visually {border: 0;clip: rect(1px 1px 1px 1px);clip: rect(1px, 1px, 1px, 1px);height: 1px;margin: -1px;overflow: hidden;padding: 0;position: absolute;width: 1px;}#sk-container-id-2 div.sk-estimator {font-family: monospace;background-color: #f0f8ff;border: 1px dotted black;border-radius: 0.25em;box-sizing: border-box;margin-bottom: 0.5em;}#sk-container-id-2 div.sk-estimator:hover {background-color: #d4ebff;}#sk-container-id-2 div.sk-parallel-item::after {content: \"\";width: 100%;border-bottom: 1px solid gray;flex-grow: 1;}#sk-container-id-2 div.sk-label:hover label.sk-toggleable__label {background-color: #d4ebff;}#sk-container-id-2 div.sk-serial::before {content: \"\";position: absolute;border-left: 1px solid gray;box-sizing: border-box;top: 0;bottom: 0;left: 50%;z-index: 0;}#sk-container-id-2 div.sk-serial {display: flex;flex-direction: column;align-items: center;background-color: white;padding-right: 0.2em;padding-left: 0.2em;position: relative;}#sk-container-id-2 div.sk-item {position: relative;z-index: 1;}#sk-container-id-2 div.sk-parallel {display: flex;align-items: stretch;justify-content: center;background-color: white;position: relative;}#sk-container-id-2 div.sk-item::before, #sk-container-id-2 div.sk-parallel-item::before {content: \"\";position: absolute;border-left: 1px solid gray;box-sizing: border-box;top: 0;bottom: 0;left: 50%;z-index: -1;}#sk-container-id-2 div.sk-parallel-item {display: flex;flex-direction: column;z-index: 1;position: relative;background-color: white;}#sk-container-id-2 div.sk-parallel-item:first-child::after {align-self: flex-end;width: 50%;}#sk-container-id-2 div.sk-parallel-item:last-child::after {align-self: flex-start;width: 50%;}#sk-container-id-2 div.sk-parallel-item:only-child::after {width: 0;}#sk-container-id-2 div.sk-dashed-wrapped {border: 1px dashed gray;margin: 0 0.4em 0.5em 0.4em;box-sizing: border-box;padding-bottom: 0.4em;background-color: white;}#sk-container-id-2 div.sk-label label {font-family: monospace;font-weight: bold;display: inline-block;line-height: 1.2em;}#sk-container-id-2 div.sk-label-container {text-align: center;}#sk-container-id-2 div.sk-container {/* jupyter's `normalize.less` sets `[hidden] { display: none; }` but bootstrap.min.css set `[hidden] { display: none !important; }` so we also need the `!important` here to be able to override the default hidden behavior on the sphinx rendered scikit-learn.org. See: https://github.com/scikit-learn/scikit-learn/issues/21755 */display: inline-block !important;position: relative;}#sk-container-id-2 div.sk-text-repr-fallback {display: none;}</style><div id=\"sk-container-id-2\" class=\"sk-top-container\"><div class=\"sk-text-repr-fallback\"><pre>RandomForestClassifier(min_samples_split=10, n_estimators=50, random_state=1)</pre><b>In a Jupyter environment, please rerun this cell to show the HTML representation or trust the notebook. <br />On GitHub, the HTML representation is unable to render, please try loading this page with nbviewer.org.</b></div><div class=\"sk-container\" hidden><div class=\"sk-item\"><div class=\"sk-estimator sk-toggleable\"><input class=\"sk-toggleable__control sk-hidden--visually\" id=\"sk-estimator-id-2\" type=\"checkbox\" checked><label for=\"sk-estimator-id-2\" class=\"sk-toggleable__label sk-toggleable__label-arrow\">RandomForestClassifier</label><div class=\"sk-toggleable__content\"><pre>RandomForestClassifier(min_samples_split=10, n_estimators=50, random_state=1)</pre></div></div></div></div></div>"
      ],
      "text/plain": [
       "RandomForestClassifier(min_samples_split=10, n_estimators=50, random_state=1)"
      ]
     },
     "execution_count": 14,
     "metadata": {},
     "output_type": "execute_result"
    }
   ],
   "source": [
    "rf.fit(train[predictors],train[\"high_scoring\"])"
   ]
  },
  {
   "cell_type": "code",
   "execution_count": null,
   "id": "a917a3df-85b6-40ce-983e-243a09a76775",
   "metadata": {},
   "outputs": [],
   "source": []
  }
 ],
 "metadata": {
  "kernelspec": {
   "display_name": "Python 3 (ipykernel)",
   "language": "python",
   "name": "python3"
  },
  "language_info": {
   "codemirror_mode": {
    "name": "ipython",
    "version": 3
   },
   "file_extension": ".py",
   "mimetype": "text/x-python",
   "name": "python",
   "nbconvert_exporter": "python",
   "pygments_lexer": "ipython3",
   "version": "3.10.6"
  }
 },
 "nbformat": 4,
 "nbformat_minor": 5
}
