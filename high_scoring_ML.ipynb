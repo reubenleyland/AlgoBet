{
 "cells": [
  {
   "cell_type": "markdown",
   "id": "78faeb48-9edc-4438-89b4-b840ba5cb3ab",
   "metadata": {},
   "source": [
    "# High scoring games ML model #\n",
    "Utilsing a decision tree to help provide insight into potential high scoring games in attempts to close the house edge.\n",
    "\n",
    "Uses instruction from https://www.youtube.com/watch?v=0irmDBWLrco"
   ]
  },
  {
   "cell_type": "markdown",
   "id": "3d992a39-1f9b-4a62-9a09-e02ad27dd921",
   "metadata": {},
   "source": [
    "Imports:"
   ]
  },
  {
   "cell_type": "code",
   "execution_count": 1,
   "id": "798abf02-016a-47d7-92c0-13ca7a78256c",
   "metadata": {},
   "outputs": [],
   "source": [
    "#import\n",
    "import pandas as pd\n",
    "\n",
    "\n",
    "#read our data\n",
    "matches= pd.read_csv(\"data_21_23.csv\")"
   ]
  },
  {
   "cell_type": "markdown",
   "id": "80cf51ed-626f-4bfa-beac-82f80d294c67",
   "metadata": {},
   "source": [
    "import the ml stuff"
   ]
  },
  {
   "cell_type": "code",
   "execution_count": 2,
   "id": "d835e7b7-ff37-4f07-9deb-9474a6b4caea",
   "metadata": {},
   "outputs": [],
   "source": [
    "from sklearn.ensemble import RandomForestClassifier"
   ]
  },
  {
   "cell_type": "code",
   "execution_count": 3,
   "id": "8ef42da4-74ed-4ed5-bf77-0c89fb4bcac4",
   "metadata": {},
   "outputs": [],
   "source": [
    "rf = RandomForestClassifier(n_estimators=50, min_samples_split=10, random_state=1)"
   ]
  },
  {
   "cell_type": "markdown",
   "id": "8d67267f-da2d-44bd-82d3-5609b6875ccf",
   "metadata": {},
   "source": [
    "# Prepare the data for ML #\n",
    "We need to prepare our data, inclusing selecting test and training data"
   ]
  },
  {
   "cell_type": "code",
   "execution_count": 4,
   "id": "13c488f4-eaa7-4ac9-adab-83261373c9af",
   "metadata": {},
   "outputs": [],
   "source": [
    "train = matches[matches[\"Date\"]<\"2022-01-08\"]"
   ]
  },
  {
   "cell_type": "code",
   "execution_count": 5,
   "id": "355eb700-b645-4f71-bdca-25918ba908b4",
   "metadata": {},
   "outputs": [],
   "source": [
    "test = matches[matches[\"Date\"]>\"2022-01-08\"]"
   ]
  },
  {
   "cell_type": "markdown",
   "id": "7f213274-1e90-41e1-a1a0-12c30e59fede",
   "metadata": {},
   "source": [
    "Unlike the video, we aren't trying to predict the outcome of the game, just what will be high scoring. As such the useful parameter are differnt."
   ]
  },
  {
   "cell_type": "code",
   "execution_count": 6,
   "id": "a838b21f-603f-483e-b85c-52e5f4c343bd",
   "metadata": {},
   "outputs": [],
   "source": [
    "matches[\"opp_code\"]= matches[\"HomeTeam\"].astype(\"category\").cat.codes"
   ]
  },
  {
   "cell_type": "code",
   "execution_count": 7,
   "id": "d559f6c7-ad1b-4d28-bbf9-e773cf96735e",
   "metadata": {},
   "outputs": [],
   "source": [
    "matches['Date'] = pd.to_datetime(matches['Date'])\n",
    "matches[\"Day_code\"] = matches[\"Date\"].dt.dayofweek"
   ]
  },
  {
   "cell_type": "code",
   "execution_count": 9,
   "id": "0e308567-e837-4970-bab0-1274b70e931a",
   "metadata": {},
   "outputs": [
    {
     "name": "stdout",
     "output_type": "stream",
     "text": [
      "  Div       Date   Time        HomeTeam       AwayTeam  FTHG  FTAG FTR  HTHG  \\\n",
      "0  E0 2022-08-05  20:00  Crystal Palace        Arsenal   0.0   2.0   A   0.0   \n",
      "1  E0 2022-08-06  12:30          Fulham      Liverpool   2.0   2.0   D   1.0   \n",
      "2  E0 2022-08-06  15:00     Bournemouth    Aston Villa   2.0   0.0   H   1.0   \n",
      "3  E0 2022-08-06  15:00           Leeds         Wolves   2.0   1.0   H   1.0   \n",
      "4  E0 2022-08-06  15:00       Newcastle  Nott'm Forest   2.0   0.0   H   0.0   \n",
      "\n",
      "   HTAG  ... B365CAHH B365CAHA  PCAHH  PCAHA  MaxCAHH  MaxCAHA  AvgCAHH  \\\n",
      "0   1.0  ...     2.09     1.84   2.04   1.88     2.09     1.88     2.03   \n",
      "1   0.0  ...     1.90     2.03   1.91   2.02     2.01     2.06     1.89   \n",
      "2   0.0  ...     1.93     2.00   1.93   2.00     1.94     2.04     1.88   \n",
      "3   1.0  ...     2.08     1.85   2.10   1.84     2.14     1.87     2.08   \n",
      "4   0.0  ...     1.97     1.96   1.99   1.93     2.19     1.97     2.03   \n",
      "\n",
      "   AvgCAHA  opp_code  Day_code  \n",
      "0     1.85         7       4.0  \n",
      "1     1.99         9       5.0  \n",
      "2     2.00         2       5.0  \n",
      "3     1.81        10       5.0  \n",
      "4     1.86        15       5.0  \n",
      "\n",
      "[5 rows x 108 columns]\n"
     ]
    }
   ],
   "source": [
    "print(matches.head())"
   ]
  },
  {
   "cell_type": "markdown",
   "id": "8deb6979-3827-4669-93ec-e8cdb2e80b9c",
   "metadata": {},
   "source": [
    "We also need to create a target colmun detailing whether or not there were >=3 goals in the game."
   ]
  },
  {
   "cell_type": "code",
   "execution_count": null,
   "id": "6f14dd87-2e10-4ac6-871d-32ff46fe0dbd",
   "metadata": {},
   "outputs": [],
   "source": []
  }
 ],
 "metadata": {
  "kernelspec": {
   "display_name": "Python 3 (ipykernel)",
   "language": "python",
   "name": "python3"
  },
  "language_info": {
   "codemirror_mode": {
    "name": "ipython",
    "version": 3
   },
   "file_extension": ".py",
   "mimetype": "text/x-python",
   "name": "python",
   "nbconvert_exporter": "python",
   "pygments_lexer": "ipython3",
   "version": "3.10.6"
  }
 },
 "nbformat": 4,
 "nbformat_minor": 5
}
