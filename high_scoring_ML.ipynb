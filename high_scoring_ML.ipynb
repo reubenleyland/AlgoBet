{
 "cells": [
  {
   "cell_type": "markdown",
   "id": "78faeb48-9edc-4438-89b4-b840ba5cb3ab",
   "metadata": {},
   "source": [
    "# High scoring games ML model #\n",
    "Utilsing a decision tree to help provide insight into potential high scoring games in attempts to close the house edge.\n",
    "\n",
    "Uses instruction from https://www.youtube.com/watch?v=0irmDBWLrco"
   ]
  },
  {
   "cell_type": "markdown",
   "id": "3d992a39-1f9b-4a62-9a09-e02ad27dd921",
   "metadata": {},
   "source": [
    "Imports:"
   ]
  },
  {
   "cell_type": "code",
   "execution_count": 1,
   "id": "798abf02-016a-47d7-92c0-13ca7a78256c",
   "metadata": {},
   "outputs": [],
   "source": [
    "#import\n",
    "import pandas as pd\n",
    "\n",
    "\n",
    "#read our data\n",
    "matches= pd.read_csv(\"data_21_23.csv\")"
   ]
  },
  {
   "cell_type": "markdown",
   "id": "80cf51ed-626f-4bfa-beac-82f80d294c67",
   "metadata": {},
   "source": [
    "import the ml stuff"
   ]
  },
  {
   "cell_type": "code",
   "execution_count": 2,
   "id": "d835e7b7-ff37-4f07-9deb-9474a6b4caea",
   "metadata": {},
   "outputs": [],
   "source": [
    "from sklearn.ensemble import RandomForestClassifier"
   ]
  },
  {
   "cell_type": "code",
   "execution_count": 3,
   "id": "8ef42da4-74ed-4ed5-bf77-0c89fb4bcac4",
   "metadata": {},
   "outputs": [],
   "source": [
    "rf = RandomForestClassifier(n_estimators=50, min_samples_split=10, random_state=1)"
   ]
  },
  {
   "cell_type": "markdown",
   "id": "8d67267f-da2d-44bd-82d3-5609b6875ccf",
   "metadata": {},
   "source": [
    "# Prepare the data for ML #\n",
    "We need to prepare our data, inclusing selecting test and training data"
   ]
  },
  {
   "cell_type": "markdown",
   "id": "7f213274-1e90-41e1-a1a0-12c30e59fede",
   "metadata": {},
   "source": [
    "Unlike the video, we aren't trying to predict the outcome of the game, just what will be high scoring. As such the useful parameter are differnt."
   ]
  },
  {
   "cell_type": "code",
   "execution_count": 4,
   "id": "a838b21f-603f-483e-b85c-52e5f4c343bd",
   "metadata": {},
   "outputs": [],
   "source": [
    "matches[\"home_code\"]= matches[\"HomeTeam\"].astype(\"category\").cat.codes"
   ]
  },
  {
   "cell_type": "code",
   "execution_count": 5,
   "id": "424cf879-5cd4-410b-919b-40be1934928d",
   "metadata": {},
   "outputs": [],
   "source": [
    "matches[\"away_code\"]= matches[\"AwayTeam\"].astype(\"category\").cat.codes"
   ]
  },
  {
   "cell_type": "code",
   "execution_count": 6,
   "id": "d559f6c7-ad1b-4d28-bbf9-e773cf96735e",
   "metadata": {},
   "outputs": [],
   "source": [
    "matches['Date'] = pd.to_datetime(matches['Date'])\n",
    "matches[\"Day_code\"] = matches[\"Date\"].dt.dayofweek"
   ]
  },
  {
   "cell_type": "code",
   "execution_count": 7,
   "id": "0e308567-e837-4970-bab0-1274b70e931a",
   "metadata": {},
   "outputs": [
    {
     "name": "stdout",
     "output_type": "stream",
     "text": [
      "  Div       Date   Time        HomeTeam       AwayTeam  FTHG  FTAG FTR  HTHG  \\\n",
      "0  E0 2022-08-05  20:00  Crystal Palace        Arsenal   0.0   2.0   A   0.0   \n",
      "1  E0 2022-08-06  12:30          Fulham      Liverpool   2.0   2.0   D   1.0   \n",
      "2  E0 2022-08-06  15:00     Bournemouth    Aston Villa   2.0   0.0   H   1.0   \n",
      "3  E0 2022-08-06  15:00           Leeds         Wolves   2.0   1.0   H   1.0   \n",
      "4  E0 2022-08-06  15:00       Newcastle  Nott'm Forest   2.0   0.0   H   0.0   \n",
      "\n",
      "   HTAG  ... B365CAHA PCAHH  PCAHA  MaxCAHH  MaxCAHA  AvgCAHH  AvgCAHA  \\\n",
      "0   1.0  ...     1.84  2.04   1.88     2.09     1.88     2.03     1.85   \n",
      "1   0.0  ...     2.03  1.91   2.02     2.01     2.06     1.89     1.99   \n",
      "2   0.0  ...     2.00  1.93   2.00     1.94     2.04     1.88     2.00   \n",
      "3   1.0  ...     1.85  2.10   1.84     2.14     1.87     2.08     1.81   \n",
      "4   0.0  ...     1.96  1.99   1.93     2.19     1.97     2.03     1.86   \n",
      "\n",
      "   home_code  away_code  Day_code  \n",
      "0          7          0       4.0  \n",
      "1          9         12       5.0  \n",
      "2          2          1       5.0  \n",
      "3         10         22       5.0  \n",
      "4         15         17       5.0  \n",
      "\n",
      "[5 rows x 109 columns]\n"
     ]
    }
   ],
   "source": [
    "print(matches.head())"
   ]
  },
  {
   "cell_type": "markdown",
   "id": "8deb6979-3827-4669-93ec-e8cdb2e80b9c",
   "metadata": {},
   "source": [
    "We also need to create a target colmun detailing whether or not there were >=3 goals in the game."
   ]
  },
  {
   "cell_type": "code",
   "execution_count": 8,
   "id": "6f14dd87-2e10-4ac6-871d-32ff46fe0dbd",
   "metadata": {},
   "outputs": [],
   "source": [
    "matches['high_scoring'] = (matches['FTHG'] + matches['FTAG'] >= 3).astype(int)\n"
   ]
  },
  {
   "cell_type": "code",
   "execution_count": 9,
   "id": "a9f733e6-9b13-4582-afac-887e4e27f452",
   "metadata": {},
   "outputs": [
    {
     "name": "stdout",
     "output_type": "stream",
     "text": [
      "  Div       Date   Time        HomeTeam       AwayTeam  FTHG  FTAG FTR  HTHG  \\\n",
      "0  E0 2022-08-05  20:00  Crystal Palace        Arsenal   0.0   2.0   A   0.0   \n",
      "1  E0 2022-08-06  12:30          Fulham      Liverpool   2.0   2.0   D   1.0   \n",
      "2  E0 2022-08-06  15:00     Bournemouth    Aston Villa   2.0   0.0   H   1.0   \n",
      "3  E0 2022-08-06  15:00           Leeds         Wolves   2.0   1.0   H   1.0   \n",
      "4  E0 2022-08-06  15:00       Newcastle  Nott'm Forest   2.0   0.0   H   0.0   \n",
      "\n",
      "   HTAG  ... PCAHH PCAHA  MaxCAHH  MaxCAHA  AvgCAHH  AvgCAHA  home_code  \\\n",
      "0   1.0  ...  2.04  1.88     2.09     1.88     2.03     1.85          7   \n",
      "1   0.0  ...  1.91  2.02     2.01     2.06     1.89     1.99          9   \n",
      "2   0.0  ...  1.93  2.00     1.94     2.04     1.88     2.00          2   \n",
      "3   1.0  ...  2.10  1.84     2.14     1.87     2.08     1.81         10   \n",
      "4   0.0  ...  1.99  1.93     2.19     1.97     2.03     1.86         15   \n",
      "\n",
      "   away_code  Day_code  high_scoring  \n",
      "0          0       4.0             0  \n",
      "1         12       5.0             1  \n",
      "2          1       5.0             0  \n",
      "3         22       5.0             1  \n",
      "4         17       5.0             0  \n",
      "\n",
      "[5 rows x 110 columns]\n"
     ]
    }
   ],
   "source": [
    "print(matches.head())"
   ]
  },
  {
   "cell_type": "markdown",
   "id": "c89cd4cb-31fa-4de8-86f3-cef4b014e1ec",
   "metadata": {},
   "source": [
    "# Training the model #\n",
    "Now to choose the predictors: these all need to be data points that are obtainable pre match to feed into the model, and features that are likley to affect the number of goals scored.\n",
    "I have chosen to include the odds of >2.5 from bet365. This is included to encapsulate the bookmakers opinion. B365 are chosen as they are one of the biggest bookmakers so are likley to maintain good odds. I am also banned from bet365, so can't bet there so might as well use their information for other purposes."
   ]
  },
  {
   "cell_type": "code",
   "execution_count": 10,
   "id": "75c0b3cb-ebc0-442b-aa72-7b933357ca05",
   "metadata": {},
   "outputs": [],
   "source": [
    "train = matches[matches[\"Date\"]<\"2022-01-08\"]"
   ]
  },
  {
   "cell_type": "code",
   "execution_count": 11,
   "id": "3a5402dd-438e-4c5a-83da-2887e3dc9e70",
   "metadata": {},
   "outputs": [],
   "source": [
    "test = matches[matches[\"Date\"]>\"2022-01-08\"]"
   ]
  },
  {
   "cell_type": "code",
   "execution_count": 12,
   "id": "ba642bad-d46b-4b7c-804e-08dbe933c6fa",
   "metadata": {},
   "outputs": [],
   "source": [
    "predictors = [\"Day_code\",\"home_code\",\"away_code\", \"B365>2.5\"]"
   ]
  },
  {
   "cell_type": "code",
   "execution_count": 13,
   "id": "61d7405d-5c36-464a-a640-29ca5180a495",
   "metadata": {},
   "outputs": [
    {
     "data": {
      "text/html": [
       "<style>#sk-container-id-1 {color: black;}#sk-container-id-1 pre{padding: 0;}#sk-container-id-1 div.sk-toggleable {background-color: white;}#sk-container-id-1 label.sk-toggleable__label {cursor: pointer;display: block;width: 100%;margin-bottom: 0;padding: 0.3em;box-sizing: border-box;text-align: center;}#sk-container-id-1 label.sk-toggleable__label-arrow:before {content: \"▸\";float: left;margin-right: 0.25em;color: #696969;}#sk-container-id-1 label.sk-toggleable__label-arrow:hover:before {color: black;}#sk-container-id-1 div.sk-estimator:hover label.sk-toggleable__label-arrow:before {color: black;}#sk-container-id-1 div.sk-toggleable__content {max-height: 0;max-width: 0;overflow: hidden;text-align: left;background-color: #f0f8ff;}#sk-container-id-1 div.sk-toggleable__content pre {margin: 0.2em;color: black;border-radius: 0.25em;background-color: #f0f8ff;}#sk-container-id-1 input.sk-toggleable__control:checked~div.sk-toggleable__content {max-height: 200px;max-width: 100%;overflow: auto;}#sk-container-id-1 input.sk-toggleable__control:checked~label.sk-toggleable__label-arrow:before {content: \"▾\";}#sk-container-id-1 div.sk-estimator input.sk-toggleable__control:checked~label.sk-toggleable__label {background-color: #d4ebff;}#sk-container-id-1 div.sk-label input.sk-toggleable__control:checked~label.sk-toggleable__label {background-color: #d4ebff;}#sk-container-id-1 input.sk-hidden--visually {border: 0;clip: rect(1px 1px 1px 1px);clip: rect(1px, 1px, 1px, 1px);height: 1px;margin: -1px;overflow: hidden;padding: 0;position: absolute;width: 1px;}#sk-container-id-1 div.sk-estimator {font-family: monospace;background-color: #f0f8ff;border: 1px dotted black;border-radius: 0.25em;box-sizing: border-box;margin-bottom: 0.5em;}#sk-container-id-1 div.sk-estimator:hover {background-color: #d4ebff;}#sk-container-id-1 div.sk-parallel-item::after {content: \"\";width: 100%;border-bottom: 1px solid gray;flex-grow: 1;}#sk-container-id-1 div.sk-label:hover label.sk-toggleable__label {background-color: #d4ebff;}#sk-container-id-1 div.sk-serial::before {content: \"\";position: absolute;border-left: 1px solid gray;box-sizing: border-box;top: 0;bottom: 0;left: 50%;z-index: 0;}#sk-container-id-1 div.sk-serial {display: flex;flex-direction: column;align-items: center;background-color: white;padding-right: 0.2em;padding-left: 0.2em;position: relative;}#sk-container-id-1 div.sk-item {position: relative;z-index: 1;}#sk-container-id-1 div.sk-parallel {display: flex;align-items: stretch;justify-content: center;background-color: white;position: relative;}#sk-container-id-1 div.sk-item::before, #sk-container-id-1 div.sk-parallel-item::before {content: \"\";position: absolute;border-left: 1px solid gray;box-sizing: border-box;top: 0;bottom: 0;left: 50%;z-index: -1;}#sk-container-id-1 div.sk-parallel-item {display: flex;flex-direction: column;z-index: 1;position: relative;background-color: white;}#sk-container-id-1 div.sk-parallel-item:first-child::after {align-self: flex-end;width: 50%;}#sk-container-id-1 div.sk-parallel-item:last-child::after {align-self: flex-start;width: 50%;}#sk-container-id-1 div.sk-parallel-item:only-child::after {width: 0;}#sk-container-id-1 div.sk-dashed-wrapped {border: 1px dashed gray;margin: 0 0.4em 0.5em 0.4em;box-sizing: border-box;padding-bottom: 0.4em;background-color: white;}#sk-container-id-1 div.sk-label label {font-family: monospace;font-weight: bold;display: inline-block;line-height: 1.2em;}#sk-container-id-1 div.sk-label-container {text-align: center;}#sk-container-id-1 div.sk-container {/* jupyter's `normalize.less` sets `[hidden] { display: none; }` but bootstrap.min.css set `[hidden] { display: none !important; }` so we also need the `!important` here to be able to override the default hidden behavior on the sphinx rendered scikit-learn.org. See: https://github.com/scikit-learn/scikit-learn/issues/21755 */display: inline-block !important;position: relative;}#sk-container-id-1 div.sk-text-repr-fallback {display: none;}</style><div id=\"sk-container-id-1\" class=\"sk-top-container\"><div class=\"sk-text-repr-fallback\"><pre>RandomForestClassifier(min_samples_split=10, n_estimators=50, random_state=1)</pre><b>In a Jupyter environment, please rerun this cell to show the HTML representation or trust the notebook. <br />On GitHub, the HTML representation is unable to render, please try loading this page with nbviewer.org.</b></div><div class=\"sk-container\" hidden><div class=\"sk-item\"><div class=\"sk-estimator sk-toggleable\"><input class=\"sk-toggleable__control sk-hidden--visually\" id=\"sk-estimator-id-1\" type=\"checkbox\" checked><label for=\"sk-estimator-id-1\" class=\"sk-toggleable__label sk-toggleable__label-arrow\">RandomForestClassifier</label><div class=\"sk-toggleable__content\"><pre>RandomForestClassifier(min_samples_split=10, n_estimators=50, random_state=1)</pre></div></div></div></div></div>"
      ],
      "text/plain": [
       "RandomForestClassifier(min_samples_split=10, n_estimators=50, random_state=1)"
      ]
     },
     "execution_count": 13,
     "metadata": {},
     "output_type": "execute_result"
    }
   ],
   "source": [
    "rf.fit(train[predictors],train[\"high_scoring\"])"
   ]
  },
  {
   "cell_type": "code",
   "execution_count": 14,
   "id": "a917a3df-85b6-40ce-983e-243a09a76775",
   "metadata": {},
   "outputs": [],
   "source": [
    "preds = rf.predict(test[predictors])"
   ]
  },
  {
   "cell_type": "code",
   "execution_count": 15,
   "id": "85abcb60-9b4b-46f6-8d44-48e1ad4e1aae",
   "metadata": {},
   "outputs": [],
   "source": [
    "from sklearn.metrics import accuracy_score"
   ]
  },
  {
   "cell_type": "code",
   "execution_count": 16,
   "id": "94537568-28d0-4dc2-a1a5-81cf6389fe7d",
   "metadata": {},
   "outputs": [],
   "source": [
    "acc = accuracy_score(test[\"high_scoring\"],preds)"
   ]
  },
  {
   "cell_type": "code",
   "execution_count": 17,
   "id": "0e8e1593-fa86-47c4-8940-61750fc43551",
   "metadata": {},
   "outputs": [
    {
     "data": {
      "text/plain": [
       "0.5676625659050967"
      ]
     },
     "execution_count": 17,
     "metadata": {},
     "output_type": "execute_result"
    }
   ],
   "source": [
    "acc"
   ]
  },
  {
   "cell_type": "markdown",
   "id": "18519b07-3c8b-4f51-8a6e-80fe0d161e39",
   "metadata": {},
   "source": [
    "This is theoretically enough to be profitable in the long run, with break even equvilant odds being 1.76 whilst av odds were 1.85. "
   ]
  },
  {
   "cell_type": "markdown",
   "id": "877f96be-71eb-4d26-ba24-304abe643517",
   "metadata": {},
   "source": [
    "Expected profit if this contiuned would be 0.56 x 1.85 = 1.05 or 5%"
   ]
  },
  {
   "cell_type": "code",
   "execution_count": 18,
   "id": "f1379f6f-85d9-4c7c-9839-2529f7882bd9",
   "metadata": {},
   "outputs": [],
   "source": [
    "combined = pd.DataFrame(dict(actual=test[\"high_scoring\"],prediction=preds))"
   ]
  },
  {
   "cell_type": "code",
   "execution_count": 19,
   "id": "1f6ceeac-c959-4eea-b43f-a444abf4a855",
   "metadata": {},
   "outputs": [
    {
     "data": {
      "text/html": [
       "<div>\n",
       "<style scoped>\n",
       "    .dataframe tbody tr th:only-of-type {\n",
       "        vertical-align: middle;\n",
       "    }\n",
       "\n",
       "    .dataframe tbody tr th {\n",
       "        vertical-align: top;\n",
       "    }\n",
       "\n",
       "    .dataframe thead th {\n",
       "        text-align: right;\n",
       "    }\n",
       "</style>\n",
       "<table border=\"1\" class=\"dataframe\">\n",
       "  <thead>\n",
       "    <tr style=\"text-align: right;\">\n",
       "      <th>prediction</th>\n",
       "      <th>0</th>\n",
       "      <th>1</th>\n",
       "    </tr>\n",
       "    <tr>\n",
       "      <th>actual</th>\n",
       "      <th></th>\n",
       "      <th></th>\n",
       "    </tr>\n",
       "  </thead>\n",
       "  <tbody>\n",
       "    <tr>\n",
       "      <th>0</th>\n",
       "      <td>108</td>\n",
       "      <td>160</td>\n",
       "    </tr>\n",
       "    <tr>\n",
       "      <th>1</th>\n",
       "      <td>86</td>\n",
       "      <td>215</td>\n",
       "    </tr>\n",
       "  </tbody>\n",
       "</table>\n",
       "</div>"
      ],
      "text/plain": [
       "prediction    0    1\n",
       "actual              \n",
       "0           108  160\n",
       "1            86  215"
      ]
     },
     "execution_count": 19,
     "metadata": {},
     "output_type": "execute_result"
    }
   ],
   "source": [
    "pd.crosstab(index=combined[\"actual\"],columns=combined[\"prediction\"])"
   ]
  },
  {
   "cell_type": "markdown",
   "id": "e6c2a56a-2e2f-4e33-a37c-af015764ede5",
   "metadata": {},
   "source": [
    "But as what we will bet on is when the model predcit that there will be a high scoring game, this is what we care about. So lets use that as the accuary."
   ]
  },
  {
   "cell_type": "code",
   "execution_count": 20,
   "id": "8e573842-b18a-4d7e-b5a8-7eaa30a9aa9d",
   "metadata": {},
   "outputs": [],
   "source": [
    "from sklearn.metrics import precision_score"
   ]
  },
  {
   "cell_type": "code",
   "execution_count": 21,
   "id": "c6ba2872-5b93-41e4-8dff-0fb72ed1d846",
   "metadata": {},
   "outputs": [],
   "source": [
    "prec=precision_score(test[\"high_scoring\"],preds)"
   ]
  },
  {
   "cell_type": "code",
   "execution_count": 22,
   "id": "0b12ba2b-35c6-477c-9b9b-8cdeddb7293d",
   "metadata": {},
   "outputs": [
    {
     "data": {
      "text/plain": [
       "0.5733333333333334"
      ]
     },
     "execution_count": 22,
     "metadata": {},
     "output_type": "execute_result"
    }
   ],
   "source": [
    "prec"
   ]
  },
  {
   "cell_type": "markdown",
   "id": "6e720088-0e97-4bae-a94a-6475090d82ac",
   "metadata": {},
   "source": [
    "Mildly higher"
   ]
  },
  {
   "cell_type": "markdown",
   "id": "0a75ca79-2d62-4644-a280-2a12545dc26e",
   "metadata": {},
   "source": [
    "## Imporve our model ##\n",
    "TO imporve the modle we will include rolling average of goals scored against and by these teams up to this game week"
   ]
  },
  {
   "cell_type": "code",
   "execution_count": 23,
   "id": "5b9aef49-ad8b-4ecc-a8bf-24e3fd1b71bc",
   "metadata": {},
   "outputs": [],
   "source": [
    "grouped_matches = matches.groupby(\"HomeTeam\")"
   ]
  },
  {
   "cell_type": "code",
   "execution_count": 24,
   "id": "1e5ec59a-61ce-4af0-8973-6674674e5003",
   "metadata": {},
   "outputs": [],
   "source": [
    "city_home=grouped_matches.get_group(\"Man City\")"
   ]
  },
  {
   "cell_type": "code",
   "execution_count": 25,
   "id": "a58b1cb3-cb24-462c-b5fd-129905e0436d",
   "metadata": {},
   "outputs": [],
   "source": [
    "def rolling_averages(group, cols, new_cols):\n",
    "    group = group.sort_values(\"Date\")\n",
    "    rolling_stats = group[cols].rolling(3, closed='left').mean()\n",
    "    group[new_cols] = rolling_stats\n",
    "    group = group.dropna(subset=new_cols)\n",
    "    return group"
   ]
  },
  {
   "cell_type": "code",
   "execution_count": 26,
   "id": "1cac5bb0-b477-4376-be32-9f8ac1ef834e",
   "metadata": {},
   "outputs": [],
   "source": [
    "cols = [\"FTHG\", \"FTAG\", \"B365>2.5\" ]\n",
    "new_cols =[f\"{c}_rolling\" for c in cols]"
   ]
  },
  {
   "cell_type": "code",
   "execution_count": 27,
   "id": "0a295621-5eae-47b3-be53-349c7a7d6cd3",
   "metadata": {},
   "outputs": [],
   "source": [
    "matches_rolling = matches.groupby(\"HomeTeam\").apply(lambda x: rolling_averages(x, cols, new_cols))"
   ]
  },
  {
   "cell_type": "code",
   "execution_count": 28,
   "id": "1e09c1e4-b732-4c40-a836-a28fbe29616e",
   "metadata": {},
   "outputs": [],
   "source": [
    "matches_rolling = matches_rolling.droplevel('HomeTeam')"
   ]
  },
  {
   "cell_type": "code",
   "execution_count": 29,
   "id": "d508160f-7d40-4a6f-9a7c-e6340b5b9b5c",
   "metadata": {},
   "outputs": [],
   "source": [
    "matches_rolling.index = range(matches_rolling.shape[0])"
   ]
  },
  {
   "cell_type": "code",
   "execution_count": 31,
   "id": "91e4b229-560b-423c-a9a6-22aa1aa6adc0",
   "metadata": {},
   "outputs": [],
   "source": [
    "def make_predictions(data, predictors):\n",
    "    train2 = data[data[\"Date\"] < '2022-01-08']\n",
    "    test2 = data[data[\"Date\"] > '2022-01-08']\n",
    "    rf.fit(train[predictors], train[\"high_scoring\"])\n",
    "    preds = rf.predict(test[predictors])\n",
    "    combined = pd.DataFrame(dict(actual=test[\"high_scoring\"], predicted=preds), index=test.index)\n",
    "    prec = precision_score(test[\"high_scoring\"], preds)\n",
    "    return combined, prec"
   ]
  },
  {
   "cell_type": "code",
   "execution_count": 32,
   "id": "6af98510-dfcd-4586-beb4-4164b0f5454b",
   "metadata": {},
   "outputs": [],
   "source": [
    "combined, prec = make_predictions(matches_rolling, predictors + new_cols)"
   ]
  },
  {
   "cell_type": "code",
   "execution_count": 34,
   "id": "bebbc590-a57c-4cda-9d09-cec08adcdcc8",
   "metadata": {},
   "outputs": [
    {
     "data": {
      "text/plain": [
       "0.5196374622356495"
      ]
     },
     "execution_count": 34,
     "metadata": {},
     "output_type": "execute_result"
    }
   ],
   "source": [
    "prec"
   ]
  },
  {
   "cell_type": "markdown",
   "id": "443e97ea-c015-4c50-9627-89f635dc2d37",
   "metadata": {},
   "source": [
    "## Irony ##\n",
    "In attempts to improve the model, the model got worse. Possible reasoning: the model worked best when the inputs were what teams are platying, when and the bookmaker odds. When more data is in put, the model precision drops. The bookmaker odds contain within themselfs much of this information, and it would seem a simpler system based on who is playing and what the bookies think is possible less likely to be swayed be trends that don't repeat them selves."
   ]
  },
  {
   "cell_type": "markdown",
   "id": "0d508501-40ef-45c7-b500-a6ae4968a415",
   "metadata": {},
   "source": [
    "Returning to the original model:"
   ]
  },
  {
   "cell_type": "code",
   "execution_count": 63,
   "id": "b07b8f8c-5ee8-4190-9fcf-2a97e2acb525",
   "metadata": {},
   "outputs": [],
   "source": [
    "model2 = RandomForestClassifier(n_estimators=100, min_samples_split=10, random_state=3)"
   ]
  },
  {
   "cell_type": "code",
   "execution_count": 64,
   "id": "dff417a4-a6b3-4fbe-b028-8a70ac66f622",
   "metadata": {},
   "outputs": [
    {
     "data": {
      "text/html": [
       "<style>#sk-container-id-7 {color: black;}#sk-container-id-7 pre{padding: 0;}#sk-container-id-7 div.sk-toggleable {background-color: white;}#sk-container-id-7 label.sk-toggleable__label {cursor: pointer;display: block;width: 100%;margin-bottom: 0;padding: 0.3em;box-sizing: border-box;text-align: center;}#sk-container-id-7 label.sk-toggleable__label-arrow:before {content: \"▸\";float: left;margin-right: 0.25em;color: #696969;}#sk-container-id-7 label.sk-toggleable__label-arrow:hover:before {color: black;}#sk-container-id-7 div.sk-estimator:hover label.sk-toggleable__label-arrow:before {color: black;}#sk-container-id-7 div.sk-toggleable__content {max-height: 0;max-width: 0;overflow: hidden;text-align: left;background-color: #f0f8ff;}#sk-container-id-7 div.sk-toggleable__content pre {margin: 0.2em;color: black;border-radius: 0.25em;background-color: #f0f8ff;}#sk-container-id-7 input.sk-toggleable__control:checked~div.sk-toggleable__content {max-height: 200px;max-width: 100%;overflow: auto;}#sk-container-id-7 input.sk-toggleable__control:checked~label.sk-toggleable__label-arrow:before {content: \"▾\";}#sk-container-id-7 div.sk-estimator input.sk-toggleable__control:checked~label.sk-toggleable__label {background-color: #d4ebff;}#sk-container-id-7 div.sk-label input.sk-toggleable__control:checked~label.sk-toggleable__label {background-color: #d4ebff;}#sk-container-id-7 input.sk-hidden--visually {border: 0;clip: rect(1px 1px 1px 1px);clip: rect(1px, 1px, 1px, 1px);height: 1px;margin: -1px;overflow: hidden;padding: 0;position: absolute;width: 1px;}#sk-container-id-7 div.sk-estimator {font-family: monospace;background-color: #f0f8ff;border: 1px dotted black;border-radius: 0.25em;box-sizing: border-box;margin-bottom: 0.5em;}#sk-container-id-7 div.sk-estimator:hover {background-color: #d4ebff;}#sk-container-id-7 div.sk-parallel-item::after {content: \"\";width: 100%;border-bottom: 1px solid gray;flex-grow: 1;}#sk-container-id-7 div.sk-label:hover label.sk-toggleable__label {background-color: #d4ebff;}#sk-container-id-7 div.sk-serial::before {content: \"\";position: absolute;border-left: 1px solid gray;box-sizing: border-box;top: 0;bottom: 0;left: 50%;z-index: 0;}#sk-container-id-7 div.sk-serial {display: flex;flex-direction: column;align-items: center;background-color: white;padding-right: 0.2em;padding-left: 0.2em;position: relative;}#sk-container-id-7 div.sk-item {position: relative;z-index: 1;}#sk-container-id-7 div.sk-parallel {display: flex;align-items: stretch;justify-content: center;background-color: white;position: relative;}#sk-container-id-7 div.sk-item::before, #sk-container-id-7 div.sk-parallel-item::before {content: \"\";position: absolute;border-left: 1px solid gray;box-sizing: border-box;top: 0;bottom: 0;left: 50%;z-index: -1;}#sk-container-id-7 div.sk-parallel-item {display: flex;flex-direction: column;z-index: 1;position: relative;background-color: white;}#sk-container-id-7 div.sk-parallel-item:first-child::after {align-self: flex-end;width: 50%;}#sk-container-id-7 div.sk-parallel-item:last-child::after {align-self: flex-start;width: 50%;}#sk-container-id-7 div.sk-parallel-item:only-child::after {width: 0;}#sk-container-id-7 div.sk-dashed-wrapped {border: 1px dashed gray;margin: 0 0.4em 0.5em 0.4em;box-sizing: border-box;padding-bottom: 0.4em;background-color: white;}#sk-container-id-7 div.sk-label label {font-family: monospace;font-weight: bold;display: inline-block;line-height: 1.2em;}#sk-container-id-7 div.sk-label-container {text-align: center;}#sk-container-id-7 div.sk-container {/* jupyter's `normalize.less` sets `[hidden] { display: none; }` but bootstrap.min.css set `[hidden] { display: none !important; }` so we also need the `!important` here to be able to override the default hidden behavior on the sphinx rendered scikit-learn.org. See: https://github.com/scikit-learn/scikit-learn/issues/21755 */display: inline-block !important;position: relative;}#sk-container-id-7 div.sk-text-repr-fallback {display: none;}</style><div id=\"sk-container-id-7\" class=\"sk-top-container\"><div class=\"sk-text-repr-fallback\"><pre>RandomForestClassifier(min_samples_split=10, random_state=3)</pre><b>In a Jupyter environment, please rerun this cell to show the HTML representation or trust the notebook. <br />On GitHub, the HTML representation is unable to render, please try loading this page with nbviewer.org.</b></div><div class=\"sk-container\" hidden><div class=\"sk-item\"><div class=\"sk-estimator sk-toggleable\"><input class=\"sk-toggleable__control sk-hidden--visually\" id=\"sk-estimator-id-7\" type=\"checkbox\" checked><label for=\"sk-estimator-id-7\" class=\"sk-toggleable__label sk-toggleable__label-arrow\">RandomForestClassifier</label><div class=\"sk-toggleable__content\"><pre>RandomForestClassifier(min_samples_split=10, random_state=3)</pre></div></div></div></div></div>"
      ],
      "text/plain": [
       "RandomForestClassifier(min_samples_split=10, random_state=3)"
      ]
     },
     "execution_count": 64,
     "metadata": {},
     "output_type": "execute_result"
    }
   ],
   "source": [
    "model2.fit(train[predictors],train[\"high_scoring\"])"
   ]
  },
  {
   "cell_type": "code",
   "execution_count": 65,
   "id": "ddd5e06e-d1d6-462e-81af-8d747ec19a7c",
   "metadata": {},
   "outputs": [],
   "source": [
    "preds = model2.predict(test[predictors])"
   ]
  },
  {
   "cell_type": "code",
   "execution_count": 66,
   "id": "dc18c4a9-10b6-4055-93f5-14561c1a7346",
   "metadata": {},
   "outputs": [
    {
     "data": {
      "text/plain": [
       "['Day_code', 'home_code', 'away_code', 'B365>2.5']"
      ]
     },
     "execution_count": 66,
     "metadata": {},
     "output_type": "execute_result"
    }
   ],
   "source": [
    "predictors"
   ]
  },
  {
   "cell_type": "code",
   "execution_count": 69,
   "id": "37470090-f707-4aa9-ad1c-d2ba8be61026",
   "metadata": {},
   "outputs": [],
   "source": [
    "combined = pd.DataFrame(dict(actual=test[\"high_scoring\"],prediction=preds))\n",
    "pd.crosstab(index=combined[\"actual\"],columns=combined[\"prediction\"])\n",
    "prec = precision_score(test[\"high_scoring\"], preds)"
   ]
  },
  {
   "cell_type": "code",
   "execution_count": 70,
   "id": "443dfd5d-12f6-43d7-919f-4bf56af0979c",
   "metadata": {},
   "outputs": [
    {
     "data": {
      "text/plain": [
       "0.5681818181818182"
      ]
     },
     "execution_count": 70,
     "metadata": {},
     "output_type": "execute_result"
    }
   ],
   "source": [
    "prec"
   ]
  },
  {
   "cell_type": "code",
   "execution_count": null,
   "id": "29bacc36-a301-4d7e-bb25-173e016efa40",
   "metadata": {},
   "outputs": [],
   "source": []
  }
 ],
 "metadata": {
  "kernelspec": {
   "display_name": "Python 3 (ipykernel)",
   "language": "python",
   "name": "python3"
  },
  "language_info": {
   "codemirror_mode": {
    "name": "ipython",
    "version": 3
   },
   "file_extension": ".py",
   "mimetype": "text/x-python",
   "name": "python",
   "nbconvert_exporter": "python",
   "pygments_lexer": "ipython3",
   "version": "3.10.6"
  }
 },
 "nbformat": 4,
 "nbformat_minor": 5
}
