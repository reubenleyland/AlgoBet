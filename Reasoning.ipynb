{
 "cells": [
  {
   "cell_type": "markdown",
   "id": "ee7c0f4a-828d-4991-98ec-453346d6e963",
   "metadata": {},
   "source": [
    "# Reasoning behind the >2.5 bet market. #\n",
    "Data analysis of the PL data set and scope for use of the ML model."
   ]
  },
  {
   "cell_type": "markdown",
   "id": "041d9065-2942-4d53-bf56-db2363033aa0",
   "metadata": {},
   "source": [
    "Import the data and required libariers"
   ]
  },
  {
   "cell_type": "code",
   "execution_count": 1,
   "id": "4b01b130-e0ec-46d4-9393-b6404443bb70",
   "metadata": {},
   "outputs": [],
   "source": [
    "#import\n",
    "import pandas as pd\n",
    "\n",
    "\n",
    "#read our data\n",
    "matches= pd.read_csv(\"data_21_23.csv\")\n"
   ]
  },
  {
   "cell_type": "markdown",
   "id": "7e5a0d30-4ea1-4cc5-b1e3-99a1e84731db",
   "metadata": {},
   "source": [
    "Create some standard data analysis functions"
   ]
  },
  {
   "cell_type": "code",
   "execution_count": 2,
   "id": "83056fd4-1c96-41f1-8293-0f8c9ebe55d8",
   "metadata": {},
   "outputs": [],
   "source": [
    "##A function to calculate the av goals of a team\n",
    "total_goals=0\n",
    "def calculate_avg_goals_per_game_scored(df, team_name):\n",
    "    \n",
    "    home_matches = df[(df['HomeTeam'] == team_name)]\n",
    "    away_matches=df[(df['AwayTeam'] == team_name)]\n",
    "    total_goals = home_matches['FTHG'].sum() + away_matches['FTAG'].sum()\n",
    "    total_matches = home_matches.shape[0] +away_matches.shape[0]\n",
    "    avg_goals_per_game = total_goals / total_matches\n",
    "    return avg_goals_per_game"
   ]
  },
  {
   "cell_type": "code",
   "execution_count": 3,
   "id": "59cd8996-6344-44d2-9e8c-b7b4d4a202d6",
   "metadata": {},
   "outputs": [],
   "source": [
    "##A function to calculate the toal goals conceeded\n",
    "def calculate_avg_goals_per_game_conceeded(df, team_name):\n",
    "    \n",
    "    home_matches = df[(df['HomeTeam'] == team_name)]\n",
    "    away_matches=df[(df['AwayTeam'] == team_name)]\n",
    "    total_goals = home_matches['FTAG'].sum() + away_matches['FTHG'].sum()\n",
    "    total_matches = home_matches.shape[0] +away_matches.shape[0]\n",
    "    avg_goals_per_game = total_goals / total_matches\n",
    "    return avg_goals_per_game\n"
   ]
  },
  {
   "cell_type": "code",
   "execution_count": 4,
   "id": "99a4dbc1-f670-41c4-b7e8-c6d98666dfaa",
   "metadata": {},
   "outputs": [],
   "source": [
    " ##Over 3 goals scored in a game\n",
    "def three_goal_games(df):\n",
    "    high_scoring = df[(df['FTHG'] + df['FTAG']) >= 3]\n",
    "    sum_high_scoring= high_scoring.shape[0]\n",
    "    return sum_high_scoring"
   ]
  },
  {
   "cell_type": "code",
   "execution_count": 5,
   "id": "ec68b3ce-7d0e-478e-a36f-65c7f0c0ce39",
   "metadata": {},
   "outputs": [],
   "source": [
    "## Find number of matches played\n",
    "def num_matches(df):\n",
    "    return df.shape[0]\n"
   ]
  },
  {
   "cell_type": "code",
   "execution_count": 13,
   "id": "a8ecdf8c-f7d6-4aaa-8582-4069d6b487ba",
   "metadata": {},
   "outputs": [],
   "source": [
    "##average odds for >2.5 market\n",
    "def av_high_scoring_odds(df):\n",
    "    return df['AvgC>2.5'].mean()"
   ]
  },
  {
   "cell_type": "markdown",
   "id": "44488c3d-795c-4e9a-a9c7-f56e8b39d580",
   "metadata": {},
   "source": [
    "Comparing the odds for >2.5 goal games to the proportion of games that are high scoring (>2.5 goals), we see that the margin is tight:"
   ]
  },
  {
   "cell_type": "code",
   "execution_count": 8,
   "id": "28f344af-712b-4b6f-b180-b2240beea38e",
   "metadata": {},
   "outputs": [
    {
     "name": "stdout",
     "output_type": "stream",
     "text": [
      "405\n"
     ]
    }
   ],
   "source": [
    "print(three_goal_games(matches))"
   ]
  },
  {
   "cell_type": "code",
   "execution_count": 10,
   "id": "8f2f8c99-3865-449b-8d0f-c56d29096d23",
   "metadata": {},
   "outputs": [
    {
     "name": "stdout",
     "output_type": "stream",
     "text": [
      "760\n"
     ]
    }
   ],
   "source": [
    "print(num_matches(matches))"
   ]
  },
  {
   "cell_type": "code",
   "execution_count": 14,
   "id": "930536ba-8d94-427a-8cee-571428e097ed",
   "metadata": {},
   "outputs": [
    {
     "name": "stdout",
     "output_type": "stream",
     "text": [
      "1.8543684210526319\n"
     ]
    }
   ],
   "source": [
    "print(av_high_scoring_odds(matches))"
   ]
  },
  {
   "cell_type": "markdown",
   "id": "a6e85d83-bf48-4356-ac48-aeeb100d4330",
   "metadata": {},
   "source": [
    "If we hypothetically bet £1 on every game to have >2.5 goals, then we would make (405 x 0.85) in profit and lose (760 - 405) in lose bets. This leaves us at -£8.98 or -1.18% of total wager. So a model need only be 1.19% better than random chance in order to make profit*\n",
    "\n",
    "\n",
    "*Expected"
   ]
  },
  {
   "cell_type": "markdown",
   "id": "47fd5b03-a136-4bd0-bf90-6f9c18e77935",
   "metadata": {},
   "source": [
    "Based purley on number of games scoring higher, the expected \"fair\" odds would be 1.877, and with a true odds average of 1.85, the house is only making a small edge on this market."
   ]
  },
  {
   "cell_type": "code",
   "execution_count": null,
   "id": "a57a5b8e-5ffd-4771-9f16-d075fc13ae3f",
   "metadata": {},
   "outputs": [],
   "source": []
  }
 ],
 "metadata": {
  "kernelspec": {
   "display_name": "Python 3 (ipykernel)",
   "language": "python",
   "name": "python3"
  },
  "language_info": {
   "codemirror_mode": {
    "name": "ipython",
    "version": 3
   },
   "file_extension": ".py",
   "mimetype": "text/x-python",
   "name": "python",
   "nbconvert_exporter": "python",
   "pygments_lexer": "ipython3",
   "version": "3.10.6"
  }
 },
 "nbformat": 4,
 "nbformat_minor": 5
}
