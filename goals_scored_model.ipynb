{
 "cells": [
  {
   "cell_type": "markdown",
   "id": "78faeb48-9edc-4438-89b4-b840ba5cb3ab",
   "metadata": {
    "jp-MarkdownHeadingCollapsed": true
   },
   "source": [
    "# goals scored model #\n",
    "Utilsing a decision tree to help provide insight into potential high scoring games in attempts to close the house edge.\n",
    "\n",
    "Uses instruction from https://www.youtube.com/watch?v=0irmDBWLrco"
   ]
  },
  {
   "cell_type": "markdown",
   "id": "3d992a39-1f9b-4a62-9a09-e02ad27dd921",
   "metadata": {},
   "source": [
    "Imports:"
   ]
  },
  {
   "cell_type": "code",
   "execution_count": 1,
   "id": "798abf02-016a-47d7-92c0-13ca7a78256c",
   "metadata": {},
   "outputs": [],
   "source": [
    "#import\n",
    "import pandas as pd\n",
    "\n",
    "\n",
    "#read our data\n",
    "matches= pd.read_csv(\"data_21_23.csv\")"
   ]
  },
  {
   "cell_type": "markdown",
   "id": "80cf51ed-626f-4bfa-beac-82f80d294c67",
   "metadata": {},
   "source": [
    "import the ml stuff"
   ]
  },
  {
   "cell_type": "code",
   "execution_count": 2,
   "id": "d835e7b7-ff37-4f07-9deb-9474a6b4caea",
   "metadata": {},
   "outputs": [],
   "source": [
    "from sklearn.ensemble import RandomForestClassifier"
   ]
  },
  {
   "cell_type": "code",
   "execution_count": 3,
   "id": "8ef42da4-74ed-4ed5-bf77-0c89fb4bcac4",
   "metadata": {},
   "outputs": [],
   "source": [
    "rf = RandomForestClassifier(n_estimators=50, min_samples_split=10, random_state=1)"
   ]
  },
  {
   "cell_type": "markdown",
   "id": "8d67267f-da2d-44bd-82d3-5609b6875ccf",
   "metadata": {},
   "source": [
    "# Prepare the data for ML #\n",
    "We need to prepare our data, inclusing selecting test and training data"
   ]
  },
  {
   "cell_type": "markdown",
   "id": "7f213274-1e90-41e1-a1a0-12c30e59fede",
   "metadata": {},
   "source": [
    "Unlike the video, we aren't trying to predict the outcome of the game, just what will be high scoring. As such the useful parameter are differnt."
   ]
  },
  {
   "cell_type": "code",
   "execution_count": 4,
   "id": "a838b21f-603f-483e-b85c-52e5f4c343bd",
   "metadata": {},
   "outputs": [],
   "source": [
    "matches[\"home_code\"]= matches[\"HomeTeam\"].astype(\"category\").cat.codes"
   ]
  },
  {
   "cell_type": "code",
   "execution_count": 5,
   "id": "424cf879-5cd4-410b-919b-40be1934928d",
   "metadata": {},
   "outputs": [],
   "source": [
    "matches[\"away_code\"]= matches[\"AwayTeam\"].astype(\"category\").cat.codes"
   ]
  },
  {
   "cell_type": "code",
   "execution_count": 6,
   "id": "d559f6c7-ad1b-4d28-bbf9-e773cf96735e",
   "metadata": {},
   "outputs": [],
   "source": [
    "matches['Date'] = pd.to_datetime(matches['Date'])\n",
    "matches[\"Day_code\"] = matches[\"Date\"].dt.dayofweek"
   ]
  },
  {
   "cell_type": "markdown",
   "id": "8deb6979-3827-4669-93ec-e8cdb2e80b9c",
   "metadata": {},
   "source": [
    "We also need to create a target colmun detailing whether or not there were >=3 goals in the game."
   ]
  },
  {
   "cell_type": "code",
   "execution_count": 8,
   "id": "6f14dd87-2e10-4ac6-871d-32ff46fe0dbd",
   "metadata": {},
   "outputs": [],
   "source": [
    "matches['high_scoring'] = (matches['FTHG'] + matches['FTAG'] >= 3).astype(int)\n"
   ]
  },
  {
   "cell_type": "code",
   "execution_count": 9,
   "id": "a9f733e6-9b13-4582-afac-887e4e27f452",
   "metadata": {},
   "outputs": [
    {
     "name": "stdout",
     "output_type": "stream",
     "text": [
      "  Div       Date   Time        HomeTeam       AwayTeam  FTHG  FTAG FTR  HTHG  \\\n",
      "0  E0 2022-05-08  20:00  Crystal Palace        Arsenal   0.0   2.0   A   0.0   \n",
      "1  E0 2022-06-08  12:30          Fulham      Liverpool   2.0   2.0   D   1.0   \n",
      "2  E0 2022-06-08  15:00     Bournemouth    Aston Villa   2.0   0.0   H   1.0   \n",
      "3  E0 2022-06-08  15:00           Leeds         Wolves   2.0   1.0   H   1.0   \n",
      "4  E0 2022-06-08  15:00       Newcastle  Nott'm Forest   2.0   0.0   H   0.0   \n",
      "\n",
      "   HTAG  ... PCAHH PCAHA  MaxCAHH  MaxCAHA  AvgCAHH  AvgCAHA  home_code  \\\n",
      "0   1.0  ...  2.04  1.88     2.09     1.88     2.03     1.85          7   \n",
      "1   0.0  ...  1.91  2.02     2.01     2.06     1.89     1.99          9   \n",
      "2   0.0  ...  1.93  2.00     1.94     2.04     1.88     2.00          2   \n",
      "3   1.0  ...  2.10  1.84     2.14     1.87     2.08     1.81         10   \n",
      "4   0.0  ...  1.99  1.93     2.19     1.97     2.03     1.86         15   \n",
      "\n",
      "   away_code  Day_code  high_scoring  \n",
      "0          0       6.0             0  \n",
      "1         12       2.0             1  \n",
      "2          1       2.0             0  \n",
      "3         22       2.0             1  \n",
      "4         17       2.0             0  \n",
      "\n",
      "[5 rows x 110 columns]\n"
     ]
    }
   ],
   "source": [
    "print(matches.head())"
   ]
  },
  {
   "cell_type": "markdown",
   "id": "c89cd4cb-31fa-4de8-86f3-cef4b014e1ec",
   "metadata": {},
   "source": [
    "# Training the model #\n",
    "Now to choose the predictors: these all need to be data points that are obtainable pre match to feed into the model, and features that are likley to affect the number of goals scored.\n",
    "I have chosen to include the odds of >2.5 from bet365. This is included to encapsulate the bookmakers opinion. B365 are chosen as they are one of the biggest bookmakers so are likley to maintain good odds. I am also banned from bet365, so can't bet there so might as well use their information for other purposes."
   ]
  },
  {
   "cell_type": "code",
   "execution_count": 10,
   "id": "75c0b3cb-ebc0-442b-aa72-7b933357ca05",
   "metadata": {},
   "outputs": [],
   "source": [
    "train = matches[matches[\"Date\"]<\"2022-01-08\"]"
   ]
  },
  {
   "cell_type": "code",
   "execution_count": 11,
   "id": "9660530a-e202-4a2c-b78e-9fa87e9af0bd",
   "metadata": {},
   "outputs": [
    {
     "data": {
      "text/html": [
       "<div>\n",
       "<style scoped>\n",
       "    .dataframe tbody tr th:only-of-type {\n",
       "        vertical-align: middle;\n",
       "    }\n",
       "\n",
       "    .dataframe tbody tr th {\n",
       "        vertical-align: top;\n",
       "    }\n",
       "\n",
       "    .dataframe thead th {\n",
       "        text-align: right;\n",
       "    }\n",
       "</style>\n",
       "<table border=\"1\" class=\"dataframe\">\n",
       "  <thead>\n",
       "    <tr style=\"text-align: right;\">\n",
       "      <th></th>\n",
       "      <th>Div</th>\n",
       "      <th>Date</th>\n",
       "      <th>Time</th>\n",
       "      <th>HomeTeam</th>\n",
       "      <th>AwayTeam</th>\n",
       "      <th>FTHG</th>\n",
       "      <th>FTAG</th>\n",
       "      <th>FTR</th>\n",
       "      <th>HTHG</th>\n",
       "      <th>HTAG</th>\n",
       "      <th>...</th>\n",
       "      <th>PCAHH</th>\n",
       "      <th>PCAHA</th>\n",
       "      <th>MaxCAHH</th>\n",
       "      <th>MaxCAHA</th>\n",
       "      <th>AvgCAHH</th>\n",
       "      <th>AvgCAHA</th>\n",
       "      <th>home_code</th>\n",
       "      <th>away_code</th>\n",
       "      <th>Day_code</th>\n",
       "      <th>high_scoring</th>\n",
       "    </tr>\n",
       "  </thead>\n",
       "  <tbody>\n",
       "    <tr>\n",
       "      <th>380</th>\n",
       "      <td>E0</td>\n",
       "      <td>2021-08-13</td>\n",
       "      <td>20:00</td>\n",
       "      <td>Brentford</td>\n",
       "      <td>Arsenal</td>\n",
       "      <td>2.0</td>\n",
       "      <td>0.0</td>\n",
       "      <td>H</td>\n",
       "      <td>1.0</td>\n",
       "      <td>0.0</td>\n",
       "      <td>...</td>\n",
       "      <td>1.81</td>\n",
       "      <td>2.13</td>\n",
       "      <td>2.05</td>\n",
       "      <td>2.17</td>\n",
       "      <td>1.80</td>\n",
       "      <td>2.09</td>\n",
       "      <td>3</td>\n",
       "      <td>0</td>\n",
       "      <td>4.0</td>\n",
       "      <td>0</td>\n",
       "    </tr>\n",
       "    <tr>\n",
       "      <th>381</th>\n",
       "      <td>E0</td>\n",
       "      <td>2021-08-14</td>\n",
       "      <td>12:30</td>\n",
       "      <td>Man United</td>\n",
       "      <td>Leeds</td>\n",
       "      <td>5.0</td>\n",
       "      <td>1.0</td>\n",
       "      <td>H</td>\n",
       "      <td>1.0</td>\n",
       "      <td>0.0</td>\n",
       "      <td>...</td>\n",
       "      <td>2.17</td>\n",
       "      <td>1.77</td>\n",
       "      <td>2.19</td>\n",
       "      <td>1.93</td>\n",
       "      <td>2.10</td>\n",
       "      <td>1.79</td>\n",
       "      <td>14</td>\n",
       "      <td>10</td>\n",
       "      <td>5.0</td>\n",
       "      <td>1</td>\n",
       "    </tr>\n",
       "    <tr>\n",
       "      <th>382</th>\n",
       "      <td>E0</td>\n",
       "      <td>2021-08-14</td>\n",
       "      <td>15:00</td>\n",
       "      <td>Burnley</td>\n",
       "      <td>Brighton</td>\n",
       "      <td>1.0</td>\n",
       "      <td>2.0</td>\n",
       "      <td>A</td>\n",
       "      <td>1.0</td>\n",
       "      <td>0.0</td>\n",
       "      <td>...</td>\n",
       "      <td>1.81</td>\n",
       "      <td>2.14</td>\n",
       "      <td>1.82</td>\n",
       "      <td>2.19</td>\n",
       "      <td>1.79</td>\n",
       "      <td>2.12</td>\n",
       "      <td>5</td>\n",
       "      <td>4</td>\n",
       "      <td>5.0</td>\n",
       "      <td>1</td>\n",
       "    </tr>\n",
       "    <tr>\n",
       "      <th>383</th>\n",
       "      <td>E0</td>\n",
       "      <td>2021-08-14</td>\n",
       "      <td>15:00</td>\n",
       "      <td>Chelsea</td>\n",
       "      <td>Crystal Palace</td>\n",
       "      <td>3.0</td>\n",
       "      <td>0.0</td>\n",
       "      <td>H</td>\n",
       "      <td>2.0</td>\n",
       "      <td>0.0</td>\n",
       "      <td>...</td>\n",
       "      <td>2.12</td>\n",
       "      <td>1.81</td>\n",
       "      <td>2.16</td>\n",
       "      <td>1.93</td>\n",
       "      <td>2.06</td>\n",
       "      <td>1.82</td>\n",
       "      <td>6</td>\n",
       "      <td>7</td>\n",
       "      <td>5.0</td>\n",
       "      <td>1</td>\n",
       "    </tr>\n",
       "    <tr>\n",
       "      <th>384</th>\n",
       "      <td>E0</td>\n",
       "      <td>2021-08-14</td>\n",
       "      <td>15:00</td>\n",
       "      <td>Everton</td>\n",
       "      <td>Southampton</td>\n",
       "      <td>3.0</td>\n",
       "      <td>1.0</td>\n",
       "      <td>H</td>\n",
       "      <td>0.0</td>\n",
       "      <td>1.0</td>\n",
       "      <td>...</td>\n",
       "      <td>2.05</td>\n",
       "      <td>1.88</td>\n",
       "      <td>2.08</td>\n",
       "      <td>1.90</td>\n",
       "      <td>2.03</td>\n",
       "      <td>1.86</td>\n",
       "      <td>8</td>\n",
       "      <td>18</td>\n",
       "      <td>5.0</td>\n",
       "      <td>1</td>\n",
       "    </tr>\n",
       "  </tbody>\n",
       "</table>\n",
       "<p>5 rows × 110 columns</p>\n",
       "</div>"
      ],
      "text/plain": [
       "    Div       Date   Time    HomeTeam        AwayTeam  FTHG  FTAG FTR  HTHG  \\\n",
       "380  E0 2021-08-13  20:00   Brentford         Arsenal   2.0   0.0   H   1.0   \n",
       "381  E0 2021-08-14  12:30  Man United           Leeds   5.0   1.0   H   1.0   \n",
       "382  E0 2021-08-14  15:00     Burnley        Brighton   1.0   2.0   A   1.0   \n",
       "383  E0 2021-08-14  15:00     Chelsea  Crystal Palace   3.0   0.0   H   2.0   \n",
       "384  E0 2021-08-14  15:00     Everton     Southampton   3.0   1.0   H   0.0   \n",
       "\n",
       "     HTAG  ... PCAHH PCAHA  MaxCAHH  MaxCAHA  AvgCAHH  AvgCAHA  home_code  \\\n",
       "380   0.0  ...  1.81  2.13     2.05     2.17     1.80     2.09          3   \n",
       "381   0.0  ...  2.17  1.77     2.19     1.93     2.10     1.79         14   \n",
       "382   0.0  ...  1.81  2.14     1.82     2.19     1.79     2.12          5   \n",
       "383   0.0  ...  2.12  1.81     2.16     1.93     2.06     1.82          6   \n",
       "384   1.0  ...  2.05  1.88     2.08     1.90     2.03     1.86          8   \n",
       "\n",
       "     away_code  Day_code  high_scoring  \n",
       "380          0       4.0             0  \n",
       "381         10       5.0             1  \n",
       "382          4       5.0             1  \n",
       "383          7       5.0             1  \n",
       "384         18       5.0             1  \n",
       "\n",
       "[5 rows x 110 columns]"
      ]
     },
     "execution_count": 11,
     "metadata": {},
     "output_type": "execute_result"
    }
   ],
   "source": [
    "train.head()"
   ]
  },
  {
   "cell_type": "code",
   "execution_count": 12,
   "id": "3a5402dd-438e-4c5a-83da-2887e3dc9e70",
   "metadata": {},
   "outputs": [],
   "source": [
    "test = matches[matches[\"Date\"]>\"2022-01-08\"]"
   ]
  },
  {
   "cell_type": "code",
   "execution_count": 13,
   "id": "66243f38-3442-41ef-b6d5-c478b5655fa5",
   "metadata": {},
   "outputs": [
    {
     "data": {
      "text/html": [
       "<div>\n",
       "<style scoped>\n",
       "    .dataframe tbody tr th:only-of-type {\n",
       "        vertical-align: middle;\n",
       "    }\n",
       "\n",
       "    .dataframe tbody tr th {\n",
       "        vertical-align: top;\n",
       "    }\n",
       "\n",
       "    .dataframe thead th {\n",
       "        text-align: right;\n",
       "    }\n",
       "</style>\n",
       "<table border=\"1\" class=\"dataframe\">\n",
       "  <thead>\n",
       "    <tr style=\"text-align: right;\">\n",
       "      <th></th>\n",
       "      <th>Div</th>\n",
       "      <th>Date</th>\n",
       "      <th>Time</th>\n",
       "      <th>HomeTeam</th>\n",
       "      <th>AwayTeam</th>\n",
       "      <th>FTHG</th>\n",
       "      <th>FTAG</th>\n",
       "      <th>FTR</th>\n",
       "      <th>HTHG</th>\n",
       "      <th>HTAG</th>\n",
       "      <th>...</th>\n",
       "      <th>PCAHH</th>\n",
       "      <th>PCAHA</th>\n",
       "      <th>MaxCAHH</th>\n",
       "      <th>MaxCAHA</th>\n",
       "      <th>AvgCAHH</th>\n",
       "      <th>AvgCAHA</th>\n",
       "      <th>home_code</th>\n",
       "      <th>away_code</th>\n",
       "      <th>Day_code</th>\n",
       "      <th>high_scoring</th>\n",
       "    </tr>\n",
       "  </thead>\n",
       "  <tbody>\n",
       "    <tr>\n",
       "      <th>0</th>\n",
       "      <td>E0</td>\n",
       "      <td>2022-05-08</td>\n",
       "      <td>20:00</td>\n",
       "      <td>Crystal Palace</td>\n",
       "      <td>Arsenal</td>\n",
       "      <td>0.0</td>\n",
       "      <td>2.0</td>\n",
       "      <td>A</td>\n",
       "      <td>0.0</td>\n",
       "      <td>1.0</td>\n",
       "      <td>...</td>\n",
       "      <td>2.04</td>\n",
       "      <td>1.88</td>\n",
       "      <td>2.09</td>\n",
       "      <td>1.88</td>\n",
       "      <td>2.03</td>\n",
       "      <td>1.85</td>\n",
       "      <td>7</td>\n",
       "      <td>0</td>\n",
       "      <td>6.0</td>\n",
       "      <td>0</td>\n",
       "    </tr>\n",
       "    <tr>\n",
       "      <th>1</th>\n",
       "      <td>E0</td>\n",
       "      <td>2022-06-08</td>\n",
       "      <td>12:30</td>\n",
       "      <td>Fulham</td>\n",
       "      <td>Liverpool</td>\n",
       "      <td>2.0</td>\n",
       "      <td>2.0</td>\n",
       "      <td>D</td>\n",
       "      <td>1.0</td>\n",
       "      <td>0.0</td>\n",
       "      <td>...</td>\n",
       "      <td>1.91</td>\n",
       "      <td>2.02</td>\n",
       "      <td>2.01</td>\n",
       "      <td>2.06</td>\n",
       "      <td>1.89</td>\n",
       "      <td>1.99</td>\n",
       "      <td>9</td>\n",
       "      <td>12</td>\n",
       "      <td>2.0</td>\n",
       "      <td>1</td>\n",
       "    </tr>\n",
       "    <tr>\n",
       "      <th>2</th>\n",
       "      <td>E0</td>\n",
       "      <td>2022-06-08</td>\n",
       "      <td>15:00</td>\n",
       "      <td>Bournemouth</td>\n",
       "      <td>Aston Villa</td>\n",
       "      <td>2.0</td>\n",
       "      <td>0.0</td>\n",
       "      <td>H</td>\n",
       "      <td>1.0</td>\n",
       "      <td>0.0</td>\n",
       "      <td>...</td>\n",
       "      <td>1.93</td>\n",
       "      <td>2.00</td>\n",
       "      <td>1.94</td>\n",
       "      <td>2.04</td>\n",
       "      <td>1.88</td>\n",
       "      <td>2.00</td>\n",
       "      <td>2</td>\n",
       "      <td>1</td>\n",
       "      <td>2.0</td>\n",
       "      <td>0</td>\n",
       "    </tr>\n",
       "    <tr>\n",
       "      <th>3</th>\n",
       "      <td>E0</td>\n",
       "      <td>2022-06-08</td>\n",
       "      <td>15:00</td>\n",
       "      <td>Leeds</td>\n",
       "      <td>Wolves</td>\n",
       "      <td>2.0</td>\n",
       "      <td>1.0</td>\n",
       "      <td>H</td>\n",
       "      <td>1.0</td>\n",
       "      <td>1.0</td>\n",
       "      <td>...</td>\n",
       "      <td>2.10</td>\n",
       "      <td>1.84</td>\n",
       "      <td>2.14</td>\n",
       "      <td>1.87</td>\n",
       "      <td>2.08</td>\n",
       "      <td>1.81</td>\n",
       "      <td>10</td>\n",
       "      <td>22</td>\n",
       "      <td>2.0</td>\n",
       "      <td>1</td>\n",
       "    </tr>\n",
       "    <tr>\n",
       "      <th>4</th>\n",
       "      <td>E0</td>\n",
       "      <td>2022-06-08</td>\n",
       "      <td>15:00</td>\n",
       "      <td>Newcastle</td>\n",
       "      <td>Nott'm Forest</td>\n",
       "      <td>2.0</td>\n",
       "      <td>0.0</td>\n",
       "      <td>H</td>\n",
       "      <td>0.0</td>\n",
       "      <td>0.0</td>\n",
       "      <td>...</td>\n",
       "      <td>1.99</td>\n",
       "      <td>1.93</td>\n",
       "      <td>2.19</td>\n",
       "      <td>1.97</td>\n",
       "      <td>2.03</td>\n",
       "      <td>1.86</td>\n",
       "      <td>15</td>\n",
       "      <td>17</td>\n",
       "      <td>2.0</td>\n",
       "      <td>0</td>\n",
       "    </tr>\n",
       "  </tbody>\n",
       "</table>\n",
       "<p>5 rows × 110 columns</p>\n",
       "</div>"
      ],
      "text/plain": [
       "  Div       Date   Time        HomeTeam       AwayTeam  FTHG  FTAG FTR  HTHG  \\\n",
       "0  E0 2022-05-08  20:00  Crystal Palace        Arsenal   0.0   2.0   A   0.0   \n",
       "1  E0 2022-06-08  12:30          Fulham      Liverpool   2.0   2.0   D   1.0   \n",
       "2  E0 2022-06-08  15:00     Bournemouth    Aston Villa   2.0   0.0   H   1.0   \n",
       "3  E0 2022-06-08  15:00           Leeds         Wolves   2.0   1.0   H   1.0   \n",
       "4  E0 2022-06-08  15:00       Newcastle  Nott'm Forest   2.0   0.0   H   0.0   \n",
       "\n",
       "   HTAG  ... PCAHH PCAHA  MaxCAHH  MaxCAHA  AvgCAHH  AvgCAHA  home_code  \\\n",
       "0   1.0  ...  2.04  1.88     2.09     1.88     2.03     1.85          7   \n",
       "1   0.0  ...  1.91  2.02     2.01     2.06     1.89     1.99          9   \n",
       "2   0.0  ...  1.93  2.00     1.94     2.04     1.88     2.00          2   \n",
       "3   1.0  ...  2.10  1.84     2.14     1.87     2.08     1.81         10   \n",
       "4   0.0  ...  1.99  1.93     2.19     1.97     2.03     1.86         15   \n",
       "\n",
       "   away_code  Day_code  high_scoring  \n",
       "0          0       6.0             0  \n",
       "1         12       2.0             1  \n",
       "2          1       2.0             0  \n",
       "3         22       2.0             1  \n",
       "4         17       2.0             0  \n",
       "\n",
       "[5 rows x 110 columns]"
      ]
     },
     "execution_count": 13,
     "metadata": {},
     "output_type": "execute_result"
    }
   ],
   "source": [
    "test.head()"
   ]
  },
  {
   "cell_type": "code",
   "execution_count": 14,
   "id": "ba642bad-d46b-4b7c-804e-08dbe933c6fa",
   "metadata": {},
   "outputs": [],
   "source": [
    "predictors = [\"Day_code\",\"home_code\",\"away_code\", \"B365>2.5\"]"
   ]
  },
  {
   "cell_type": "code",
   "execution_count": 15,
   "id": "61d7405d-5c36-464a-a640-29ca5180a495",
   "metadata": {},
   "outputs": [
    {
     "data": {
      "text/html": [
       "<style>#sk-container-id-1 {color: black;}#sk-container-id-1 pre{padding: 0;}#sk-container-id-1 div.sk-toggleable {background-color: white;}#sk-container-id-1 label.sk-toggleable__label {cursor: pointer;display: block;width: 100%;margin-bottom: 0;padding: 0.3em;box-sizing: border-box;text-align: center;}#sk-container-id-1 label.sk-toggleable__label-arrow:before {content: \"▸\";float: left;margin-right: 0.25em;color: #696969;}#sk-container-id-1 label.sk-toggleable__label-arrow:hover:before {color: black;}#sk-container-id-1 div.sk-estimator:hover label.sk-toggleable__label-arrow:before {color: black;}#sk-container-id-1 div.sk-toggleable__content {max-height: 0;max-width: 0;overflow: hidden;text-align: left;background-color: #f0f8ff;}#sk-container-id-1 div.sk-toggleable__content pre {margin: 0.2em;color: black;border-radius: 0.25em;background-color: #f0f8ff;}#sk-container-id-1 input.sk-toggleable__control:checked~div.sk-toggleable__content {max-height: 200px;max-width: 100%;overflow: auto;}#sk-container-id-1 input.sk-toggleable__control:checked~label.sk-toggleable__label-arrow:before {content: \"▾\";}#sk-container-id-1 div.sk-estimator input.sk-toggleable__control:checked~label.sk-toggleable__label {background-color: #d4ebff;}#sk-container-id-1 div.sk-label input.sk-toggleable__control:checked~label.sk-toggleable__label {background-color: #d4ebff;}#sk-container-id-1 input.sk-hidden--visually {border: 0;clip: rect(1px 1px 1px 1px);clip: rect(1px, 1px, 1px, 1px);height: 1px;margin: -1px;overflow: hidden;padding: 0;position: absolute;width: 1px;}#sk-container-id-1 div.sk-estimator {font-family: monospace;background-color: #f0f8ff;border: 1px dotted black;border-radius: 0.25em;box-sizing: border-box;margin-bottom: 0.5em;}#sk-container-id-1 div.sk-estimator:hover {background-color: #d4ebff;}#sk-container-id-1 div.sk-parallel-item::after {content: \"\";width: 100%;border-bottom: 1px solid gray;flex-grow: 1;}#sk-container-id-1 div.sk-label:hover label.sk-toggleable__label {background-color: #d4ebff;}#sk-container-id-1 div.sk-serial::before {content: \"\";position: absolute;border-left: 1px solid gray;box-sizing: border-box;top: 0;bottom: 0;left: 50%;z-index: 0;}#sk-container-id-1 div.sk-serial {display: flex;flex-direction: column;align-items: center;background-color: white;padding-right: 0.2em;padding-left: 0.2em;position: relative;}#sk-container-id-1 div.sk-item {position: relative;z-index: 1;}#sk-container-id-1 div.sk-parallel {display: flex;align-items: stretch;justify-content: center;background-color: white;position: relative;}#sk-container-id-1 div.sk-item::before, #sk-container-id-1 div.sk-parallel-item::before {content: \"\";position: absolute;border-left: 1px solid gray;box-sizing: border-box;top: 0;bottom: 0;left: 50%;z-index: -1;}#sk-container-id-1 div.sk-parallel-item {display: flex;flex-direction: column;z-index: 1;position: relative;background-color: white;}#sk-container-id-1 div.sk-parallel-item:first-child::after {align-self: flex-end;width: 50%;}#sk-container-id-1 div.sk-parallel-item:last-child::after {align-self: flex-start;width: 50%;}#sk-container-id-1 div.sk-parallel-item:only-child::after {width: 0;}#sk-container-id-1 div.sk-dashed-wrapped {border: 1px dashed gray;margin: 0 0.4em 0.5em 0.4em;box-sizing: border-box;padding-bottom: 0.4em;background-color: white;}#sk-container-id-1 div.sk-label label {font-family: monospace;font-weight: bold;display: inline-block;line-height: 1.2em;}#sk-container-id-1 div.sk-label-container {text-align: center;}#sk-container-id-1 div.sk-container {/* jupyter's `normalize.less` sets `[hidden] { display: none; }` but bootstrap.min.css set `[hidden] { display: none !important; }` so we also need the `!important` here to be able to override the default hidden behavior on the sphinx rendered scikit-learn.org. See: https://github.com/scikit-learn/scikit-learn/issues/21755 */display: inline-block !important;position: relative;}#sk-container-id-1 div.sk-text-repr-fallback {display: none;}</style><div id=\"sk-container-id-1\" class=\"sk-top-container\"><div class=\"sk-text-repr-fallback\"><pre>RandomForestClassifier(min_samples_split=10, n_estimators=50, random_state=1)</pre><b>In a Jupyter environment, please rerun this cell to show the HTML representation or trust the notebook. <br />On GitHub, the HTML representation is unable to render, please try loading this page with nbviewer.org.</b></div><div class=\"sk-container\" hidden><div class=\"sk-item\"><div class=\"sk-estimator sk-toggleable\"><input class=\"sk-toggleable__control sk-hidden--visually\" id=\"sk-estimator-id-1\" type=\"checkbox\" checked><label for=\"sk-estimator-id-1\" class=\"sk-toggleable__label sk-toggleable__label-arrow\">RandomForestClassifier</label><div class=\"sk-toggleable__content\"><pre>RandomForestClassifier(min_samples_split=10, n_estimators=50, random_state=1)</pre></div></div></div></div></div>"
      ],
      "text/plain": [
       "RandomForestClassifier(min_samples_split=10, n_estimators=50, random_state=1)"
      ]
     },
     "execution_count": 15,
     "metadata": {},
     "output_type": "execute_result"
    }
   ],
   "source": [
    "rf.fit(train[predictors],train[\"high_scoring\"])"
   ]
  },
  {
   "cell_type": "code",
   "execution_count": 16,
   "id": "a917a3df-85b6-40ce-983e-243a09a76775",
   "metadata": {},
   "outputs": [],
   "source": [
    "preds = rf.predict(test[predictors])"
   ]
  },
  {
   "cell_type": "code",
   "execution_count": 17,
   "id": "85abcb60-9b4b-46f6-8d44-48e1ad4e1aae",
   "metadata": {},
   "outputs": [],
   "source": [
    "from sklearn.metrics import accuracy_score"
   ]
  },
  {
   "cell_type": "code",
   "execution_count": 18,
   "id": "94537568-28d0-4dc2-a1a5-81cf6389fe7d",
   "metadata": {},
   "outputs": [],
   "source": [
    "acc = accuracy_score(test[\"high_scoring\"],preds)"
   ]
  },
  {
   "cell_type": "code",
   "execution_count": 19,
   "id": "0e8e1593-fa86-47c4-8940-61750fc43551",
   "metadata": {},
   "outputs": [
    {
     "data": {
      "text/plain": [
       "0.5350877192982456"
      ]
     },
     "execution_count": 19,
     "metadata": {},
     "output_type": "execute_result"
    }
   ],
   "source": [
    "acc"
   ]
  },
  {
   "cell_type": "markdown",
   "id": "18519b07-3c8b-4f51-8a6e-80fe0d161e39",
   "metadata": {},
   "source": [
    "This is theoretically enough to be profitable in the long run, with break even equvilant odds being 1.76 whilst av odds were 1.85. "
   ]
  },
  {
   "cell_type": "markdown",
   "id": "877f96be-71eb-4d26-ba24-304abe643517",
   "metadata": {},
   "source": [
    "Expected profit if this contiuned would be 0.56 x 1.85 = 1.05 or 5%"
   ]
  },
  {
   "cell_type": "code",
   "execution_count": 20,
   "id": "f1379f6f-85d9-4c7c-9839-2529f7882bd9",
   "metadata": {},
   "outputs": [],
   "source": [
    "combined = pd.DataFrame(dict(actual=test[\"high_scoring\"],prediction=preds))"
   ]
  },
  {
   "cell_type": "code",
   "execution_count": 21,
   "id": "1f6ceeac-c959-4eea-b43f-a444abf4a855",
   "metadata": {},
   "outputs": [
    {
     "data": {
      "text/html": [
       "<div>\n",
       "<style scoped>\n",
       "    .dataframe tbody tr th:only-of-type {\n",
       "        vertical-align: middle;\n",
       "    }\n",
       "\n",
       "    .dataframe tbody tr th {\n",
       "        vertical-align: top;\n",
       "    }\n",
       "\n",
       "    .dataframe thead th {\n",
       "        text-align: right;\n",
       "    }\n",
       "</style>\n",
       "<table border=\"1\" class=\"dataframe\">\n",
       "  <thead>\n",
       "    <tr style=\"text-align: right;\">\n",
       "      <th>prediction</th>\n",
       "      <th>0</th>\n",
       "      <th>1</th>\n",
       "    </tr>\n",
       "    <tr>\n",
       "      <th>actual</th>\n",
       "      <th></th>\n",
       "      <th></th>\n",
       "    </tr>\n",
       "  </thead>\n",
       "  <tbody>\n",
       "    <tr>\n",
       "      <th>0</th>\n",
       "      <td>115</td>\n",
       "      <td>152</td>\n",
       "    </tr>\n",
       "    <tr>\n",
       "      <th>1</th>\n",
       "      <td>113</td>\n",
       "      <td>190</td>\n",
       "    </tr>\n",
       "  </tbody>\n",
       "</table>\n",
       "</div>"
      ],
      "text/plain": [
       "prediction    0    1\n",
       "actual              \n",
       "0           115  152\n",
       "1           113  190"
      ]
     },
     "execution_count": 21,
     "metadata": {},
     "output_type": "execute_result"
    }
   ],
   "source": [
    "pd.crosstab(index=combined[\"actual\"],columns=combined[\"prediction\"])"
   ]
  },
  {
   "cell_type": "markdown",
   "id": "e6c2a56a-2e2f-4e33-a37c-af015764ede5",
   "metadata": {},
   "source": [
    "But as what we will bet on is when the model predcit that there will be a high scoring game, this is what we care about. So lets use that as the accuary."
   ]
  },
  {
   "cell_type": "code",
   "execution_count": 22,
   "id": "8e573842-b18a-4d7e-b5a8-7eaa30a9aa9d",
   "metadata": {},
   "outputs": [],
   "source": [
    "from sklearn.metrics import precision_score"
   ]
  },
  {
   "cell_type": "code",
   "execution_count": 23,
   "id": "c6ba2872-5b93-41e4-8dff-0fb72ed1d846",
   "metadata": {},
   "outputs": [],
   "source": [
    "prec=precision_score(test[\"high_scoring\"],preds)"
   ]
  },
  {
   "cell_type": "code",
   "execution_count": 24,
   "id": "0b12ba2b-35c6-477c-9b9b-8cdeddb7293d",
   "metadata": {},
   "outputs": [
    {
     "data": {
      "text/plain": [
       "0.5555555555555556"
      ]
     },
     "execution_count": 24,
     "metadata": {},
     "output_type": "execute_result"
    }
   ],
   "source": [
    "prec"
   ]
  },
  {
   "cell_type": "markdown",
   "id": "6e720088-0e97-4bae-a94a-6475090d82ac",
   "metadata": {},
   "source": [
    "Mildly higher"
   ]
  },
  {
   "cell_type": "markdown",
   "id": "0a75ca79-2d62-4644-a280-2a12545dc26e",
   "metadata": {},
   "source": [
    "## Improve our model ##\n",
    "TO imporve the modle we will include rolling average of goals scored against and by these teams up to this game week"
   ]
  },
  {
   "cell_type": "code",
   "execution_count": 25,
   "id": "5b9aef49-ad8b-4ecc-a8bf-24e3fd1b71bc",
   "metadata": {},
   "outputs": [],
   "source": [
    "grouped_matches = matches.groupby(\"HomeTeam\")"
   ]
  },
  {
   "cell_type": "code",
   "execution_count": 26,
   "id": "1e5ec59a-61ce-4af0-8973-6674674e5003",
   "metadata": {},
   "outputs": [],
   "source": [
    "city_home=grouped_matches.get_group(\"Man City\")"
   ]
  },
  {
   "cell_type": "code",
   "execution_count": 27,
   "id": "a58b1cb3-cb24-462c-b5fd-129905e0436d",
   "metadata": {},
   "outputs": [],
   "source": [
    "def rolling_averages(group, cols, new_cols):\n",
    "    group = group.sort_values(\"Date\")\n",
    "    rolling_stats = group[cols].rolling(3, closed='left').mean()\n",
    "    group[new_cols] = rolling_stats\n",
    "    group = group.dropna(subset=new_cols)\n",
    "    return group"
   ]
  },
  {
   "cell_type": "code",
   "execution_count": 28,
   "id": "1cac5bb0-b477-4376-be32-9f8ac1ef834e",
   "metadata": {},
   "outputs": [],
   "source": [
    "cols = [\"FTHG\", \"FTAG\", \"B365>2.5\" ]\n",
    "new_cols =[f\"{c}_rolling\" for c in cols]"
   ]
  },
  {
   "cell_type": "code",
   "execution_count": 29,
   "id": "0a295621-5eae-47b3-be53-349c7a7d6cd3",
   "metadata": {},
   "outputs": [],
   "source": [
    "matches_rolling = matches.groupby(\"HomeTeam\").apply(lambda x: rolling_averages(x, cols, new_cols))"
   ]
  },
  {
   "cell_type": "code",
   "execution_count": 30,
   "id": "1e09c1e4-b732-4c40-a836-a28fbe29616e",
   "metadata": {},
   "outputs": [],
   "source": [
    "matches_rolling = matches_rolling.droplevel('HomeTeam')"
   ]
  },
  {
   "cell_type": "code",
   "execution_count": 31,
   "id": "d508160f-7d40-4a6f-9a7c-e6340b5b9b5c",
   "metadata": {},
   "outputs": [],
   "source": [
    "matches_rolling.index = range(matches_rolling.shape[0])"
   ]
  },
  {
   "cell_type": "code",
   "execution_count": 34,
   "id": "91e4b229-560b-423c-a9a6-22aa1aa6adc0",
   "metadata": {},
   "outputs": [],
   "source": [
    "def make_predictions(data, predictors):\n",
    "    train2 = data[data[\"Date\"] < '2022-01-08']\n",
    "    test2 = data[data[\"Date\"] > '2022-01-08']\n",
    "    rf.fit(train2[predictors], train2[\"high_scoring\"])\n",
    "    preds = rf.predict(test2[predictors])\n",
    "    combined = pd.DataFrame(dict(actual=test2[\"high_scoring\"], predicted=preds), index=test2.index)\n",
    "    prec = precision_score(test2[\"high_scoring\"], preds)\n",
    "    return combined, prec"
   ]
  },
  {
   "cell_type": "code",
   "execution_count": 33,
   "id": "6af98510-dfcd-4586-beb4-4164b0f5454b",
   "metadata": {},
   "outputs": [
    {
     "ename": "KeyError",
     "evalue": "\"['FTHG_rolling', 'FTAG_rolling', 'B365>2.5_rolling'] not in index\"",
     "output_type": "error",
     "traceback": [
      "\u001b[0;31m---------------------------------------------------------------------------\u001b[0m",
      "\u001b[0;31mKeyError\u001b[0m                                  Traceback (most recent call last)",
      "Cell \u001b[0;32mIn[33], line 1\u001b[0m\n\u001b[0;32m----> 1\u001b[0m combined, prec \u001b[38;5;241m=\u001b[39m \u001b[43mmake_predictions\u001b[49m\u001b[43m(\u001b[49m\u001b[43mmatches_rolling\u001b[49m\u001b[43m,\u001b[49m\u001b[43m \u001b[49m\u001b[43mpredictors\u001b[49m\u001b[43m \u001b[49m\u001b[38;5;241;43m+\u001b[39;49m\u001b[43m \u001b[49m\u001b[43mnew_cols\u001b[49m\u001b[43m)\u001b[49m\n",
      "Cell \u001b[0;32mIn[32], line 4\u001b[0m, in \u001b[0;36mmake_predictions\u001b[0;34m(data, predictors)\u001b[0m\n\u001b[1;32m      2\u001b[0m train2 \u001b[38;5;241m=\u001b[39m data[data[\u001b[38;5;124m\"\u001b[39m\u001b[38;5;124mDate\u001b[39m\u001b[38;5;124m\"\u001b[39m] \u001b[38;5;241m<\u001b[39m \u001b[38;5;124m'\u001b[39m\u001b[38;5;124m2022-01-08\u001b[39m\u001b[38;5;124m'\u001b[39m]\n\u001b[1;32m      3\u001b[0m test2 \u001b[38;5;241m=\u001b[39m data[data[\u001b[38;5;124m\"\u001b[39m\u001b[38;5;124mDate\u001b[39m\u001b[38;5;124m\"\u001b[39m] \u001b[38;5;241m>\u001b[39m \u001b[38;5;124m'\u001b[39m\u001b[38;5;124m2022-01-08\u001b[39m\u001b[38;5;124m'\u001b[39m]\n\u001b[0;32m----> 4\u001b[0m rf\u001b[38;5;241m.\u001b[39mfit(\u001b[43mtrain\u001b[49m\u001b[43m[\u001b[49m\u001b[43mpredictors\u001b[49m\u001b[43m]\u001b[49m, train[\u001b[38;5;124m\"\u001b[39m\u001b[38;5;124mhigh_scoring\u001b[39m\u001b[38;5;124m\"\u001b[39m])\n\u001b[1;32m      5\u001b[0m preds \u001b[38;5;241m=\u001b[39m rf\u001b[38;5;241m.\u001b[39mpredict(test[predictors])\n\u001b[1;32m      6\u001b[0m combined \u001b[38;5;241m=\u001b[39m pd\u001b[38;5;241m.\u001b[39mDataFrame(\u001b[38;5;28mdict\u001b[39m(actual\u001b[38;5;241m=\u001b[39mtest[\u001b[38;5;124m\"\u001b[39m\u001b[38;5;124mhigh_scoring\u001b[39m\u001b[38;5;124m\"\u001b[39m], predicted\u001b[38;5;241m=\u001b[39mpreds), index\u001b[38;5;241m=\u001b[39mtest\u001b[38;5;241m.\u001b[39mindex)\n",
      "File \u001b[0;32m~/.local/lib/python3.10/site-packages/pandas/core/frame.py:3767\u001b[0m, in \u001b[0;36mDataFrame.__getitem__\u001b[0;34m(self, key)\u001b[0m\n\u001b[1;32m   3765\u001b[0m     \u001b[38;5;28;01mif\u001b[39;00m is_iterator(key):\n\u001b[1;32m   3766\u001b[0m         key \u001b[38;5;241m=\u001b[39m \u001b[38;5;28mlist\u001b[39m(key)\n\u001b[0;32m-> 3767\u001b[0m     indexer \u001b[38;5;241m=\u001b[39m \u001b[38;5;28;43mself\u001b[39;49m\u001b[38;5;241;43m.\u001b[39;49m\u001b[43mcolumns\u001b[49m\u001b[38;5;241;43m.\u001b[39;49m\u001b[43m_get_indexer_strict\u001b[49m\u001b[43m(\u001b[49m\u001b[43mkey\u001b[49m\u001b[43m,\u001b[49m\u001b[43m \u001b[49m\u001b[38;5;124;43m\"\u001b[39;49m\u001b[38;5;124;43mcolumns\u001b[39;49m\u001b[38;5;124;43m\"\u001b[39;49m\u001b[43m)\u001b[49m[\u001b[38;5;241m1\u001b[39m]\n\u001b[1;32m   3769\u001b[0m \u001b[38;5;66;03m# take() does not accept boolean indexers\u001b[39;00m\n\u001b[1;32m   3770\u001b[0m \u001b[38;5;28;01mif\u001b[39;00m \u001b[38;5;28mgetattr\u001b[39m(indexer, \u001b[38;5;124m\"\u001b[39m\u001b[38;5;124mdtype\u001b[39m\u001b[38;5;124m\"\u001b[39m, \u001b[38;5;28;01mNone\u001b[39;00m) \u001b[38;5;241m==\u001b[39m \u001b[38;5;28mbool\u001b[39m:\n",
      "File \u001b[0;32m~/.local/lib/python3.10/site-packages/pandas/core/indexes/base.py:5877\u001b[0m, in \u001b[0;36mIndex._get_indexer_strict\u001b[0;34m(self, key, axis_name)\u001b[0m\n\u001b[1;32m   5874\u001b[0m \u001b[38;5;28;01melse\u001b[39;00m:\n\u001b[1;32m   5875\u001b[0m     keyarr, indexer, new_indexer \u001b[38;5;241m=\u001b[39m \u001b[38;5;28mself\u001b[39m\u001b[38;5;241m.\u001b[39m_reindex_non_unique(keyarr)\n\u001b[0;32m-> 5877\u001b[0m \u001b[38;5;28;43mself\u001b[39;49m\u001b[38;5;241;43m.\u001b[39;49m\u001b[43m_raise_if_missing\u001b[49m\u001b[43m(\u001b[49m\u001b[43mkeyarr\u001b[49m\u001b[43m,\u001b[49m\u001b[43m \u001b[49m\u001b[43mindexer\u001b[49m\u001b[43m,\u001b[49m\u001b[43m \u001b[49m\u001b[43maxis_name\u001b[49m\u001b[43m)\u001b[49m\n\u001b[1;32m   5879\u001b[0m keyarr \u001b[38;5;241m=\u001b[39m \u001b[38;5;28mself\u001b[39m\u001b[38;5;241m.\u001b[39mtake(indexer)\n\u001b[1;32m   5880\u001b[0m \u001b[38;5;28;01mif\u001b[39;00m \u001b[38;5;28misinstance\u001b[39m(key, Index):\n\u001b[1;32m   5881\u001b[0m     \u001b[38;5;66;03m# GH 42790 - Preserve name from an Index\u001b[39;00m\n",
      "File \u001b[0;32m~/.local/lib/python3.10/site-packages/pandas/core/indexes/base.py:5941\u001b[0m, in \u001b[0;36mIndex._raise_if_missing\u001b[0;34m(self, key, indexer, axis_name)\u001b[0m\n\u001b[1;32m   5938\u001b[0m     \u001b[38;5;28;01mraise\u001b[39;00m \u001b[38;5;167;01mKeyError\u001b[39;00m(\u001b[38;5;124mf\u001b[39m\u001b[38;5;124m\"\u001b[39m\u001b[38;5;124mNone of [\u001b[39m\u001b[38;5;132;01m{\u001b[39;00mkey\u001b[38;5;132;01m}\u001b[39;00m\u001b[38;5;124m] are in the [\u001b[39m\u001b[38;5;132;01m{\u001b[39;00maxis_name\u001b[38;5;132;01m}\u001b[39;00m\u001b[38;5;124m]\u001b[39m\u001b[38;5;124m\"\u001b[39m)\n\u001b[1;32m   5940\u001b[0m not_found \u001b[38;5;241m=\u001b[39m \u001b[38;5;28mlist\u001b[39m(ensure_index(key)[missing_mask\u001b[38;5;241m.\u001b[39mnonzero()[\u001b[38;5;241m0\u001b[39m]]\u001b[38;5;241m.\u001b[39munique())\n\u001b[0;32m-> 5941\u001b[0m \u001b[38;5;28;01mraise\u001b[39;00m \u001b[38;5;167;01mKeyError\u001b[39;00m(\u001b[38;5;124mf\u001b[39m\u001b[38;5;124m\"\u001b[39m\u001b[38;5;132;01m{\u001b[39;00mnot_found\u001b[38;5;132;01m}\u001b[39;00m\u001b[38;5;124m not in index\u001b[39m\u001b[38;5;124m\"\u001b[39m)\n",
      "\u001b[0;31mKeyError\u001b[0m: \"['FTHG_rolling', 'FTAG_rolling', 'B365>2.5_rolling'] not in index\""
     ]
    }
   ],
   "source": [
    "combined, prec = make_predictions(matches_rolling, predictors + new_cols)"
   ]
  },
  {
   "cell_type": "code",
   "execution_count": null,
   "id": "bebbc590-a57c-4cda-9d09-cec08adcdcc8",
   "metadata": {},
   "outputs": [],
   "source": [
    "prec"
   ]
  },
  {
   "cell_type": "markdown",
   "id": "443e97ea-c015-4c50-9627-89f635dc2d37",
   "metadata": {},
   "source": [
    "## Irony ##\n",
    "In attempts to improve the model, the model got worse. Possible reasoning: the model worked best when the inputs were what teams are platying, when and the bookmaker odds. When more data is in put, the model precision drops. The bookmaker odds contain within themselfs much of this information, and it would seem a simpler system based on who is playing and what the bookies think is possible less likely to be swayed be trends that don't repeat them selves."
   ]
  },
  {
   "cell_type": "markdown",
   "id": "0d508501-40ef-45c7-b500-a6ae4968a415",
   "metadata": {},
   "source": [
    "Returning to the original model:"
   ]
  },
  {
   "cell_type": "code",
   "execution_count": 35,
   "id": "b07b8f8c-5ee8-4190-9fcf-2a97e2acb525",
   "metadata": {},
   "outputs": [],
   "source": [
    "model2 = RandomForestClassifier(n_estimators=100, min_samples_split=10, random_state=3)"
   ]
  },
  {
   "cell_type": "code",
   "execution_count": 36,
   "id": "dff417a4-a6b3-4fbe-b028-8a70ac66f622",
   "metadata": {},
   "outputs": [
    {
     "data": {
      "text/html": [
       "<style>#sk-container-id-2 {color: black;}#sk-container-id-2 pre{padding: 0;}#sk-container-id-2 div.sk-toggleable {background-color: white;}#sk-container-id-2 label.sk-toggleable__label {cursor: pointer;display: block;width: 100%;margin-bottom: 0;padding: 0.3em;box-sizing: border-box;text-align: center;}#sk-container-id-2 label.sk-toggleable__label-arrow:before {content: \"▸\";float: left;margin-right: 0.25em;color: #696969;}#sk-container-id-2 label.sk-toggleable__label-arrow:hover:before {color: black;}#sk-container-id-2 div.sk-estimator:hover label.sk-toggleable__label-arrow:before {color: black;}#sk-container-id-2 div.sk-toggleable__content {max-height: 0;max-width: 0;overflow: hidden;text-align: left;background-color: #f0f8ff;}#sk-container-id-2 div.sk-toggleable__content pre {margin: 0.2em;color: black;border-radius: 0.25em;background-color: #f0f8ff;}#sk-container-id-2 input.sk-toggleable__control:checked~div.sk-toggleable__content {max-height: 200px;max-width: 100%;overflow: auto;}#sk-container-id-2 input.sk-toggleable__control:checked~label.sk-toggleable__label-arrow:before {content: \"▾\";}#sk-container-id-2 div.sk-estimator input.sk-toggleable__control:checked~label.sk-toggleable__label {background-color: #d4ebff;}#sk-container-id-2 div.sk-label input.sk-toggleable__control:checked~label.sk-toggleable__label {background-color: #d4ebff;}#sk-container-id-2 input.sk-hidden--visually {border: 0;clip: rect(1px 1px 1px 1px);clip: rect(1px, 1px, 1px, 1px);height: 1px;margin: -1px;overflow: hidden;padding: 0;position: absolute;width: 1px;}#sk-container-id-2 div.sk-estimator {font-family: monospace;background-color: #f0f8ff;border: 1px dotted black;border-radius: 0.25em;box-sizing: border-box;margin-bottom: 0.5em;}#sk-container-id-2 div.sk-estimator:hover {background-color: #d4ebff;}#sk-container-id-2 div.sk-parallel-item::after {content: \"\";width: 100%;border-bottom: 1px solid gray;flex-grow: 1;}#sk-container-id-2 div.sk-label:hover label.sk-toggleable__label {background-color: #d4ebff;}#sk-container-id-2 div.sk-serial::before {content: \"\";position: absolute;border-left: 1px solid gray;box-sizing: border-box;top: 0;bottom: 0;left: 50%;z-index: 0;}#sk-container-id-2 div.sk-serial {display: flex;flex-direction: column;align-items: center;background-color: white;padding-right: 0.2em;padding-left: 0.2em;position: relative;}#sk-container-id-2 div.sk-item {position: relative;z-index: 1;}#sk-container-id-2 div.sk-parallel {display: flex;align-items: stretch;justify-content: center;background-color: white;position: relative;}#sk-container-id-2 div.sk-item::before, #sk-container-id-2 div.sk-parallel-item::before {content: \"\";position: absolute;border-left: 1px solid gray;box-sizing: border-box;top: 0;bottom: 0;left: 50%;z-index: -1;}#sk-container-id-2 div.sk-parallel-item {display: flex;flex-direction: column;z-index: 1;position: relative;background-color: white;}#sk-container-id-2 div.sk-parallel-item:first-child::after {align-self: flex-end;width: 50%;}#sk-container-id-2 div.sk-parallel-item:last-child::after {align-self: flex-start;width: 50%;}#sk-container-id-2 div.sk-parallel-item:only-child::after {width: 0;}#sk-container-id-2 div.sk-dashed-wrapped {border: 1px dashed gray;margin: 0 0.4em 0.5em 0.4em;box-sizing: border-box;padding-bottom: 0.4em;background-color: white;}#sk-container-id-2 div.sk-label label {font-family: monospace;font-weight: bold;display: inline-block;line-height: 1.2em;}#sk-container-id-2 div.sk-label-container {text-align: center;}#sk-container-id-2 div.sk-container {/* jupyter's `normalize.less` sets `[hidden] { display: none; }` but bootstrap.min.css set `[hidden] { display: none !important; }` so we also need the `!important` here to be able to override the default hidden behavior on the sphinx rendered scikit-learn.org. See: https://github.com/scikit-learn/scikit-learn/issues/21755 */display: inline-block !important;position: relative;}#sk-container-id-2 div.sk-text-repr-fallback {display: none;}</style><div id=\"sk-container-id-2\" class=\"sk-top-container\"><div class=\"sk-text-repr-fallback\"><pre>RandomForestClassifier(min_samples_split=10, random_state=3)</pre><b>In a Jupyter environment, please rerun this cell to show the HTML representation or trust the notebook. <br />On GitHub, the HTML representation is unable to render, please try loading this page with nbviewer.org.</b></div><div class=\"sk-container\" hidden><div class=\"sk-item\"><div class=\"sk-estimator sk-toggleable\"><input class=\"sk-toggleable__control sk-hidden--visually\" id=\"sk-estimator-id-2\" type=\"checkbox\" checked><label for=\"sk-estimator-id-2\" class=\"sk-toggleable__label sk-toggleable__label-arrow\">RandomForestClassifier</label><div class=\"sk-toggleable__content\"><pre>RandomForestClassifier(min_samples_split=10, random_state=3)</pre></div></div></div></div></div>"
      ],
      "text/plain": [
       "RandomForestClassifier(min_samples_split=10, random_state=3)"
      ]
     },
     "execution_count": 36,
     "metadata": {},
     "output_type": "execute_result"
    }
   ],
   "source": [
    "model2.fit(train[predictors],train[\"high_scoring\"])"
   ]
  },
  {
   "cell_type": "code",
   "execution_count": 37,
   "id": "ddd5e06e-d1d6-462e-81af-8d747ec19a7c",
   "metadata": {},
   "outputs": [],
   "source": [
    "preds = model2.predict(test[predictors])"
   ]
  },
  {
   "cell_type": "code",
   "execution_count": 38,
   "id": "dc18c4a9-10b6-4055-93f5-14561c1a7346",
   "metadata": {},
   "outputs": [
    {
     "data": {
      "text/plain": [
       "['Day_code', 'home_code', 'away_code', 'B365>2.5']"
      ]
     },
     "execution_count": 38,
     "metadata": {},
     "output_type": "execute_result"
    }
   ],
   "source": [
    "predictors"
   ]
  },
  {
   "cell_type": "code",
   "execution_count": 39,
   "id": "37470090-f707-4aa9-ad1c-d2ba8be61026",
   "metadata": {},
   "outputs": [],
   "source": [
    "combined = pd.DataFrame(dict(actual=test[\"high_scoring\"],prediction=preds))\n",
    "pd.crosstab(index=combined[\"actual\"],columns=combined[\"prediction\"])\n",
    "prec = precision_score(test[\"high_scoring\"], preds)"
   ]
  },
  {
   "cell_type": "code",
   "execution_count": 40,
   "id": "443dfd5d-12f6-43d7-919f-4bf56af0979c",
   "metadata": {},
   "outputs": [
    {
     "data": {
      "text/plain": [
       "0.5634218289085545"
      ]
     },
     "execution_count": 40,
     "metadata": {},
     "output_type": "execute_result"
    }
   ],
   "source": [
    "prec"
   ]
  },
  {
   "cell_type": "code",
   "execution_count": null,
   "id": "29bacc36-a301-4d7e-bb25-173e016efa40",
   "metadata": {},
   "outputs": [],
   "source": []
  }
 ],
 "metadata": {
  "kernelspec": {
   "display_name": "Python 3 (ipykernel)",
   "language": "python",
   "name": "python3"
  },
  "language_info": {
   "codemirror_mode": {
    "name": "ipython",
    "version": 3
   },
   "file_extension": ".py",
   "mimetype": "text/x-python",
   "name": "python",
   "nbconvert_exporter": "python",
   "pygments_lexer": "ipython3",
   "version": "3.10.6"
  }
 },
 "nbformat": 4,
 "nbformat_minor": 5
}
