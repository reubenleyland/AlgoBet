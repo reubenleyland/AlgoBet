{
 "cells": [
  {
   "cell_type": "markdown",
   "id": "bb2dd0f9-979b-4fd4-9cc7-1e8f2ef4692c",
   "metadata": {},
   "source": [
    "## Bets ##\n",
    "Bets would be made using all the avalible models and personal judgement. In order to examin to quality of the models  alone we'll explore wheter averaging the model predictions across 22/23 would've made a profit"
   ]
  },
  {
   "cell_type": "markdown",
   "id": "9efb3394-6b7b-4f61-8344-412a8e335872",
   "metadata": {},
   "source": [
    "## Poisson section ##"
   ]
  },
  {
   "cell_type": "code",
   "execution_count": 1,
   "id": "a1f4b187-d741-4949-be09-5e6d4f82273f",
   "metadata": {},
   "outputs": [],
   "source": [
    "#import\n",
    "import pandas as pd\n",
    "import math\n",
    "\n",
    "#read our data\n",
    "matches= pd.read_csv(\"data_21.csv\")\n",
    "import matplotlib.pyplot as plt"
   ]
  },
  {
   "cell_type": "code",
   "execution_count": 2,
   "id": "69331ade-6cb5-450b-ab28-3acda1bd700a",
   "metadata": {},
   "outputs": [],
   "source": [
    "##A function to calculate the av goals of a team\n",
    "total_goals=0\n",
    "def calculate_avg_goals_per_game_scored(df, team_name):\n",
    "    \n",
    "    home_matches = df[(df['HomeTeam'] == team_name)]\n",
    "    away_matches=df[(df['AwayTeam'] == team_name)]\n",
    "    total_goals = home_matches['FTHG'].sum() + away_matches['FTAG'].sum()\n",
    "    total_matches = home_matches.shape[0] +away_matches.shape[0]\n",
    "    avg_goals_per_game = total_goals / total_matches\n",
    "    return avg_goals_per_game"
   ]
  },
  {
   "cell_type": "code",
   "execution_count": 3,
   "id": "491ef4c5-f661-40a5-9805-887eb84156ea",
   "metadata": {},
   "outputs": [],
   "source": [
    "def poisson(goals, av):\n",
    "    return (math.exp(-goals) * goals**av) / math.gamma(av+1)"
   ]
  },
  {
   "cell_type": "code",
   "execution_count": 4,
   "id": "8361ed52-e216-44d0-8992-22e17f36f220",
   "metadata": {},
   "outputs": [],
   "source": [
    "\n",
    "# Get a list of unique entries in the 'Category' column\n",
    "teams = matches['HomeTeam'].unique().tolist()"
   ]
  },
  {
   "cell_type": "code",
   "execution_count": 5,
   "id": "9620eb1b-2e66-4f09-9cc6-4e94280bc058",
   "metadata": {},
   "outputs": [
    {
     "data": {
      "text/plain": [
       "{'Brentford': 1.263157894736842,\n",
       " 'Man United': 1.5,\n",
       " 'Burnley': 0.8947368421052632,\n",
       " 'Chelsea': 2.054054054054054,\n",
       " 'Everton': 1.135135135135135,\n",
       " 'Leicester': 1.6486486486486487,\n",
       " 'Watford': 0.8947368421052632,\n",
       " 'Norwich': 0.6052631578947368,\n",
       " 'Newcastle': 1.1891891891891893,\n",
       " 'Tottenham': 1.7837837837837838,\n",
       " 'Liverpool': 2.473684210526316,\n",
       " 'Aston Villa': 1.368421052631579,\n",
       " 'Crystal Palace': 1.3157894736842106,\n",
       " 'Leeds': 1.135135135135135,\n",
       " 'Man City': 2.5277777777777777,\n",
       " 'Brighton': 1.105263157894737,\n",
       " 'Southampton': 1.131578947368421,\n",
       " 'Wolves': 1.0,\n",
       " 'Arsenal': 1.605263157894737,\n",
       " 'West Ham': 1.5789473684210527}"
      ]
     },
     "execution_count": 5,
     "metadata": {},
     "output_type": "execute_result"
    }
   ],
   "source": [
    "av_goals_scored_dict = {item: calculate_avg_goals_per_game_scored(matches,item) for item in teams}\n",
    "av_goals_scored_dict"
   ]
  },
  {
   "cell_type": "code",
   "execution_count": 6,
   "id": "091d79c0-9d3a-4d4b-b0d3-7df41679c663",
   "metadata": {},
   "outputs": [],
   "source": [
    "##A function to calculate the toal goals conceeded\n",
    "def calculate_avg_goals_per_game_conceeded(df, team_name):\n",
    "    \n",
    "    home_matches = df[(df['HomeTeam'] == team_name)]\n",
    "    away_matches=df[(df['AwayTeam'] == team_name)]\n",
    "    total_goals = home_matches['FTAG'].sum() + away_matches['FTHG'].sum()\n",
    "    total_matches = home_matches.shape[0] +away_matches.shape[0]\n",
    "    avg_goals_per_game = total_goals / total_matches\n",
    "    return avg_goals_per_game\n"
   ]
  },
  {
   "cell_type": "code",
   "execution_count": 7,
   "id": "db35aa38-418d-4e81-9e99-082148d77920",
   "metadata": {},
   "outputs": [
    {
     "data": {
      "text/plain": [
       "{'Brentford': 1.4736842105263157,\n",
       " 'Man United': 1.5,\n",
       " 'Burnley': 1.394736842105263,\n",
       " 'Chelsea': 0.8648648648648649,\n",
       " 'Everton': 1.7837837837837838,\n",
       " 'Leicester': 1.5135135135135136,\n",
       " 'Watford': 2.026315789473684,\n",
       " 'Norwich': 2.210526315789474,\n",
       " 'Newcastle': 1.5675675675675675,\n",
       " 'Tottenham': 1.054054054054054,\n",
       " 'Liverpool': 0.6842105263157895,\n",
       " 'Aston Villa': 1.4210526315789473,\n",
       " 'Crystal Palace': 1.2105263157894737,\n",
       " 'Leeds': 2.027027027027027,\n",
       " 'Man City': 0.7222222222222222,\n",
       " 'Brighton': 1.1578947368421053,\n",
       " 'Southampton': 1.763157894736842,\n",
       " 'Wolves': 1.131578947368421,\n",
       " 'Arsenal': 1.263157894736842,\n",
       " 'West Ham': 1.3421052631578947}"
      ]
     },
     "execution_count": 7,
     "metadata": {},
     "output_type": "execute_result"
    }
   ],
   "source": [
    "av_goals_conceeded_dict = {item: calculate_avg_goals_per_game_conceeded(matches,item) for item in teams}\n",
    "av_goals_conceeded_dict"
   ]
  },
  {
   "cell_type": "code",
   "execution_count": 8,
   "id": "77682f29-b498-4a10-bdda-d450acffd604",
   "metadata": {},
   "outputs": [],
   "source": [
    "def expected_goals (goals_dict,conceed_dict,home_team,away_team):\n",
    "    scored=(goals_dict[home_team]+conceed_dict[away_team])/2\n",
    "    conceed=(goals_dict[away_team]+conceed_dict[home_team])/2\n",
    "    XtotalG = scored +conceed\n",
    "    return XtotalG"
   ]
  },
  {
   "cell_type": "code",
   "execution_count": 9,
   "id": "9d8edcfb-cd87-46ae-92b5-68d9dd12ee6b",
   "metadata": {},
   "outputs": [],
   "source": [
    "def poisson_three_or_more(expected_goals):\n",
    "  \n",
    "    conj=(math.exp(-expected_goals) * expected_goals**0) / math.factorial(0)+(math.exp(-expected_goals) * expected_goals**1) / math.factorial(1)+(math.exp(-expected_goals) * expected_goals**2) / math.factorial(2)\n",
    "    XthreeOrMore =1-conj\n",
    "    return XthreeOrMore\n"
   ]
  },
  {
   "cell_type": "code",
   "execution_count": 10,
   "id": "23c6c606-5907-48f1-bb36-5e73e026d86c",
   "metadata": {},
   "outputs": [],
   "source": [
    "def high_scoring_prob(matches,av_goals_scored_dict,av_goals_conceeded_dict):\n",
    "    return poisson_three_or_more(expected_goals(av_goals_scored_dict,av_goals_conceeded_dict,matches[\"HomeTeam\"],matches[\"AwayTeam\"]))"
   ]
  },
  {
   "cell_type": "code",
   "execution_count": 11,
   "id": "3192c0d8-c978-488e-82bc-310e5800c226",
   "metadata": {},
   "outputs": [],
   "source": [
    "matches[\"high_scoring_prob\"]=matches.apply(high_scoring_prob, args=(av_goals_scored_dict,av_goals_conceeded_dict,),axis=1)"
   ]
  },
  {
   "cell_type": "code",
   "execution_count": 12,
   "id": "ede0c2cf-8e97-4061-8fb9-a7755102f685",
   "metadata": {},
   "outputs": [
    {
     "name": "stdout",
     "output_type": "stream",
     "text": [
      "  Div        Date   Time    HomeTeam        AwayTeam  FTHG  FTAG FTR  HTHG  \\\n",
      "0  E0  08/13/2021  20:00   Brentford         Arsenal     2     0   H     1   \n",
      "1  E0  08/14/2021  12:30  Man United           Leeds     5     1   H     1   \n",
      "2  E0  08/14/2021  15:00     Burnley        Brighton     1     2   A     1   \n",
      "3  E0  08/14/2021  15:00     Chelsea  Crystal Palace     3     0   H     2   \n",
      "4  E0  08/14/2021  15:00     Everton     Southampton     3     1   H     0   \n",
      "\n",
      "   HTAG  ...  AHCh B365CAHH  B365CAHA  PCAHH  PCAHA  MaxCAHH  MaxCAHA  \\\n",
      "0     0  ...  0.50     1.75      2.05   1.81   2.13     2.05     2.17   \n",
      "1     0  ... -1.00     2.05      1.75   2.17   1.77     2.19     1.93   \n",
      "2     0  ...  0.25     1.79      2.15   1.81   2.14     1.82     2.19   \n",
      "3     0  ... -1.50     2.05      1.75   2.12   1.81     2.16     1.93   \n",
      "4     1  ... -0.50     2.05      1.88   2.05   1.88     2.08     1.90   \n",
      "\n",
      "   AvgCAHH  AvgCAHA  high_scoring_prob  \n",
      "0     1.80     2.09           0.531173  \n",
      "1     2.10     1.79           0.594728  \n",
      "2     1.79     2.12           0.397671  \n",
      "3     2.06     1.82           0.511900  \n",
      "4     2.03     1.86           0.555615  \n",
      "\n",
      "[5 rows x 107 columns]\n"
     ]
    }
   ],
   "source": [
    "print(matches.head())"
   ]
  },
  {
   "cell_type": "markdown",
   "id": "dbd22e67-8428-41ac-a926-59af55caffba",
   "metadata": {
    "jp-MarkdownHeadingCollapsed": true
   },
   "source": [
    "## Bring in the ML model"
   ]
  },
  {
   "cell_type": "code",
   "execution_count": 13,
   "id": "6ec0da88-3f65-490e-a027-68d982690120",
   "metadata": {},
   "outputs": [],
   "source": [
    "from sklearn.ensemble import RandomForestClassifier"
   ]
  },
  {
   "cell_type": "code",
   "execution_count": 14,
   "id": "50eb12b3-9736-4442-871b-75eced352077",
   "metadata": {},
   "outputs": [],
   "source": [
    "matches[\"home_code\"]= matches[\"HomeTeam\"].astype(\"category\").cat.codes\n",
    "matches[\"away_code\"]= matches[\"AwayTeam\"].astype(\"category\").cat.codes\n",
    "matches['Date'] = pd.to_datetime(matches['Date'])\n",
    "matches[\"Day_code\"] = matches[\"Date\"].dt.dayofweek\n",
    "matches['ref_code']=matches['Referee'].astype(\"category\").cat.codes\n",
    "matches['high_scoring'] = (matches['FTHG'] + matches['FTAG'] >= 3).astype(int)\n",
    "\n"
   ]
  },
  {
   "cell_type": "code",
   "execution_count": 15,
   "id": "d0f024bf-ae9e-4e54-a7d8-316d95941239",
   "metadata": {},
   "outputs": [],
   "source": [
    "model = RandomForestClassifier(n_estimators=100, min_samples_split=10, random_state=3)"
   ]
  },
  {
   "cell_type": "code",
   "execution_count": 16,
   "id": "e925d463-d6a6-4cd0-98e1-aa7fe74573bc",
   "metadata": {},
   "outputs": [],
   "source": [
    "predictors = [\"Day_code\",\"home_code\",\"away_code\",\"B365>2.5\" ]"
   ]
  },
  {
   "cell_type": "code",
   "execution_count": 17,
   "id": "a8eae7f2-2c72-4c26-a3a2-570797b229a5",
   "metadata": {},
   "outputs": [
    {
     "data": {
      "text/html": [
       "<style>#sk-container-id-1 {color: black;}#sk-container-id-1 pre{padding: 0;}#sk-container-id-1 div.sk-toggleable {background-color: white;}#sk-container-id-1 label.sk-toggleable__label {cursor: pointer;display: block;width: 100%;margin-bottom: 0;padding: 0.3em;box-sizing: border-box;text-align: center;}#sk-container-id-1 label.sk-toggleable__label-arrow:before {content: \"▸\";float: left;margin-right: 0.25em;color: #696969;}#sk-container-id-1 label.sk-toggleable__label-arrow:hover:before {color: black;}#sk-container-id-1 div.sk-estimator:hover label.sk-toggleable__label-arrow:before {color: black;}#sk-container-id-1 div.sk-toggleable__content {max-height: 0;max-width: 0;overflow: hidden;text-align: left;background-color: #f0f8ff;}#sk-container-id-1 div.sk-toggleable__content pre {margin: 0.2em;color: black;border-radius: 0.25em;background-color: #f0f8ff;}#sk-container-id-1 input.sk-toggleable__control:checked~div.sk-toggleable__content {max-height: 200px;max-width: 100%;overflow: auto;}#sk-container-id-1 input.sk-toggleable__control:checked~label.sk-toggleable__label-arrow:before {content: \"▾\";}#sk-container-id-1 div.sk-estimator input.sk-toggleable__control:checked~label.sk-toggleable__label {background-color: #d4ebff;}#sk-container-id-1 div.sk-label input.sk-toggleable__control:checked~label.sk-toggleable__label {background-color: #d4ebff;}#sk-container-id-1 input.sk-hidden--visually {border: 0;clip: rect(1px 1px 1px 1px);clip: rect(1px, 1px, 1px, 1px);height: 1px;margin: -1px;overflow: hidden;padding: 0;position: absolute;width: 1px;}#sk-container-id-1 div.sk-estimator {font-family: monospace;background-color: #f0f8ff;border: 1px dotted black;border-radius: 0.25em;box-sizing: border-box;margin-bottom: 0.5em;}#sk-container-id-1 div.sk-estimator:hover {background-color: #d4ebff;}#sk-container-id-1 div.sk-parallel-item::after {content: \"\";width: 100%;border-bottom: 1px solid gray;flex-grow: 1;}#sk-container-id-1 div.sk-label:hover label.sk-toggleable__label {background-color: #d4ebff;}#sk-container-id-1 div.sk-serial::before {content: \"\";position: absolute;border-left: 1px solid gray;box-sizing: border-box;top: 0;bottom: 0;left: 50%;z-index: 0;}#sk-container-id-1 div.sk-serial {display: flex;flex-direction: column;align-items: center;background-color: white;padding-right: 0.2em;padding-left: 0.2em;position: relative;}#sk-container-id-1 div.sk-item {position: relative;z-index: 1;}#sk-container-id-1 div.sk-parallel {display: flex;align-items: stretch;justify-content: center;background-color: white;position: relative;}#sk-container-id-1 div.sk-item::before, #sk-container-id-1 div.sk-parallel-item::before {content: \"\";position: absolute;border-left: 1px solid gray;box-sizing: border-box;top: 0;bottom: 0;left: 50%;z-index: -1;}#sk-container-id-1 div.sk-parallel-item {display: flex;flex-direction: column;z-index: 1;position: relative;background-color: white;}#sk-container-id-1 div.sk-parallel-item:first-child::after {align-self: flex-end;width: 50%;}#sk-container-id-1 div.sk-parallel-item:last-child::after {align-self: flex-start;width: 50%;}#sk-container-id-1 div.sk-parallel-item:only-child::after {width: 0;}#sk-container-id-1 div.sk-dashed-wrapped {border: 1px dashed gray;margin: 0 0.4em 0.5em 0.4em;box-sizing: border-box;padding-bottom: 0.4em;background-color: white;}#sk-container-id-1 div.sk-label label {font-family: monospace;font-weight: bold;display: inline-block;line-height: 1.2em;}#sk-container-id-1 div.sk-label-container {text-align: center;}#sk-container-id-1 div.sk-container {/* jupyter's `normalize.less` sets `[hidden] { display: none; }` but bootstrap.min.css set `[hidden] { display: none !important; }` so we also need the `!important` here to be able to override the default hidden behavior on the sphinx rendered scikit-learn.org. See: https://github.com/scikit-learn/scikit-learn/issues/21755 */display: inline-block !important;position: relative;}#sk-container-id-1 div.sk-text-repr-fallback {display: none;}</style><div id=\"sk-container-id-1\" class=\"sk-top-container\"><div class=\"sk-text-repr-fallback\"><pre>RandomForestClassifier(min_samples_split=10, random_state=3)</pre><b>In a Jupyter environment, please rerun this cell to show the HTML representation or trust the notebook. <br />On GitHub, the HTML representation is unable to render, please try loading this page with nbviewer.org.</b></div><div class=\"sk-container\" hidden><div class=\"sk-item\"><div class=\"sk-estimator sk-toggleable\"><input class=\"sk-toggleable__control sk-hidden--visually\" id=\"sk-estimator-id-1\" type=\"checkbox\" checked><label for=\"sk-estimator-id-1\" class=\"sk-toggleable__label sk-toggleable__label-arrow\">RandomForestClassifier</label><div class=\"sk-toggleable__content\"><pre>RandomForestClassifier(min_samples_split=10, random_state=3)</pre></div></div></div></div></div>"
      ],
      "text/plain": [
       "RandomForestClassifier(min_samples_split=10, random_state=3)"
      ]
     },
     "execution_count": 17,
     "metadata": {},
     "output_type": "execute_result"
    }
   ],
   "source": [
    "model.fit(matches[predictors],matches[\"high_scoring\"])"
   ]
  },
  {
   "cell_type": "markdown",
   "id": "fe39dd63-6612-43e5-9fc8-bed54e577804",
   "metadata": {
    "jp-MarkdownHeadingCollapsed": true
   },
   "source": [
    "## Now examin the quality of the predicitons made on the 22/23 season ##"
   ]
  },
  {
   "cell_type": "code",
   "execution_count": 18,
   "id": "571f8110-5aca-4c53-b291-e25129e9f6aa",
   "metadata": {},
   "outputs": [],
   "source": [
    "#read our new data that we will made predicitons on\n",
    "matches2= pd.read_csv(\"season_2223.csv\")\n",
    "\n",
    "#prepare this data\n",
    "matches2[\"home_code\"]= matches2[\"HomeTeam\"].astype(\"category\").cat.codes\n",
    "matches2[\"away_code\"]= matches2[\"AwayTeam\"].astype(\"category\").cat.codes\n",
    "matches2['Date'] = pd.to_datetime(matches2['Date'])\n",
    "matches2[\"Day_code\"] = matches2[\"Date\"].dt.dayofweek\n",
    "matches2['ref_code']=matches2['Referee'].astype(\"category\").cat.codes\n",
    "matches2['high_scoring'] = (matches2['FTHG'] + matches2['FTAG'] >= 3).astype(int)"
   ]
  },
  {
   "cell_type": "code",
   "execution_count": 19,
   "id": "2d3fbc83-e56f-497d-913b-c583b6071395",
   "metadata": {},
   "outputs": [],
   "source": [
    "#predict with the ml model\n",
    "preds_ml = model.predict(matches2[predictors])"
   ]
  },
  {
   "cell_type": "markdown",
   "id": "07cf1a3b-b5d3-4713-ac1e-c7d660fa2641",
   "metadata": {},
   "source": [
    "Now examin the expected probabilities using the poisson. We will fid the expected probabiltiy of 3 or more goals for each game based on the preseason scoring average.\n",
    "Issue of not having average goals for the three promoted teams is "
   ]
  },
  {
   "cell_type": "code",
   "execution_count": 20,
   "id": "edffd52d-81ab-4785-87e7-c94d97aedc0a",
   "metadata": {},
   "outputs": [],
   "source": [
    "av_goals_scored_dict[\"Nott'm Forest\"] =1\n",
    "av_goals_scored_dict[\"Fulham\"]=1\n",
    "av_goals_scored_dict[\"Bournemouth\"]=1\n",
    "av_goals_conceeded_dict[\"Nott'm Forest\"]=1.5\n",
    "av_goals_conceeded_dict[\"Fulham\"]=1.5\n",
    "av_goals_conceeded_dict[\"Bournemouth\"]=1.5\n"
   ]
  },
  {
   "cell_type": "code",
   "execution_count": 21,
   "id": "caed529b-4cd1-4575-b0ea-b640c3fcad65",
   "metadata": {},
   "outputs": [],
   "source": [
    "matches2[\"high_scoring_prob\"]=matches2.apply(high_scoring_prob, args=(av_goals_scored_dict,av_goals_conceeded_dict,),axis=1)"
   ]
  },
  {
   "cell_type": "code",
   "execution_count": 22,
   "id": "559115bd-e1d2-4d4e-a37e-135131e8f494",
   "metadata": {},
   "outputs": [
    {
     "data": {
      "text/plain": [
       "0.5481171548117155"
      ]
     },
     "execution_count": 22,
     "metadata": {},
     "output_type": "execute_result"
    }
   ],
   "source": [
    "matches2[\"ml_preds\"]=preds_ml\n",
    "from sklearn.metrics import accuracy_score\n",
    "from sklearn.metrics import precision_score\n",
    "prec=precision_score(matches2[\"high_scoring\"],preds_ml)\n",
    "prec"
   ]
  },
  {
   "cell_type": "code",
   "execution_count": 23,
   "id": "486c66ff-25ab-4b3d-8d3a-1b1c44ca78b8",
   "metadata": {},
   "outputs": [
    {
     "data": {
      "text/html": [
       "<div>\n",
       "<style scoped>\n",
       "    .dataframe tbody tr th:only-of-type {\n",
       "        vertical-align: middle;\n",
       "    }\n",
       "\n",
       "    .dataframe tbody tr th {\n",
       "        vertical-align: top;\n",
       "    }\n",
       "\n",
       "    .dataframe thead th {\n",
       "        text-align: right;\n",
       "    }\n",
       "</style>\n",
       "<table border=\"1\" class=\"dataframe\">\n",
       "  <thead>\n",
       "    <tr style=\"text-align: right;\">\n",
       "      <th></th>\n",
       "      <th>Div</th>\n",
       "      <th>Date</th>\n",
       "      <th>Time</th>\n",
       "      <th>HomeTeam</th>\n",
       "      <th>AwayTeam</th>\n",
       "      <th>FTHG</th>\n",
       "      <th>FTAG</th>\n",
       "      <th>FTR</th>\n",
       "      <th>HTHG</th>\n",
       "      <th>HTAG</th>\n",
       "      <th>...</th>\n",
       "      <th>MaxCAHA</th>\n",
       "      <th>AvgCAHH</th>\n",
       "      <th>AvgCAHA</th>\n",
       "      <th>home_code</th>\n",
       "      <th>away_code</th>\n",
       "      <th>Day_code</th>\n",
       "      <th>ref_code</th>\n",
       "      <th>high_scoring</th>\n",
       "      <th>high_scoring_prob</th>\n",
       "      <th>ml_preds</th>\n",
       "    </tr>\n",
       "  </thead>\n",
       "  <tbody>\n",
       "    <tr>\n",
       "      <th>0</th>\n",
       "      <td>E0</td>\n",
       "      <td>2022-08-05</td>\n",
       "      <td>20:00</td>\n",
       "      <td>Crystal Palace</td>\n",
       "      <td>Arsenal</td>\n",
       "      <td>0</td>\n",
       "      <td>2</td>\n",
       "      <td>A</td>\n",
       "      <td>0</td>\n",
       "      <td>1</td>\n",
       "      <td>...</td>\n",
       "      <td>1.88</td>\n",
       "      <td>2.03</td>\n",
       "      <td>1.85</td>\n",
       "      <td>6</td>\n",
       "      <td>0</td>\n",
       "      <td>4</td>\n",
       "      <td>2</td>\n",
       "      <td>0</td>\n",
       "      <td>0.505731</td>\n",
       "      <td>1</td>\n",
       "    </tr>\n",
       "    <tr>\n",
       "      <th>1</th>\n",
       "      <td>E0</td>\n",
       "      <td>2022-08-06</td>\n",
       "      <td>12:30</td>\n",
       "      <td>Fulham</td>\n",
       "      <td>Liverpool</td>\n",
       "      <td>2</td>\n",
       "      <td>2</td>\n",
       "      <td>D</td>\n",
       "      <td>1</td>\n",
       "      <td>0</td>\n",
       "      <td>...</td>\n",
       "      <td>2.06</td>\n",
       "      <td>1.89</td>\n",
       "      <td>1.99</td>\n",
       "      <td>8</td>\n",
       "      <td>11</td>\n",
       "      <td>5</td>\n",
       "      <td>0</td>\n",
       "      <td>1</td>\n",
       "      <td>0.537418</td>\n",
       "      <td>1</td>\n",
       "    </tr>\n",
       "    <tr>\n",
       "      <th>2</th>\n",
       "      <td>E0</td>\n",
       "      <td>2022-08-06</td>\n",
       "      <td>15:00</td>\n",
       "      <td>Bournemouth</td>\n",
       "      <td>Aston Villa</td>\n",
       "      <td>2</td>\n",
       "      <td>0</td>\n",
       "      <td>H</td>\n",
       "      <td>1</td>\n",
       "      <td>0</td>\n",
       "      <td>...</td>\n",
       "      <td>2.04</td>\n",
       "      <td>1.88</td>\n",
       "      <td>2.00</td>\n",
       "      <td>2</td>\n",
       "      <td>1</td>\n",
       "      <td>5</td>\n",
       "      <td>14</td>\n",
       "      <td>0</td>\n",
       "      <td>0.492743</td>\n",
       "      <td>0</td>\n",
       "    </tr>\n",
       "    <tr>\n",
       "      <th>3</th>\n",
       "      <td>E0</td>\n",
       "      <td>2022-08-06</td>\n",
       "      <td>15:00</td>\n",
       "      <td>Leeds</td>\n",
       "      <td>Wolves</td>\n",
       "      <td>2</td>\n",
       "      <td>1</td>\n",
       "      <td>H</td>\n",
       "      <td>1</td>\n",
       "      <td>1</td>\n",
       "      <td>...</td>\n",
       "      <td>1.87</td>\n",
       "      <td>2.08</td>\n",
       "      <td>1.81</td>\n",
       "      <td>9</td>\n",
       "      <td>19</td>\n",
       "      <td>5</td>\n",
       "      <td>16</td>\n",
       "      <td>1</td>\n",
       "      <td>0.493272</td>\n",
       "      <td>0</td>\n",
       "    </tr>\n",
       "    <tr>\n",
       "      <th>4</th>\n",
       "      <td>E0</td>\n",
       "      <td>2022-08-06</td>\n",
       "      <td>15:00</td>\n",
       "      <td>Newcastle</td>\n",
       "      <td>Nott'm Forest</td>\n",
       "      <td>2</td>\n",
       "      <td>0</td>\n",
       "      <td>H</td>\n",
       "      <td>0</td>\n",
       "      <td>0</td>\n",
       "      <td>...</td>\n",
       "      <td>1.97</td>\n",
       "      <td>2.03</td>\n",
       "      <td>1.86</td>\n",
       "      <td>14</td>\n",
       "      <td>15</td>\n",
       "      <td>5</td>\n",
       "      <td>19</td>\n",
       "      <td>0</td>\n",
       "      <td>0.488671</td>\n",
       "      <td>1</td>\n",
       "    </tr>\n",
       "  </tbody>\n",
       "</table>\n",
       "<p>5 rows × 113 columns</p>\n",
       "</div>"
      ],
      "text/plain": [
       "  Div       Date   Time        HomeTeam       AwayTeam  FTHG  FTAG FTR  HTHG  \\\n",
       "0  E0 2022-08-05  20:00  Crystal Palace        Arsenal     0     2   A     0   \n",
       "1  E0 2022-08-06  12:30          Fulham      Liverpool     2     2   D     1   \n",
       "2  E0 2022-08-06  15:00     Bournemouth    Aston Villa     2     0   H     1   \n",
       "3  E0 2022-08-06  15:00           Leeds         Wolves     2     1   H     1   \n",
       "4  E0 2022-08-06  15:00       Newcastle  Nott'm Forest     2     0   H     0   \n",
       "\n",
       "   HTAG  ... MaxCAHA AvgCAHH  AvgCAHA  home_code  away_code  Day_code  \\\n",
       "0     1  ...    1.88    2.03     1.85          6          0         4   \n",
       "1     0  ...    2.06    1.89     1.99          8         11         5   \n",
       "2     0  ...    2.04    1.88     2.00          2          1         5   \n",
       "3     1  ...    1.87    2.08     1.81          9         19         5   \n",
       "4     0  ...    1.97    2.03     1.86         14         15         5   \n",
       "\n",
       "   ref_code  high_scoring  high_scoring_prob  ml_preds  \n",
       "0         2             0           0.505731         1  \n",
       "1         0             1           0.537418         1  \n",
       "2        14             0           0.492743         0  \n",
       "3        16             1           0.493272         0  \n",
       "4        19             0           0.488671         1  \n",
       "\n",
       "[5 rows x 113 columns]"
      ]
     },
     "execution_count": 23,
     "metadata": {},
     "output_type": "execute_result"
    }
   ],
   "source": [
    "matches2.head()"
   ]
  },
  {
   "cell_type": "markdown",
   "id": "ff96b9e3-4f55-4dac-bbd6-deb5c8be475f",
   "metadata": {
    "jp-MarkdownHeadingCollapsed": true
   },
   "source": [
    "## Stratergy ##\n",
    "Following a simple base stratergy, only bet when ml_preds=1, high_scoring_prob>50  and the implied odds (1/high_scoring_prob) are lower than the best avaible odds."
   ]
  },
  {
   "cell_type": "code",
   "execution_count": 24,
   "id": "8834413d-0c1a-493f-8be6-97cfbc54e261",
   "metadata": {},
   "outputs": [],
   "source": [
    "def bet_made(row):\n",
    "    implied_odds = 1 / row['high_scoring_prob']\n",
    "    \n",
    "    # Set bet_made to 0 if ml_preds contains 0\n",
    "    if row['ml_preds'] == 0:\n",
    "        return 0\n",
    "\n",
    "    # Set bet_made to 1 if bet has been made\n",
    "    if row['Max>2.5'] > implied_odds and row['ml_preds'] == 1:\n",
    "        return 1\n",
    "    \n",
    "    return 0\n",
    "\n",
    "matches2['bet_made'] = matches2.apply(lambda row: bet_made(row), axis=1)\n",
    "\n",
    "\n"
   ]
  },
  {
   "cell_type": "code",
   "execution_count": 25,
   "id": "00d82f7a-89ef-4662-969c-31da7def44db",
   "metadata": {},
   "outputs": [
    {
     "data": {
      "text/plain": [
       "Index(['Div', 'Date', 'Time', 'HomeTeam', 'AwayTeam', 'FTHG', 'FTAG', 'FTR',\n",
       "       'HTHG', 'HTAG',\n",
       "       ...\n",
       "       'AvgCAHH', 'AvgCAHA', 'home_code', 'away_code', 'Day_code', 'ref_code',\n",
       "       'high_scoring', 'high_scoring_prob', 'ml_preds', 'bet_made'],\n",
       "      dtype='object', length=114)"
      ]
     },
     "execution_count": 25,
     "metadata": {},
     "output_type": "execute_result"
    }
   ],
   "source": [
    "matches2.columns"
   ]
  },
  {
   "cell_type": "code",
   "execution_count": 26,
   "id": "4463d66b-20d6-4a64-89c5-9b669a6404ff",
   "metadata": {},
   "outputs": [],
   "source": [
    "matches2['bet_made'] = matches2.apply(lambda row: bet_made(row), axis=1)"
   ]
  },
  {
   "cell_type": "code",
   "execution_count": 27,
   "id": "b1d537b0-2ae5-4014-a2d9-9ff6283ccdee",
   "metadata": {},
   "outputs": [],
   "source": [
    "##create a function to create a pnl row\n",
    "def pnl(row):\n",
    "    if row['bet_made'] == 0:\n",
    "        return 0\n",
    "    if row['bet_made'] == 1 and row['high_scoring'] == 1:\n",
    "        return row['Max>2.5'] -1\n",
    "    if row['bet_made'] == 1 and row['high_scoring'] == 0:\n",
    "        return -1"
   ]
  },
  {
   "cell_type": "code",
   "execution_count": 28,
   "id": "48539fc5-bca9-428a-9c4b-6558e60930ac",
   "metadata": {},
   "outputs": [],
   "source": [
    "matches2['pnl'] = matches2.apply(pnl, axis=1)"
   ]
  },
  {
   "cell_type": "code",
   "execution_count": 29,
   "id": "8ad9b868-09a4-4142-8379-98a0a7593a6e",
   "metadata": {},
   "outputs": [
    {
     "data": {
      "text/html": [
       "<div>\n",
       "<style scoped>\n",
       "    .dataframe tbody tr th:only-of-type {\n",
       "        vertical-align: middle;\n",
       "    }\n",
       "\n",
       "    .dataframe tbody tr th {\n",
       "        vertical-align: top;\n",
       "    }\n",
       "\n",
       "    .dataframe thead th {\n",
       "        text-align: right;\n",
       "    }\n",
       "</style>\n",
       "<table border=\"1\" class=\"dataframe\">\n",
       "  <thead>\n",
       "    <tr style=\"text-align: right;\">\n",
       "      <th></th>\n",
       "      <th>Div</th>\n",
       "      <th>Date</th>\n",
       "      <th>Time</th>\n",
       "      <th>HomeTeam</th>\n",
       "      <th>AwayTeam</th>\n",
       "      <th>FTHG</th>\n",
       "      <th>FTAG</th>\n",
       "      <th>FTR</th>\n",
       "      <th>HTHG</th>\n",
       "      <th>HTAG</th>\n",
       "      <th>...</th>\n",
       "      <th>AvgCAHA</th>\n",
       "      <th>home_code</th>\n",
       "      <th>away_code</th>\n",
       "      <th>Day_code</th>\n",
       "      <th>ref_code</th>\n",
       "      <th>high_scoring</th>\n",
       "      <th>high_scoring_prob</th>\n",
       "      <th>ml_preds</th>\n",
       "      <th>bet_made</th>\n",
       "      <th>pnl</th>\n",
       "    </tr>\n",
       "  </thead>\n",
       "  <tbody>\n",
       "    <tr>\n",
       "      <th>0</th>\n",
       "      <td>E0</td>\n",
       "      <td>2022-08-05</td>\n",
       "      <td>20:00</td>\n",
       "      <td>Crystal Palace</td>\n",
       "      <td>Arsenal</td>\n",
       "      <td>0</td>\n",
       "      <td>2</td>\n",
       "      <td>A</td>\n",
       "      <td>0</td>\n",
       "      <td>1</td>\n",
       "      <td>...</td>\n",
       "      <td>1.85</td>\n",
       "      <td>6</td>\n",
       "      <td>0</td>\n",
       "      <td>4</td>\n",
       "      <td>2</td>\n",
       "      <td>0</td>\n",
       "      <td>0.505731</td>\n",
       "      <td>1</td>\n",
       "      <td>1</td>\n",
       "      <td>-1.0</td>\n",
       "    </tr>\n",
       "    <tr>\n",
       "      <th>1</th>\n",
       "      <td>E0</td>\n",
       "      <td>2022-08-06</td>\n",
       "      <td>12:30</td>\n",
       "      <td>Fulham</td>\n",
       "      <td>Liverpool</td>\n",
       "      <td>2</td>\n",
       "      <td>2</td>\n",
       "      <td>D</td>\n",
       "      <td>1</td>\n",
       "      <td>0</td>\n",
       "      <td>...</td>\n",
       "      <td>1.99</td>\n",
       "      <td>8</td>\n",
       "      <td>11</td>\n",
       "      <td>5</td>\n",
       "      <td>0</td>\n",
       "      <td>1</td>\n",
       "      <td>0.537418</td>\n",
       "      <td>1</td>\n",
       "      <td>0</td>\n",
       "      <td>0.0</td>\n",
       "    </tr>\n",
       "    <tr>\n",
       "      <th>2</th>\n",
       "      <td>E0</td>\n",
       "      <td>2022-08-06</td>\n",
       "      <td>15:00</td>\n",
       "      <td>Bournemouth</td>\n",
       "      <td>Aston Villa</td>\n",
       "      <td>2</td>\n",
       "      <td>0</td>\n",
       "      <td>H</td>\n",
       "      <td>1</td>\n",
       "      <td>0</td>\n",
       "      <td>...</td>\n",
       "      <td>2.00</td>\n",
       "      <td>2</td>\n",
       "      <td>1</td>\n",
       "      <td>5</td>\n",
       "      <td>14</td>\n",
       "      <td>0</td>\n",
       "      <td>0.492743</td>\n",
       "      <td>0</td>\n",
       "      <td>0</td>\n",
       "      <td>0.0</td>\n",
       "    </tr>\n",
       "    <tr>\n",
       "      <th>3</th>\n",
       "      <td>E0</td>\n",
       "      <td>2022-08-06</td>\n",
       "      <td>15:00</td>\n",
       "      <td>Leeds</td>\n",
       "      <td>Wolves</td>\n",
       "      <td>2</td>\n",
       "      <td>1</td>\n",
       "      <td>H</td>\n",
       "      <td>1</td>\n",
       "      <td>1</td>\n",
       "      <td>...</td>\n",
       "      <td>1.81</td>\n",
       "      <td>9</td>\n",
       "      <td>19</td>\n",
       "      <td>5</td>\n",
       "      <td>16</td>\n",
       "      <td>1</td>\n",
       "      <td>0.493272</td>\n",
       "      <td>0</td>\n",
       "      <td>0</td>\n",
       "      <td>0.0</td>\n",
       "    </tr>\n",
       "    <tr>\n",
       "      <th>4</th>\n",
       "      <td>E0</td>\n",
       "      <td>2022-08-06</td>\n",
       "      <td>15:00</td>\n",
       "      <td>Newcastle</td>\n",
       "      <td>Nott'm Forest</td>\n",
       "      <td>2</td>\n",
       "      <td>0</td>\n",
       "      <td>H</td>\n",
       "      <td>0</td>\n",
       "      <td>0</td>\n",
       "      <td>...</td>\n",
       "      <td>1.86</td>\n",
       "      <td>14</td>\n",
       "      <td>15</td>\n",
       "      <td>5</td>\n",
       "      <td>19</td>\n",
       "      <td>0</td>\n",
       "      <td>0.488671</td>\n",
       "      <td>1</td>\n",
       "      <td>1</td>\n",
       "      <td>-1.0</td>\n",
       "    </tr>\n",
       "  </tbody>\n",
       "</table>\n",
       "<p>5 rows × 115 columns</p>\n",
       "</div>"
      ],
      "text/plain": [
       "  Div       Date   Time        HomeTeam       AwayTeam  FTHG  FTAG FTR  HTHG  \\\n",
       "0  E0 2022-08-05  20:00  Crystal Palace        Arsenal     0     2   A     0   \n",
       "1  E0 2022-08-06  12:30          Fulham      Liverpool     2     2   D     1   \n",
       "2  E0 2022-08-06  15:00     Bournemouth    Aston Villa     2     0   H     1   \n",
       "3  E0 2022-08-06  15:00           Leeds         Wolves     2     1   H     1   \n",
       "4  E0 2022-08-06  15:00       Newcastle  Nott'm Forest     2     0   H     0   \n",
       "\n",
       "   HTAG  ... AvgCAHA home_code  away_code  Day_code  ref_code  high_scoring  \\\n",
       "0     1  ...    1.85         6          0         4         2             0   \n",
       "1     0  ...    1.99         8         11         5         0             1   \n",
       "2     0  ...    2.00         2          1         5        14             0   \n",
       "3     1  ...    1.81         9         19         5        16             1   \n",
       "4     0  ...    1.86        14         15         5        19             0   \n",
       "\n",
       "   high_scoring_prob  ml_preds  bet_made  pnl  \n",
       "0           0.505731         1         1 -1.0  \n",
       "1           0.537418         1         0  0.0  \n",
       "2           0.492743         0         0  0.0  \n",
       "3           0.493272         0         0  0.0  \n",
       "4           0.488671         1         1 -1.0  \n",
       "\n",
       "[5 rows x 115 columns]"
      ]
     },
     "execution_count": 29,
     "metadata": {},
     "output_type": "execute_result"
    }
   ],
   "source": [
    "matches2.head()"
   ]
  },
  {
   "cell_type": "code",
   "execution_count": 30,
   "id": "e6c9b0e6-2e5e-4342-8377-b19a61af2df9",
   "metadata": {},
   "outputs": [],
   "source": [
    "totalstake=matches2[\"bet_made\"].sum()\n",
    "totalpnl=matches2['pnl'].sum()"
   ]
  },
  {
   "cell_type": "code",
   "execution_count": 31,
   "id": "d29c513f-f7ad-4304-aae6-a48d3d1d6739",
   "metadata": {},
   "outputs": [
    {
     "data": {
      "text/plain": [
       "103"
      ]
     },
     "execution_count": 31,
     "metadata": {},
     "output_type": "execute_result"
    }
   ],
   "source": [
    "\n",
    "totalstake"
   ]
  },
  {
   "cell_type": "code",
   "execution_count": 32,
   "id": "cde38ae5-6643-4c69-bcd2-514b46a3c824",
   "metadata": {},
   "outputs": [
    {
     "data": {
      "text/plain": [
       "-5.290000000000001"
      ]
     },
     "execution_count": 32,
     "metadata": {},
     "output_type": "execute_result"
    }
   ],
   "source": [
    "totalpnl"
   ]
  },
  {
   "cell_type": "markdown",
   "id": "74dba712-9c31-4b8c-87c6-ec68b4f4aa01",
   "metadata": {},
   "source": [
    "## Analysis of results ##\n",
    "looks like we lost a little"
   ]
  },
  {
   "cell_type": "code",
   "execution_count": 33,
   "id": "b036e35c-bad1-4031-941b-642ca2af50c3",
   "metadata": {},
   "outputs": [
    {
     "data": {
      "image/png": "[encoded data removed]",
      "text/plain": [
       "<Figure size 640x480 with 1 Axes>"
      ]
     },
     "metadata": {},
     "output_type": "display_data"
    }
   ],
   "source": [
    "#get the pnl\n",
    "import numpy as np\n",
    "pnl_results = matches2.loc[:, 'pnl'].values\n",
    "pnl_cumulative=np.cumsum(pnl_results)\n",
    "\n",
    "\n",
    "\n",
    "\n",
    "# plot a graph of pnl\n",
    "import matplotlib.pyplot as plt\n",
    "plt.plot(pnl_cumulative)\n",
    "plt.xlabel('match')\n",
    "plt.ylabel('PnL')\n",
    "plt.title('PnL')\n",
    "plt.axhline(0, color='red', linestyle='--')\n",
    "plt.show()"
   ]
  },
  {
   "cell_type": "code",
   "execution_count": 34,
   "id": "16b05ebc-42f6-4084-b691-268f4b2b7a07",
   "metadata": {},
   "outputs": [],
   "source": [
    "#counting bets on teams\n",
    "filtered_df = matches2[matches2['bet_made'] == 1]  # Filter the DataFrame \n",
    "\n",
    "#work out most and least bet on teams\n",
    "team_counts_home = filtered_df['HomeTeam'].value_counts().to_dict()\n",
    "team_counts_away =filtered_df['AwayTeam'].value_counts().to_dict()\n",
    "\n"
   ]
  },
  {
   "cell_type": "code",
   "execution_count": 35,
   "id": "8b612a30-c3d6-4716-baa6-80597e7c5137",
   "metadata": {},
   "outputs": [
    {
     "data": {
      "text/html": [
       "<div>\n",
       "<style scoped>\n",
       "    .dataframe tbody tr th:only-of-type {\n",
       "        vertical-align: middle;\n",
       "    }\n",
       "\n",
       "    .dataframe tbody tr th {\n",
       "        vertical-align: top;\n",
       "    }\n",
       "\n",
       "    .dataframe thead th {\n",
       "        text-align: right;\n",
       "    }\n",
       "</style>\n",
       "<table border=\"1\" class=\"dataframe\">\n",
       "  <thead>\n",
       "    <tr style=\"text-align: right;\">\n",
       "      <th></th>\n",
       "      <th>stat</th>\n",
       "      <th>result</th>\n",
       "    </tr>\n",
       "  </thead>\n",
       "  <tbody>\n",
       "    <tr>\n",
       "      <th>0</th>\n",
       "      <td>Bets_made</td>\n",
       "      <td>103</td>\n",
       "    </tr>\n",
       "    <tr>\n",
       "      <th>1</th>\n",
       "      <td>profit</td>\n",
       "      <td>-5.29</td>\n",
       "    </tr>\n",
       "    <tr>\n",
       "      <th>2</th>\n",
       "      <td>Most_Bet</td>\n",
       "      <td>West Ham</td>\n",
       "    </tr>\n",
       "    <tr>\n",
       "      <th>3</th>\n",
       "      <td>Least_bet</td>\n",
       "      <td>Wolves and Fulham</td>\n",
       "    </tr>\n",
       "  </tbody>\n",
       "</table>\n",
       "</div>"
      ],
      "text/plain": [
       "        stat             result\n",
       "0  Bets_made                103\n",
       "1     profit              -5.29\n",
       "2   Most_Bet           West Ham\n",
       "3  Least_bet  Wolves and Fulham"
      ]
     },
     "execution_count": 35,
     "metadata": {},
     "output_type": "execute_result"
    }
   ],
   "source": [
    "#Make a results table\n",
    "headers=[\"Bets_made\",\"profit\",'Most_Bet','Least_bet']\n",
    "answers=[matches2[\"bet_made\"].sum(),totalpnl,'West Ham','Wolves and Fulham']\n",
    "\n",
    "results = pd.DataFrame({'stat': headers, 'result': answers})\n",
    "results = results.reset_index(drop=True)\n",
    "results"
   ]
  },
  {
   "cell_type": "markdown",
   "id": "daf757ad-6acf-402b-bbec-3a052cb70d89",
   "metadata": {
    "jp-MarkdownHeadingCollapsed": true
   },
   "source": [
    "## Compare to other stratergies ##\n",
    "To examin the merit of the models it is imperative to compare to the performance of other models. As this is a relativly small data set so the varice in the results is likley to be high."
   ]
  },
  {
   "cell_type": "code",
   "execution_count": 36,
   "id": "0f3941d9-c2b4-4d38-9b1a-f04734880652",
   "metadata": {},
   "outputs": [],
   "source": [
    "##Bet on all matches with odds >2\n",
    "def alt_one(row):\n",
    "    # Set alt_one to 1 if bet has been made\n",
    "    if row['Max>2.5'] > 2:\n",
    "        return 1\n",
    "    else:\n",
    "        return 0\n",
    "\n",
    "matches2['alt_one_bets'] = matches2.apply(lambda row: alt_one(row), axis=1)\n",
    "\n",
    "#Bet when the Poisson model suggest favourable implied odds\n",
    "def alt_two(row):\n",
    "    implied_odds = 1 / row['high_scoring_prob']\n",
    "    \n",
    "    # Set bet_made to 1 if bet has been made\n",
    "    if row['Max>2.5'] > implied_odds:\n",
    "        return 1\n",
    "    else:\n",
    "        return 0\n",
    "\n",
    "matches2['alt_two_bets'] = matches2.apply(lambda row: alt_two(row), axis=1)\n",
    "\n",
    "#Bet on all matches= alt_three but no bet column is neede for these as all are 1\n",
    "\n",
    "#Bet soley using the ml model\n",
    "def alt_four(row):\n",
    "\n",
    "    # Set bet_made to 0 if ml_preds contains 0\n",
    "    if row['ml_preds'] == 0:\n",
    "        return 0\n",
    "\n",
    "    # Set bet_made to 1 if bet has been made\n",
    "    if row['ml_preds'] == 1:\n",
    "        return 1\n",
    "    \n",
    "    \n",
    "\n",
    "matches2['alt_four_bets'] = matches2.apply(lambda row: alt_four(row), axis=1)"
   ]
  },
  {
   "cell_type": "code",
   "execution_count": 37,
   "id": "dec8836a-9c0e-4422-901a-86f00e038c0c",
   "metadata": {},
   "outputs": [],
   "source": [
    "#find the pnl for these strats\n",
    "def pnl_alt_one(row):\n",
    "    if row['alt_one_bets'] == 0:\n",
    "        return 0\n",
    "    if row['alt_one_bets'] == 1 and row['high_scoring'] == 1:\n",
    "        return row['Max>2.5'] -1\n",
    "    if row['alt_one_bets'] == 1 and row['high_scoring'] == 0:\n",
    "        return -1\n",
    "        \n",
    "def pnl_alt_two(row):\n",
    "    if row['alt_two_bets'] == 0:\n",
    "        return 0\n",
    "    if row['alt_two_bets'] == 1 and row['high_scoring'] == 1:\n",
    "        return row['Max>2.5'] -1\n",
    "    if row['alt_two_bets'] == 1 and row['high_scoring'] == 0:\n",
    "        return -1\n",
    "        \n",
    "def pnl_alt_four(row):\n",
    "    if row['alt_four_bets'] == 0:\n",
    "        return 0\n",
    "    if row['alt_four_bets'] == 1 and row['high_scoring'] == 1:\n",
    "        return row['Max>2.5'] -1\n",
    "    if row['alt_four_bets'] == 1 and row['high_scoring'] == 0:\n",
    "        return -1\n",
    "        \n",
    "def pnl_alt_three(row):\n",
    "    if row['high_scoring']==1:\n",
    "        return row['Max>2.5'] -1\n",
    "    else:\n",
    "        return -1\n"
   ]
  },
  {
   "cell_type": "code",
   "execution_count": 38,
   "id": "9fc644e7-cd14-4fce-b6fb-a302f2367597",
   "metadata": {},
   "outputs": [],
   "source": [
    "#add pnl columns for these stratergies\n",
    "matches2['pnl_alt_one'] = matches2.apply(pnl_alt_one, axis=1)\n",
    "matches2['pnl_alt_two'] = matches2.apply(pnl_alt_two, axis=1)\n",
    "matches2['pnl_alt_three'] = matches2.apply(pnl_alt_three, axis=1)\n",
    "matches2['pnl_alt_four'] = matches2.apply(pnl_alt_four, axis=1)\n",
    "\n"
   ]
  },
  {
   "cell_type": "code",
   "execution_count": 39,
   "id": "a3922d32-5bf1-4f06-99ef-63765c9e2132",
   "metadata": {},
   "outputs": [
    {
     "data": {
      "text/plain": [
       "Text(0.5, 1.0, 'PnL')"
      ]
     },
     "execution_count": 39,
     "metadata": {},
     "output_type": "execute_result"
    },
    {
     "data": {
      "image/png": "[encoded data removed]",
      "text/plain": [
       "<Figure size 640x480 with 1 Axes>"
      ]
     },
     "metadata": {},
     "output_type": "display_data"
    }
   ],
   "source": [
    "#get the pnl and plot for all 5 strats\n",
    "\n",
    "#get the pnl\n",
    "import numpy as np\n",
    "pnl_results_base = matches2.loc[:, 'pnl'].values\n",
    "pnl_results_alt_one = matches2.loc[:, 'pnl_alt_one'].values\n",
    "pnl_results_alt_two = matches2.loc[:, 'pnl_alt_two'].values\n",
    "pnl_results_alt_three = matches2.loc[:, 'pnl_alt_three'].values\n",
    "pnl_results_alt_four = matches2.loc[:, 'pnl_alt_four'].values\n",
    "\n",
    "#get cum pnl\n",
    "pnl_cumulative_base=np.cumsum(pnl_results_base)\n",
    "pnl_cumulative_alt_one=np.cumsum(pnl_results_alt_one)\n",
    "pnl_cumulative_alt_two=np.cumsum(pnl_results_alt_two)\n",
    "pnl_cumulative_alt_three=np.cumsum(pnl_results_alt_three)\n",
    "pnl_cumulative_alt_four=np.cumsum(pnl_results_alt_four)\n",
    "\n",
    "\n",
    "\n",
    "# plot a graph of pnl\n",
    "import matplotlib.pyplot as plt\n",
    "pnl_fig=plt.figure()\n",
    "plt.plot(pnl_cumulative_base, color='green',label='base')\n",
    "plt.plot(pnl_cumulative_alt_one, color='red', label='alt_one')\n",
    "plt.plot(pnl_cumulative_alt_two, color='blue', label='alt_two')\n",
    "plt.plot(pnl_cumulative_alt_three, color='yellow', label='alt_three')\n",
    "plt.plot(pnl_cumulative_alt_four, color='pink', label='alt_four')\n",
    "plt.axhline(0, color='red', linestyle='--')\n",
    "plt.legend()\n",
    "\n",
    "plt.ylabel('PnL')\n",
    "plt.title('PnL')\n"
   ]
  },
  {
   "cell_type": "code",
   "execution_count": 40,
   "id": "4a90e1e8-e4b7-4989-a368-603b2eafe73f",
   "metadata": {},
   "outputs": [],
   "source": [
    "totalpnl_base=matches2['pnl'].sum()\n",
    "totalpnl_alt_one=matches2['pnl_alt_one'].sum()\n",
    "totalpnl_alt_two=matches2['pnl_alt_two'].sum()\n",
    "totalpnl_alt_three=matches2['pnl_alt_three'].sum()\n",
    "totalpnl_alt_four=matches2['pnl_alt_four'].sum()"
   ]
  },
  {
   "cell_type": "code",
   "execution_count": 41,
   "id": "b8d0978d-fbfc-4fa7-8d16-e059101e782a",
   "metadata": {},
   "outputs": [
    {
     "data": {
      "text/plain": [
       "[-5.290000000000001,\n",
       " -12.829999999999998,\n",
       " -13.040000000000004,\n",
       " -12.63,\n",
       " -3.639999999999998]"
      ]
     },
     "execution_count": 41,
     "metadata": {},
     "output_type": "execute_result"
    }
   ],
   "source": [
    "results_vector=[totalpnl_base,totalpnl_alt_one,totalpnl_alt_two,totalpnl_alt_three,totalpnl_alt_four]\n",
    "results_vector"
   ]
  },
  {
   "cell_type": "markdown",
   "id": "00076d43-e08b-473c-9bc8-7703cf1b459d",
   "metadata": {},
   "source": [
    "Notes:\n",
    "The pure Ml model performed the best, the pure poisson model the worst, followed by betting on all matches. The poor poisson model is likley due to using last years average goal scoring and not updating with the current year. The ML model is promising however, taking an early positive position. All strats fell mid season likley due to a goal draught, the world cup occuring at this time may've had an impact of PL games."
   ]
  },
  {
   "cell_type": "markdown",
   "id": "5494d237-a07d-4d05-9394-172878ff80b4",
   "metadata": {},
   "source": [
    "## Improving the ML model ##\n",
    "As the ML model appeared promising, i shall bring in more data to train the model on and see if we can create a profitable stratergy."
   ]
  },
  {
   "cell_type": "code",
   "execution_count": 42,
   "id": "01c34ab6-90bc-4f29-9041-16a78f8136ce",
   "metadata": {},
   "outputs": [
    {
     "data": {
      "text/html": [
       "<div>\n",
       "<style scoped>\n",
       "    .dataframe tbody tr th:only-of-type {\n",
       "        vertical-align: middle;\n",
       "    }\n",
       "\n",
       "    .dataframe tbody tr th {\n",
       "        vertical-align: top;\n",
       "    }\n",
       "\n",
       "    .dataframe thead th {\n",
       "        text-align: right;\n",
       "    }\n",
       "</style>\n",
       "<table border=\"1\" class=\"dataframe\">\n",
       "  <thead>\n",
       "    <tr style=\"text-align: right;\">\n",
       "      <th></th>\n",
       "      <th>Date</th>\n",
       "      <th>Time</th>\n",
       "      <th>HomeTeam</th>\n",
       "      <th>AwayTeam</th>\n",
       "      <th>FTHG</th>\n",
       "      <th>FTAG</th>\n",
       "      <th>FTR</th>\n",
       "      <th>HTHG</th>\n",
       "      <th>HTAG</th>\n",
       "      <th>HTR</th>\n",
       "      <th>...</th>\n",
       "      <th>PCAHA</th>\n",
       "      <th>MaxCAHH</th>\n",
       "      <th>MaxCAHA</th>\n",
       "      <th>AvgCAHH</th>\n",
       "      <th>AvgCAHA</th>\n",
       "      <th>home_code</th>\n",
       "      <th>away_code</th>\n",
       "      <th>ref_code</th>\n",
       "      <th>Day_code</th>\n",
       "      <th>high_scoring</th>\n",
       "    </tr>\n",
       "  </thead>\n",
       "  <tbody>\n",
       "    <tr>\n",
       "      <th>0</th>\n",
       "      <td>2021-08-13</td>\n",
       "      <td>20:00:00</td>\n",
       "      <td>Brentford</td>\n",
       "      <td>Arsenal</td>\n",
       "      <td>2.0</td>\n",
       "      <td>0.0</td>\n",
       "      <td>H</td>\n",
       "      <td>1</td>\n",
       "      <td>0</td>\n",
       "      <td>H</td>\n",
       "      <td>...</td>\n",
       "      <td>2.13</td>\n",
       "      <td>2.05</td>\n",
       "      <td>2.17</td>\n",
       "      <td>1.80</td>\n",
       "      <td>2.09</td>\n",
       "      <td>3</td>\n",
       "      <td>0</td>\n",
       "      <td>21</td>\n",
       "      <td>4</td>\n",
       "      <td>0</td>\n",
       "    </tr>\n",
       "    <tr>\n",
       "      <th>1</th>\n",
       "      <td>2021-08-14</td>\n",
       "      <td>12:30:00</td>\n",
       "      <td>Man United</td>\n",
       "      <td>Leeds</td>\n",
       "      <td>5.0</td>\n",
       "      <td>1.0</td>\n",
       "      <td>H</td>\n",
       "      <td>1</td>\n",
       "      <td>0</td>\n",
       "      <td>H</td>\n",
       "      <td>...</td>\n",
       "      <td>1.77</td>\n",
       "      <td>2.19</td>\n",
       "      <td>1.93</td>\n",
       "      <td>2.10</td>\n",
       "      <td>1.79</td>\n",
       "      <td>16</td>\n",
       "      <td>12</td>\n",
       "      <td>27</td>\n",
       "      <td>5</td>\n",
       "      <td>1</td>\n",
       "    </tr>\n",
       "    <tr>\n",
       "      <th>2</th>\n",
       "      <td>2021-08-14</td>\n",
       "      <td>15:00:00</td>\n",
       "      <td>Burnley</td>\n",
       "      <td>Brighton</td>\n",
       "      <td>1.0</td>\n",
       "      <td>2.0</td>\n",
       "      <td>A</td>\n",
       "      <td>1</td>\n",
       "      <td>0</td>\n",
       "      <td>H</td>\n",
       "      <td>...</td>\n",
       "      <td>2.14</td>\n",
       "      <td>1.82</td>\n",
       "      <td>2.19</td>\n",
       "      <td>1.79</td>\n",
       "      <td>2.12</td>\n",
       "      <td>5</td>\n",
       "      <td>4</td>\n",
       "      <td>7</td>\n",
       "      <td>5</td>\n",
       "      <td>1</td>\n",
       "    </tr>\n",
       "    <tr>\n",
       "      <th>3</th>\n",
       "      <td>2021-08-14</td>\n",
       "      <td>15:00:00</td>\n",
       "      <td>Chelsea</td>\n",
       "      <td>Crystal Palace</td>\n",
       "      <td>3.0</td>\n",
       "      <td>0.0</td>\n",
       "      <td>H</td>\n",
       "      <td>2</td>\n",
       "      <td>0</td>\n",
       "      <td>H</td>\n",
       "      <td>...</td>\n",
       "      <td>1.81</td>\n",
       "      <td>2.16</td>\n",
       "      <td>1.93</td>\n",
       "      <td>2.06</td>\n",
       "      <td>1.82</td>\n",
       "      <td>6</td>\n",
       "      <td>7</td>\n",
       "      <td>12</td>\n",
       "      <td>5</td>\n",
       "      <td>1</td>\n",
       "    </tr>\n",
       "    <tr>\n",
       "      <th>4</th>\n",
       "      <td>2021-08-14</td>\n",
       "      <td>15:00:00</td>\n",
       "      <td>Everton</td>\n",
       "      <td>Southampton</td>\n",
       "      <td>3.0</td>\n",
       "      <td>1.0</td>\n",
       "      <td>H</td>\n",
       "      <td>0</td>\n",
       "      <td>1</td>\n",
       "      <td>A</td>\n",
       "      <td>...</td>\n",
       "      <td>1.88</td>\n",
       "      <td>2.08</td>\n",
       "      <td>1.90</td>\n",
       "      <td>2.03</td>\n",
       "      <td>1.86</td>\n",
       "      <td>8</td>\n",
       "      <td>22</td>\n",
       "      <td>0</td>\n",
       "      <td>5</td>\n",
       "      <td>1</td>\n",
       "    </tr>\n",
       "    <tr>\n",
       "      <th>...</th>\n",
       "      <td>...</td>\n",
       "      <td>...</td>\n",
       "      <td>...</td>\n",
       "      <td>...</td>\n",
       "      <td>...</td>\n",
       "      <td>...</td>\n",
       "      <td>...</td>\n",
       "      <td>...</td>\n",
       "      <td>...</td>\n",
       "      <td>...</td>\n",
       "      <td>...</td>\n",
       "      <td>...</td>\n",
       "      <td>...</td>\n",
       "      <td>...</td>\n",
       "      <td>...</td>\n",
       "      <td>...</td>\n",
       "      <td>...</td>\n",
       "      <td>...</td>\n",
       "      <td>...</td>\n",
       "      <td>...</td>\n",
       "      <td>...</td>\n",
       "    </tr>\n",
       "    <tr>\n",
       "      <th>3032</th>\n",
       "      <td>2015-05-24</td>\n",
       "      <td>NaN</td>\n",
       "      <td>Hull</td>\n",
       "      <td>Man United</td>\n",
       "      <td>0.0</td>\n",
       "      <td>0.0</td>\n",
       "      <td>D</td>\n",
       "      <td>0</td>\n",
       "      <td>0</td>\n",
       "      <td>D</td>\n",
       "      <td>...</td>\n",
       "      <td>NaN</td>\n",
       "      <td>NaN</td>\n",
       "      <td>NaN</td>\n",
       "      <td>NaN</td>\n",
       "      <td>NaN</td>\n",
       "      <td>11</td>\n",
       "      <td>16</td>\n",
       "      <td>16</td>\n",
       "      <td>6</td>\n",
       "      <td>0</td>\n",
       "    </tr>\n",
       "    <tr>\n",
       "      <th>3033</th>\n",
       "      <td>2015-05-24</td>\n",
       "      <td>NaN</td>\n",
       "      <td>Leicester</td>\n",
       "      <td>QPR</td>\n",
       "      <td>5.0</td>\n",
       "      <td>1.0</td>\n",
       "      <td>H</td>\n",
       "      <td>2</td>\n",
       "      <td>0</td>\n",
       "      <td>H</td>\n",
       "      <td>...</td>\n",
       "      <td>NaN</td>\n",
       "      <td>NaN</td>\n",
       "      <td>NaN</td>\n",
       "      <td>NaN</td>\n",
       "      <td>NaN</td>\n",
       "      <td>13</td>\n",
       "      <td>20</td>\n",
       "      <td>21</td>\n",
       "      <td>6</td>\n",
       "      <td>1</td>\n",
       "    </tr>\n",
       "    <tr>\n",
       "      <th>3034</th>\n",
       "      <td>2015-05-24</td>\n",
       "      <td>NaN</td>\n",
       "      <td>Man City</td>\n",
       "      <td>Southampton</td>\n",
       "      <td>2.0</td>\n",
       "      <td>0.0</td>\n",
       "      <td>H</td>\n",
       "      <td>1</td>\n",
       "      <td>0</td>\n",
       "      <td>H</td>\n",
       "      <td>...</td>\n",
       "      <td>NaN</td>\n",
       "      <td>NaN</td>\n",
       "      <td>NaN</td>\n",
       "      <td>NaN</td>\n",
       "      <td>NaN</td>\n",
       "      <td>15</td>\n",
       "      <td>22</td>\n",
       "      <td>4</td>\n",
       "      <td>6</td>\n",
       "      <td>0</td>\n",
       "    </tr>\n",
       "    <tr>\n",
       "      <th>3035</th>\n",
       "      <td>2015-05-24</td>\n",
       "      <td>NaN</td>\n",
       "      <td>Newcastle</td>\n",
       "      <td>West Ham</td>\n",
       "      <td>2.0</td>\n",
       "      <td>0.0</td>\n",
       "      <td>H</td>\n",
       "      <td>0</td>\n",
       "      <td>0</td>\n",
       "      <td>D</td>\n",
       "      <td>...</td>\n",
       "      <td>NaN</td>\n",
       "      <td>NaN</td>\n",
       "      <td>NaN</td>\n",
       "      <td>NaN</td>\n",
       "      <td>NaN</td>\n",
       "      <td>18</td>\n",
       "      <td>29</td>\n",
       "      <td>17</td>\n",
       "      <td>6</td>\n",
       "      <td>0</td>\n",
       "    </tr>\n",
       "    <tr>\n",
       "      <th>3036</th>\n",
       "      <td>2015-05-24</td>\n",
       "      <td>NaN</td>\n",
       "      <td>Stoke</td>\n",
       "      <td>Liverpool</td>\n",
       "      <td>6.0</td>\n",
       "      <td>1.0</td>\n",
       "      <td>H</td>\n",
       "      <td>5</td>\n",
       "      <td>0</td>\n",
       "      <td>H</td>\n",
       "      <td>...</td>\n",
       "      <td>NaN</td>\n",
       "      <td>NaN</td>\n",
       "      <td>NaN</td>\n",
       "      <td>NaN</td>\n",
       "      <td>NaN</td>\n",
       "      <td>23</td>\n",
       "      <td>14</td>\n",
       "      <td>3</td>\n",
       "      <td>6</td>\n",
       "      <td>1</td>\n",
       "    </tr>\n",
       "  </tbody>\n",
       "</table>\n",
       "<p>3037 rows × 110 columns</p>\n",
       "</div>"
      ],
      "text/plain": [
       "           Date      Time    HomeTeam        AwayTeam  FTHG  FTAG FTR  HTHG  \\\n",
       "0    2021-08-13  20:00:00   Brentford         Arsenal   2.0   0.0   H     1   \n",
       "1    2021-08-14  12:30:00  Man United           Leeds   5.0   1.0   H     1   \n",
       "2    2021-08-14  15:00:00     Burnley        Brighton   1.0   2.0   A     1   \n",
       "3    2021-08-14  15:00:00     Chelsea  Crystal Palace   3.0   0.0   H     2   \n",
       "4    2021-08-14  15:00:00     Everton     Southampton   3.0   1.0   H     0   \n",
       "...         ...       ...         ...             ...   ...   ...  ..   ...   \n",
       "3032 2015-05-24       NaN        Hull      Man United   0.0   0.0   D     0   \n",
       "3033 2015-05-24       NaN   Leicester             QPR   5.0   1.0   H     2   \n",
       "3034 2015-05-24       NaN    Man City     Southampton   2.0   0.0   H     1   \n",
       "3035 2015-05-24       NaN   Newcastle        West Ham   2.0   0.0   H     0   \n",
       "3036 2015-05-24       NaN       Stoke       Liverpool   6.0   1.0   H     5   \n",
       "\n",
       "      HTAG HTR  ... PCAHA  MaxCAHH  MaxCAHA  AvgCAHH  AvgCAHA  home_code  \\\n",
       "0        0   H  ...  2.13     2.05     2.17     1.80     2.09          3   \n",
       "1        0   H  ...  1.77     2.19     1.93     2.10     1.79         16   \n",
       "2        0   H  ...  2.14     1.82     2.19     1.79     2.12          5   \n",
       "3        0   H  ...  1.81     2.16     1.93     2.06     1.82          6   \n",
       "4        1   A  ...  1.88     2.08     1.90     2.03     1.86          8   \n",
       "...    ...  ..  ...   ...      ...      ...      ...      ...        ...   \n",
       "3032     0   D  ...   NaN      NaN      NaN      NaN      NaN         11   \n",
       "3033     0   H  ...   NaN      NaN      NaN      NaN      NaN         13   \n",
       "3034     0   H  ...   NaN      NaN      NaN      NaN      NaN         15   \n",
       "3035     0   D  ...   NaN      NaN      NaN      NaN      NaN         18   \n",
       "3036     0   H  ...   NaN      NaN      NaN      NaN      NaN         23   \n",
       "\n",
       "      away_code  ref_code  Day_code  high_scoring  \n",
       "0             0        21         4             0  \n",
       "1            12        27         5             1  \n",
       "2             4         7         5             1  \n",
       "3             7        12         5             1  \n",
       "4            22         0         5             1  \n",
       "...         ...       ...       ...           ...  \n",
       "3032         16        16         6             0  \n",
       "3033         20        21         6             1  \n",
       "3034         22         4         6             0  \n",
       "3035         29        17         6             0  \n",
       "3036         14         3         6             1  \n",
       "\n",
       "[3037 rows x 110 columns]"
      ]
     },
     "execution_count": 42,
     "metadata": {},
     "output_type": "execute_result"
    }
   ],
   "source": [
    "#read our data\n",
    "\n",
    "matches3 = pd.read_csv(\"data_14_22.csv\", parse_dates=['Date'])\n",
    "\n",
    "\n",
    "#prepare the data\n",
    "matches3[\"home_code\"]= matches3[\"HomeTeam\"].astype(\"category\").cat.codes\n",
    "matches3[\"away_code\"]= matches3[\"AwayTeam\"].astype(\"category\").cat.codes\n",
    "matches3['ref_code']=matches3['Referee'].astype(\"category\").cat.codes\n",
    "\n",
    "\n",
    "matches3['Date'] = pd.to_datetime(matches3['Date'])\n",
    "\n",
    "matches3['FTHG'] = matches3['FTHG'].astype(float)\n",
    "matches3['FTAG'] = matches3['FTAG'].astype(float)\n",
    "\n",
    "matches3[\"Day_code\"] = matches3[\"Date\"].dt.dayofweek\n",
    "matches3['high_scoring'] = (matches3['FTHG'] + matches3['FTAG'] >= 3).astype(int)\n",
    "matches3"
   ]
  },
  {
   "cell_type": "code",
   "execution_count": 43,
   "id": "7039d550-c254-447f-a7a4-a8ec3bebee25",
   "metadata": {},
   "outputs": [
    {
     "data": {
      "text/html": [
       "<style>#sk-container-id-2 {color: black;}#sk-container-id-2 pre{padding: 0;}#sk-container-id-2 div.sk-toggleable {background-color: white;}#sk-container-id-2 label.sk-toggleable__label {cursor: pointer;display: block;width: 100%;margin-bottom: 0;padding: 0.3em;box-sizing: border-box;text-align: center;}#sk-container-id-2 label.sk-toggleable__label-arrow:before {content: \"▸\";float: left;margin-right: 0.25em;color: #696969;}#sk-container-id-2 label.sk-toggleable__label-arrow:hover:before {color: black;}#sk-container-id-2 div.sk-estimator:hover label.sk-toggleable__label-arrow:before {color: black;}#sk-container-id-2 div.sk-toggleable__content {max-height: 0;max-width: 0;overflow: hidden;text-align: left;background-color: #f0f8ff;}#sk-container-id-2 div.sk-toggleable__content pre {margin: 0.2em;color: black;border-radius: 0.25em;background-color: #f0f8ff;}#sk-container-id-2 input.sk-toggleable__control:checked~div.sk-toggleable__content {max-height: 200px;max-width: 100%;overflow: auto;}#sk-container-id-2 input.sk-toggleable__control:checked~label.sk-toggleable__label-arrow:before {content: \"▾\";}#sk-container-id-2 div.sk-estimator input.sk-toggleable__control:checked~label.sk-toggleable__label {background-color: #d4ebff;}#sk-container-id-2 div.sk-label input.sk-toggleable__control:checked~label.sk-toggleable__label {background-color: #d4ebff;}#sk-container-id-2 input.sk-hidden--visually {border: 0;clip: rect(1px 1px 1px 1px);clip: rect(1px, 1px, 1px, 1px);height: 1px;margin: -1px;overflow: hidden;padding: 0;position: absolute;width: 1px;}#sk-container-id-2 div.sk-estimator {font-family: monospace;background-color: #f0f8ff;border: 1px dotted black;border-radius: 0.25em;box-sizing: border-box;margin-bottom: 0.5em;}#sk-container-id-2 div.sk-estimator:hover {background-color: #d4ebff;}#sk-container-id-2 div.sk-parallel-item::after {content: \"\";width: 100%;border-bottom: 1px solid gray;flex-grow: 1;}#sk-container-id-2 div.sk-label:hover label.sk-toggleable__label {background-color: #d4ebff;}#sk-container-id-2 div.sk-serial::before {content: \"\";position: absolute;border-left: 1px solid gray;box-sizing: border-box;top: 0;bottom: 0;left: 50%;z-index: 0;}#sk-container-id-2 div.sk-serial {display: flex;flex-direction: column;align-items: center;background-color: white;padding-right: 0.2em;padding-left: 0.2em;position: relative;}#sk-container-id-2 div.sk-item {position: relative;z-index: 1;}#sk-container-id-2 div.sk-parallel {display: flex;align-items: stretch;justify-content: center;background-color: white;position: relative;}#sk-container-id-2 div.sk-item::before, #sk-container-id-2 div.sk-parallel-item::before {content: \"\";position: absolute;border-left: 1px solid gray;box-sizing: border-box;top: 0;bottom: 0;left: 50%;z-index: -1;}#sk-container-id-2 div.sk-parallel-item {display: flex;flex-direction: column;z-index: 1;position: relative;background-color: white;}#sk-container-id-2 div.sk-parallel-item:first-child::after {align-self: flex-end;width: 50%;}#sk-container-id-2 div.sk-parallel-item:last-child::after {align-self: flex-start;width: 50%;}#sk-container-id-2 div.sk-parallel-item:only-child::after {width: 0;}#sk-container-id-2 div.sk-dashed-wrapped {border: 1px dashed gray;margin: 0 0.4em 0.5em 0.4em;box-sizing: border-box;padding-bottom: 0.4em;background-color: white;}#sk-container-id-2 div.sk-label label {font-family: monospace;font-weight: bold;display: inline-block;line-height: 1.2em;}#sk-container-id-2 div.sk-label-container {text-align: center;}#sk-container-id-2 div.sk-container {/* jupyter's `normalize.less` sets `[hidden] { display: none; }` but bootstrap.min.css set `[hidden] { display: none !important; }` so we also need the `!important` here to be able to override the default hidden behavior on the sphinx rendered scikit-learn.org. See: https://github.com/scikit-learn/scikit-learn/issues/21755 */display: inline-block !important;position: relative;}#sk-container-id-2 div.sk-text-repr-fallback {display: none;}</style><div id=\"sk-container-id-2\" class=\"sk-top-container\"><div class=\"sk-text-repr-fallback\"><pre>RandomForestClassifier(min_samples_split=10, random_state=3)</pre><b>In a Jupyter environment, please rerun this cell to show the HTML representation or trust the notebook. <br />On GitHub, the HTML representation is unable to render, please try loading this page with nbviewer.org.</b></div><div class=\"sk-container\" hidden><div class=\"sk-item\"><div class=\"sk-estimator sk-toggleable\"><input class=\"sk-toggleable__control sk-hidden--visually\" id=\"sk-estimator-id-2\" type=\"checkbox\" checked><label for=\"sk-estimator-id-2\" class=\"sk-toggleable__label sk-toggleable__label-arrow\">RandomForestClassifier</label><div class=\"sk-toggleable__content\"><pre>RandomForestClassifier(min_samples_split=10, random_state=3)</pre></div></div></div></div></div>"
      ],
      "text/plain": [
       "RandomForestClassifier(min_samples_split=10, random_state=3)"
      ]
     },
     "execution_count": 43,
     "metadata": {},
     "output_type": "execute_result"
    }
   ],
   "source": [
    "model2 = RandomForestClassifier(n_estimators=100, min_samples_split=10, random_state=3)\n",
    "predictors = [\"Day_code\",\"home_code\",\"away_code\",\"ref_code\"]  ##note b365>2.5 had to go as not in larger data set\n",
    "model.fit(matches3[predictors],matches3[\"high_scoring\"])"
   ]
  },
  {
   "cell_type": "code",
   "execution_count": 44,
   "id": "23208b90-d8df-4cd4-8789-1198f68dd784",
   "metadata": {},
   "outputs": [
    {
     "data": {
      "text/plain": [
       "0.5196078431372549"
      ]
     },
     "execution_count": 44,
     "metadata": {},
     "output_type": "execute_result"
    }
   ],
   "source": [
    "preds_ml_2 = model.predict(matches2[predictors])\n",
    "matches2[\"ml_preds_2\"]=preds_ml_2\n",
    "from sklearn.metrics import accuracy_score\n",
    "from sklearn.metrics import precision_score\n",
    "prec=precision_score(matches2[\"high_scoring\"],preds_ml_2)\n",
    "prec"
   ]
  },
  {
   "cell_type": "markdown",
   "id": "2654fc3d-a24c-4d0c-9a42-41f03cb50068",
   "metadata": {},
   "source": [
    "Lower. So more data=!better. Lets try what we were doing before but with a neural network."
   ]
  },
  {
   "cell_type": "code",
   "execution_count": null,
   "id": "d9f7b3fe-2bef-4e05-9e1b-2597bb0f85a3",
   "metadata": {},
   "outputs": [],
   "source": []
  },
  {
   "cell_type": "code",
   "execution_count": 48,
   "id": "c367d4ad-8dff-4d6e-8126-e27cc2f40dbd",
   "metadata": {},
   "outputs": [
    {
     "data": {
      "text/html": [
       "<style>#sk-container-id-4 {color: black;}#sk-container-id-4 pre{padding: 0;}#sk-container-id-4 div.sk-toggleable {background-color: white;}#sk-container-id-4 label.sk-toggleable__label {cursor: pointer;display: block;width: 100%;margin-bottom: 0;padding: 0.3em;box-sizing: border-box;text-align: center;}#sk-container-id-4 label.sk-toggleable__label-arrow:before {content: \"▸\";float: left;margin-right: 0.25em;color: #696969;}#sk-container-id-4 label.sk-toggleable__label-arrow:hover:before {color: black;}#sk-container-id-4 div.sk-estimator:hover label.sk-toggleable__label-arrow:before {color: black;}#sk-container-id-4 div.sk-toggleable__content {max-height: 0;max-width: 0;overflow: hidden;text-align: left;background-color: #f0f8ff;}#sk-container-id-4 div.sk-toggleable__content pre {margin: 0.2em;color: black;border-radius: 0.25em;background-color: #f0f8ff;}#sk-container-id-4 input.sk-toggleable__control:checked~div.sk-toggleable__content {max-height: 200px;max-width: 100%;overflow: auto;}#sk-container-id-4 input.sk-toggleable__control:checked~label.sk-toggleable__label-arrow:before {content: \"▾\";}#sk-container-id-4 div.sk-estimator input.sk-toggleable__control:checked~label.sk-toggleable__label {background-color: #d4ebff;}#sk-container-id-4 div.sk-label input.sk-toggleable__control:checked~label.sk-toggleable__label {background-color: #d4ebff;}#sk-container-id-4 input.sk-hidden--visually {border: 0;clip: rect(1px 1px 1px 1px);clip: rect(1px, 1px, 1px, 1px);height: 1px;margin: -1px;overflow: hidden;padding: 0;position: absolute;width: 1px;}#sk-container-id-4 div.sk-estimator {font-family: monospace;background-color: #f0f8ff;border: 1px dotted black;border-radius: 0.25em;box-sizing: border-box;margin-bottom: 0.5em;}#sk-container-id-4 div.sk-estimator:hover {background-color: #d4ebff;}#sk-container-id-4 div.sk-parallel-item::after {content: \"\";width: 100%;border-bottom: 1px solid gray;flex-grow: 1;}#sk-container-id-4 div.sk-label:hover label.sk-toggleable__label {background-color: #d4ebff;}#sk-container-id-4 div.sk-serial::before {content: \"\";position: absolute;border-left: 1px solid gray;box-sizing: border-box;top: 0;bottom: 0;left: 50%;z-index: 0;}#sk-container-id-4 div.sk-serial {display: flex;flex-direction: column;align-items: center;background-color: white;padding-right: 0.2em;padding-left: 0.2em;position: relative;}#sk-container-id-4 div.sk-item {position: relative;z-index: 1;}#sk-container-id-4 div.sk-parallel {display: flex;align-items: stretch;justify-content: center;background-color: white;position: relative;}#sk-container-id-4 div.sk-item::before, #sk-container-id-4 div.sk-parallel-item::before {content: \"\";position: absolute;border-left: 1px solid gray;box-sizing: border-box;top: 0;bottom: 0;left: 50%;z-index: -1;}#sk-container-id-4 div.sk-parallel-item {display: flex;flex-direction: column;z-index: 1;position: relative;background-color: white;}#sk-container-id-4 div.sk-parallel-item:first-child::after {align-self: flex-end;width: 50%;}#sk-container-id-4 div.sk-parallel-item:last-child::after {align-self: flex-start;width: 50%;}#sk-container-id-4 div.sk-parallel-item:only-child::after {width: 0;}#sk-container-id-4 div.sk-dashed-wrapped {border: 1px dashed gray;margin: 0 0.4em 0.5em 0.4em;box-sizing: border-box;padding-bottom: 0.4em;background-color: white;}#sk-container-id-4 div.sk-label label {font-family: monospace;font-weight: bold;display: inline-block;line-height: 1.2em;}#sk-container-id-4 div.sk-label-container {text-align: center;}#sk-container-id-4 div.sk-container {/* jupyter's `normalize.less` sets `[hidden] { display: none; }` but bootstrap.min.css set `[hidden] { display: none !important; }` so we also need the `!important` here to be able to override the default hidden behavior on the sphinx rendered scikit-learn.org. See: https://github.com/scikit-learn/scikit-learn/issues/21755 */display: inline-block !important;position: relative;}#sk-container-id-4 div.sk-text-repr-fallback {display: none;}</style><div id=\"sk-container-id-4\" class=\"sk-top-container\"><div class=\"sk-text-repr-fallback\"><pre>RandomForestClassifier(min_samples_split=10, random_state=3)</pre><b>In a Jupyter environment, please rerun this cell to show the HTML representation or trust the notebook. <br />On GitHub, the HTML representation is unable to render, please try loading this page with nbviewer.org.</b></div><div class=\"sk-container\" hidden><div class=\"sk-item\"><div class=\"sk-estimator sk-toggleable\"><input class=\"sk-toggleable__control sk-hidden--visually\" id=\"sk-estimator-id-4\" type=\"checkbox\" checked><label for=\"sk-estimator-id-4\" class=\"sk-toggleable__label sk-toggleable__label-arrow\">RandomForestClassifier</label><div class=\"sk-toggleable__content\"><pre>RandomForestClassifier(min_samples_split=10, random_state=3)</pre></div></div></div></div></div>"
      ],
      "text/plain": [
       "RandomForestClassifier(min_samples_split=10, random_state=3)"
      ]
     },
     "execution_count": 48,
     "metadata": {},
     "output_type": "execute_result"
    }
   ],
   "source": [
    "from sklearn.neural_network import MLPClassifier\n",
    "from sklearn.model_selection import train_test_split\n",
    "from sklearn.preprocessing import StandardScaler\n",
    "predictors = ['B365>2.5']\n",
    "target = \"high_scoring\"\n",
    "X = matches[predictors]\n",
    "y = matches[target]\n",
    "scaler = StandardScaler()\n",
    "X_train_scaled = scaler.fit_transform(X)\n",
    "model3 = MLPClassifier(hidden_layer_sizes=(1000, 500), activation=\"relu\", solver=\"adam\", random_state=42)\n",
    "model.fit(X_train_scaled, y)\n",
    "\n"
   ]
  },
  {
   "cell_type": "code",
   "execution_count": 50,
   "id": "2bb670ba-ac69-4215-b8b0-af535236b109",
   "metadata": {},
   "outputs": [
    {
     "name": "stdout",
     "output_type": "stream",
     "text": [
      "Accuracy: 0.55\n",
      "Precision: 0.5527272727272727\n"
     ]
    }
   ],
   "source": [
    "X_test = matches2[predictors]\n",
    "y_test = matches2[target]\n",
    "\n",
    "\n",
    "\n",
    "X_test_scaled = scaler.transform(X_test)\n",
    "\n",
    "accuracy = model.score(X_test_scaled, y_test)\n",
    "print(\"Accuracy:\", accuracy)\n",
    "\n",
    "y_pred = model.predict(X_test_scaled)\n",
    "matches2[\"new_ml\"] = y_pred\n",
    "\n",
    "from sklearn.metrics import precision_score\n",
    "\n",
    "precision = precision_score(y_test, y_pred)\n",
    "print(\"Precision:\", precision)\n"
   ]
  },
  {
   "cell_type": "markdown",
   "id": "279c7262-a6e8-4023-9191-a584a5422e97",
   "metadata": {},
   "source": [
    "Intersting it performs best when just working of the data of B365 betting odds."
   ]
  },
  {
   "cell_type": "code",
   "execution_count": 51,
   "id": "fc47ea0a-f65c-410d-8c9e-fe01e0b638ba",
   "metadata": {},
   "outputs": [],
   "source": [
    "#Bet soley using the new ml model\n",
    "def new_ml(row):\n",
    "\n",
    "    # Set bet_made to 0 if ml_preds contains 0\n",
    "    if row['new_ml'] == 0:\n",
    "        return 0\n",
    "\n",
    "    # Set bet_made to 1 if bet has been made\n",
    "    if row['new_ml'] == 1:\n",
    "        return 1\n",
    "matches2['pnl_new_ml'] = matches2.apply(lambda row: new_ml(row), axis=1)\n",
    "\n",
    "        \n",
    "def pnl_new_ml(row):\n",
    "    if row['new_ml'] == 0:\n",
    "        return 0\n",
    "    if row['new_ml'] == 1 and row['high_scoring'] == 1:\n",
    "        return row['Max>2.5'] -1\n",
    "    if row['new_ml'] == 1 and row['high_scoring'] == 0:\n",
    "        return -1"
   ]
  },
  {
   "cell_type": "code",
   "execution_count": 52,
   "id": "aa73e49d-3d7e-4897-a3bb-cee093795e76",
   "metadata": {},
   "outputs": [],
   "source": [
    "matches2['pnl_new_ml'] = matches2.apply(pnl_new_ml, axis=1)"
   ]
  },
  {
   "cell_type": "code",
   "execution_count": null,
   "id": "60726f79-8bc6-4a02-9747-55a8da82e98d",
   "metadata": {},
   "outputs": [],
   "source": []
  },
  {
   "cell_type": "code",
   "execution_count": 53,
   "id": "2966279a-c446-4591-bca4-e597ae14aff9",
   "metadata": {},
   "outputs": [],
   "source": [
    "pnl_results_new = matches2.loc[:, 'pnl_new_ml'].values\n",
    "pnl_cumulative_new=np.cumsum(pnl_results_new)"
   ]
  },
  {
   "cell_type": "code",
   "execution_count": 54,
   "id": "41296a9f-7dd1-405b-b3ea-d5e73e79c38e",
   "metadata": {},
   "outputs": [],
   "source": [
    "totalpnl=pnl_results_new.sum()"
   ]
  },
  {
   "cell_type": "code",
   "execution_count": 55,
   "id": "b4501542-3233-4512-998a-457bd0d6dfab",
   "metadata": {},
   "outputs": [
    {
     "data": {
      "text/plain": [
       "Text(0.5, 1.0, 'PnL')"
      ]
     },
     "execution_count": 55,
     "metadata": {},
     "output_type": "execute_result"
    },
    {
     "data": {
      "image/png": "[encoded data removed]",
      "text/plain": [
       "<Figure size 640x480 with 1 Axes>"
      ]
     },
     "metadata": {},
     "output_type": "display_data"
    }
   ],
   "source": [
    "pnl_fig=plt.figure()\n",
    "plt.plot(pnl_cumulative_new, color='green',label='base')\n",
    "plt.axhline(0, color='red', linestyle='--')\n",
    "plt.legend()\n",
    "\n",
    "plt.ylabel('PnL')\n",
    "plt.title('PnL')"
   ]
  },
  {
   "cell_type": "code",
   "execution_count": 59,
   "id": "daa1833d-cf75-4c1e-bbe9-74a3a5a30d64",
   "metadata": {},
   "outputs": [
    {
     "data": {
      "text/html": [
       "<style>#sk-container-id-7 {color: black;}#sk-container-id-7 pre{padding: 0;}#sk-container-id-7 div.sk-toggleable {background-color: white;}#sk-container-id-7 label.sk-toggleable__label {cursor: pointer;display: block;width: 100%;margin-bottom: 0;padding: 0.3em;box-sizing: border-box;text-align: center;}#sk-container-id-7 label.sk-toggleable__label-arrow:before {content: \"▸\";float: left;margin-right: 0.25em;color: #696969;}#sk-container-id-7 label.sk-toggleable__label-arrow:hover:before {color: black;}#sk-container-id-7 div.sk-estimator:hover label.sk-toggleable__label-arrow:before {color: black;}#sk-container-id-7 div.sk-toggleable__content {max-height: 0;max-width: 0;overflow: hidden;text-align: left;background-color: #f0f8ff;}#sk-container-id-7 div.sk-toggleable__content pre {margin: 0.2em;color: black;border-radius: 0.25em;background-color: #f0f8ff;}#sk-container-id-7 input.sk-toggleable__control:checked~div.sk-toggleable__content {max-height: 200px;max-width: 100%;overflow: auto;}#sk-container-id-7 input.sk-toggleable__control:checked~label.sk-toggleable__label-arrow:before {content: \"▾\";}#sk-container-id-7 div.sk-estimator input.sk-toggleable__control:checked~label.sk-toggleable__label {background-color: #d4ebff;}#sk-container-id-7 div.sk-label input.sk-toggleable__control:checked~label.sk-toggleable__label {background-color: #d4ebff;}#sk-container-id-7 input.sk-hidden--visually {border: 0;clip: rect(1px 1px 1px 1px);clip: rect(1px, 1px, 1px, 1px);height: 1px;margin: -1px;overflow: hidden;padding: 0;position: absolute;width: 1px;}#sk-container-id-7 div.sk-estimator {font-family: monospace;background-color: #f0f8ff;border: 1px dotted black;border-radius: 0.25em;box-sizing: border-box;margin-bottom: 0.5em;}#sk-container-id-7 div.sk-estimator:hover {background-color: #d4ebff;}#sk-container-id-7 div.sk-parallel-item::after {content: \"\";width: 100%;border-bottom: 1px solid gray;flex-grow: 1;}#sk-container-id-7 div.sk-label:hover label.sk-toggleable__label {background-color: #d4ebff;}#sk-container-id-7 div.sk-serial::before {content: \"\";position: absolute;border-left: 1px solid gray;box-sizing: border-box;top: 0;bottom: 0;left: 50%;z-index: 0;}#sk-container-id-7 div.sk-serial {display: flex;flex-direction: column;align-items: center;background-color: white;padding-right: 0.2em;padding-left: 0.2em;position: relative;}#sk-container-id-7 div.sk-item {position: relative;z-index: 1;}#sk-container-id-7 div.sk-parallel {display: flex;align-items: stretch;justify-content: center;background-color: white;position: relative;}#sk-container-id-7 div.sk-item::before, #sk-container-id-7 div.sk-parallel-item::before {content: \"\";position: absolute;border-left: 1px solid gray;box-sizing: border-box;top: 0;bottom: 0;left: 50%;z-index: -1;}#sk-container-id-7 div.sk-parallel-item {display: flex;flex-direction: column;z-index: 1;position: relative;background-color: white;}#sk-container-id-7 div.sk-parallel-item:first-child::after {align-self: flex-end;width: 50%;}#sk-container-id-7 div.sk-parallel-item:last-child::after {align-self: flex-start;width: 50%;}#sk-container-id-7 div.sk-parallel-item:only-child::after {width: 0;}#sk-container-id-7 div.sk-dashed-wrapped {border: 1px dashed gray;margin: 0 0.4em 0.5em 0.4em;box-sizing: border-box;padding-bottom: 0.4em;background-color: white;}#sk-container-id-7 div.sk-label label {font-family: monospace;font-weight: bold;display: inline-block;line-height: 1.2em;}#sk-container-id-7 div.sk-label-container {text-align: center;}#sk-container-id-7 div.sk-container {/* jupyter's `normalize.less` sets `[hidden] { display: none; }` but bootstrap.min.css set `[hidden] { display: none !important; }` so we also need the `!important` here to be able to override the default hidden behavior on the sphinx rendered scikit-learn.org. See: https://github.com/scikit-learn/scikit-learn/issues/21755 */display: inline-block !important;position: relative;}#sk-container-id-7 div.sk-text-repr-fallback {display: none;}</style><div id=\"sk-container-id-7\" class=\"sk-top-container\"><div class=\"sk-text-repr-fallback\"><pre>RandomForestClassifier(min_samples_split=10, random_state=4)</pre><b>In a Jupyter environment, please rerun this cell to show the HTML representation or trust the notebook. <br />On GitHub, the HTML representation is unable to render, please try loading this page with nbviewer.org.</b></div><div class=\"sk-container\" hidden><div class=\"sk-item\"><div class=\"sk-estimator sk-toggleable\"><input class=\"sk-toggleable__control sk-hidden--visually\" id=\"sk-estimator-id-7\" type=\"checkbox\" checked><label for=\"sk-estimator-id-7\" class=\"sk-toggleable__label sk-toggleable__label-arrow\">RandomForestClassifier</label><div class=\"sk-toggleable__content\"><pre>RandomForestClassifier(min_samples_split=10, random_state=4)</pre></div></div></div></div></div>"
      ],
      "text/plain": [
       "RandomForestClassifier(min_samples_split=10, random_state=4)"
      ]
     },
     "execution_count": 59,
     "metadata": {},
     "output_type": "execute_result"
    }
   ],
   "source": [
    "model3 = RandomForestClassifier(n_estimators=100, min_samples_split=10, random_state=4)\n",
    "predictors =['B365>2.5']\n",
    "model3.fit(matches[predictors],matches[\"high_scoring\"])"
   ]
  },
  {
   "cell_type": "code",
   "execution_count": 63,
   "id": "785cdebb-6413-40a3-b45e-6e0df76549b1",
   "metadata": {},
   "outputs": [],
   "source": [
    "preds_ml_3 = model.predict(matches2[predictors])\n",
    "matches2[\"final_ml\"]=preds_ml_3\n",
    "from sklearn.metrics import accuracy_score\n",
    "from sklearn.metrics import precision_score\n",
    "prec=precision_score(matches2[\"high_scoring\"],preds_ml_3)"
   ]
  },
  {
   "cell_type": "code",
   "execution_count": 64,
   "id": "7438fd5e-1edc-4038-a78d-95350478e8b9",
   "metadata": {},
   "outputs": [
    {
     "data": {
      "text/plain": [
       "0.5467625899280576"
      ]
     },
     "execution_count": 64,
     "metadata": {},
     "output_type": "execute_result"
    }
   ],
   "source": [
    "prec"
   ]
  },
  {
   "cell_type": "code",
   "execution_count": 65,
   "id": "8eec5d45-4d7e-466c-ae6a-5a4aed62fb79",
   "metadata": {},
   "outputs": [
    {
     "data": {
      "text/plain": [
       "Text(0.5, 1.0, 'PnL')"
      ]
     },
     "execution_count": 65,
     "metadata": {},
     "output_type": "execute_result"
    },
    {
     "data": {
      "image/png": "[encoded data removed]",
      "text/plain": [
       "<Figure size 640x480 with 1 Axes>"
      ]
     },
     "metadata": {},
     "output_type": "display_data"
    }
   ],
   "source": [
    "#Bet soley using the new ml model\n",
    "def final_ml(row):\n",
    "\n",
    "    # Set bet_made to 0 if ml_preds contains 0\n",
    "    if row['final_ml'] == 0:\n",
    "        return 0\n",
    "\n",
    "    # Set bet_made to 1 if bet has been made\n",
    "    if row['final_ml'] == 1:\n",
    "        return 1\n",
    "matches2['pnl_final_ml'] = matches2.apply(lambda row: final_ml(row), axis=1)\n",
    "\n",
    "        \n",
    "def pnl_final_ml(row):\n",
    "    if row['final_ml'] == 0:\n",
    "        return 0\n",
    "    if row['final_ml'] == 1 and row['high_scoring'] == 1:\n",
    "        return row['Max>2.5'] -1\n",
    "    if row['final_ml'] == 1 and row['high_scoring'] == 0:\n",
    "        return -1\n",
    "matches2['pnl_final_ml'] = matches2.apply(pnl_final_ml, axis=1)\n",
    "pnl_results_final = matches2.loc[:, 'pnl_final_ml'].values\n",
    "pnl_cumulative_final=np.cumsum(pnl_results_final)\n",
    "totalpnl=pnl_results_final.sum()\n",
    "pnl_fig=plt.figure()\n",
    "plt.plot(pnl_cumulative_final, color='green',label='base')\n",
    "plt.axhline(0, color='red', linestyle='--')\n",
    "plt.legend()\n",
    "\n",
    "plt.ylabel('PnL')\n",
    "plt.title('PnL')\n"
   ]
  },
  {
   "cell_type": "code",
   "execution_count": null,
   "id": "30d12487-58a4-4dfe-b8c6-3fc396e5889f",
   "metadata": {},
   "outputs": [],
   "source": []
  }
 ],
 "metadata": {
  "kernelspec": {
   "display_name": "Python 3 (ipykernel)",
   "language": "python",
   "name": "python3"
  },
  "language_info": {
   "codemirror_mode": {
    "name": "ipython",
    "version": 3
   },
   "file_extension": ".py",
   "mimetype": "text/x-python",
   "name": "python",
   "nbconvert_exporter": "python",
   "pygments_lexer": "ipython3",
   "version": "3.10.6"
  }
 },
 "nbformat": 4,
 "nbformat_minor": 5
}
